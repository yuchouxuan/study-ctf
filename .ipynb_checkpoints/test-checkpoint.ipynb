{
 "cells": [
  {
   "cell_type": "code",
   "execution_count": 10,
   "metadata": {},
   "outputs": [
    {
     "name": "stdout",
     "output_type": "stream",
     "text": [
      "Len :  99775\n",
      "Chr :  83\n",
      "ChrF:  ['G', 'X', 'Y', '{', 'g', 'a', 'k', 'i', '_', 'I', 's', 'M', 'y', 'w', '1', 'f', 'e', '}', 'D', 'A', 'Q', 'O', 'W', 'J', 'H', 'N', 'S', 'E', 'K', 'U', 'P', '*', 'Z', '&', '8', '#', '2', '9', '4', 'B', 'C', '%', '^', 'V', '$', '3', '@', ')', '(', 'R', '-', 'F', 'T', '0', '5', '=', 'L', '7', '6', 'o', 'h', 'q', 'd', 'u', 'j', 'l', 'm', 'c', 'z', 'x', 'n', 'p', 'b', 'v', 't', 'r', '!', '[', ';', ',', '.', ' ', \"'\"]\n",
      "ChrO:  [' ', '!', '#', '$', '%', '&', \"'\", '(', ')', '*', ',', '-', '.', '0', '1', '2', '3', '4', '5', '6', '7', '8', '9', ';', '=', '@', 'A', 'B', 'C', 'D', 'E', 'F', 'G', 'H', 'I', 'J', 'K', 'L', 'M', 'N', 'O', 'P', 'Q', 'R', 'S', 'T', 'U', 'V', 'W', 'X', 'Y', 'Z', '[', '^', '_', 'a', 'b', 'c', 'd', 'e', 'f', 'g', 'h', 'i', 'j', 'k', 'l', 'm', 'n', 'o', 'p', 'q', 'r', 's', 't', 'u', 'v', 'w', 'x', 'y', 'z', '{', '}']\n"
     ]
    },
    {
     "data": {
      "text/plain": [
       "[('G', 2508),\n",
       " ('X', 2481),\n",
       " ('Y', 2453),\n",
       " ('{', 2301),\n",
       " ('g', 2221),\n",
       " ('a', 2087),\n",
       " ('k', 1981),\n",
       " ('i', 1797),\n",
       " ('_', 1531),\n",
       " ('I', 1448),\n",
       " ('s', 1402),\n",
       " ('M', 1398),\n",
       " ('y', 1389),\n",
       " ('w', 1386),\n",
       " ('1', 1376),\n",
       " ('f', 1373),\n",
       " ('e', 1372),\n",
       " ('}', 1264),\n",
       " ('D', 1164),\n",
       " ('A', 1164),\n",
       " ('Q', 1163),\n",
       " ('O', 1163),\n",
       " ('W', 1163),\n",
       " ('J', 1162),\n",
       " ('H', 1161),\n",
       " ('N', 1160),\n",
       " ('S', 1160),\n",
       " ('E', 1160),\n",
       " ('K', 1160),\n",
       " ('U', 1160),\n",
       " ('P', 1159),\n",
       " ('*', 1158),\n",
       " ('Z', 1158),\n",
       " ('&', 1158),\n",
       " ('8', 1158),\n",
       " ('#', 1157),\n",
       " ('2', 1157),\n",
       " ('9', 1157),\n",
       " ('4', 1157),\n",
       " ('B', 1157),\n",
       " ('C', 1157),\n",
       " ('%', 1157),\n",
       " ('^', 1157),\n",
       " ('V', 1156),\n",
       " ('$', 1156),\n",
       " ('3', 1156),\n",
       " ('@', 1156),\n",
       " (')', 1156),\n",
       " ('(', 1156),\n",
       " ('R', 1156),\n",
       " ('-', 1156),\n",
       " ('F', 1156),\n",
       " ('T', 1156),\n",
       " ('0', 1155),\n",
       " ('5', 1155),\n",
       " ('=', 1155),\n",
       " ('L', 1155),\n",
       " ('7', 1155),\n",
       " ('6', 1155),\n",
       " ('o', 1151),\n",
       " ('h', 1151),\n",
       " ('q', 1150),\n",
       " ('d', 1148),\n",
       " ('u', 1147),\n",
       " ('j', 1146),\n",
       " ('l', 1144),\n",
       " ('m', 1143),\n",
       " ('c', 1143),\n",
       " ('z', 1143),\n",
       " ('x', 1143),\n",
       " ('n', 1143),\n",
       " ('p', 1143),\n",
       " ('b', 1142),\n",
       " ('v', 1141),\n",
       " ('t', 1141),\n",
       " ('r', 1140),\n",
       " ('!', 1058),\n",
       " ('[', 4),\n",
       " (';', 3),\n",
       " (',', 3),\n",
       " ('.', 1),\n",
       " (' ', 1),\n",
       " (\"'\", 1)]"
      ]
     },
     "execution_count": 10,
     "metadata": {},
     "output_type": "execute_result"
    },
    {
     "ename": "",
     "evalue": "",
     "output_type": "error",
     "traceback": [
      "\u001b[1;31mThe Kernel crashed while executing code in the the current cell or a previous cell. Please review the code in the cell(s) to identify a possible cause of the failure. Click <a href='https://aka.ms/vscodeJupyterKernelCrash'>here</a> for more info. View Jupyter <a href='command:jupyter.viewOutput'>log</a> for further details."
     ]
    }
   ],
   "source": [
    "import utfc.EZcry as ec , utfc.StrFunc as stf \n",
    "with open('z:/ctf/flag.txt','r') as c : \n",
    "    flag = c.read()\n",
    "stf.CharF.strInf(flag)\n"
   ]
  },
  {
   "cell_type": "code",
   "execution_count": 31,
   "metadata": {},
   "outputs": [
    {
     "data": {
      "text/plain": [
       "<Axes: >"
      ]
     },
     "execution_count": 31,
     "metadata": {},
     "output_type": "execute_result"
    },
    {
     "data": {
      "image/png": "[encoded data removed]",
      "text/plain": [
       "<Figure size 640x480 with 1 Axes>"
      ]
     },
     "metadata": {},
     "output_type": "display_data"
    }
   ],
   "source": [
    "from sklearn.metrics import confusion_matrix\n",
    "import matplotlib.pyplot as plt \n",
    "rc = {'font.sans-serif': 'SimHei','axes.unicode_minus': False}\n",
    "C1= confusion_matrix(y, yt)\n",
    "import seaborn as sns\n",
    "sns.set(context='notebook', style='ticks', rc=rc)\n",
    "sns.heatmap(C1,fmt='g',annot=True,cbar=False,xticklabels=['正常','虚开'], yticklabels=['正常','虚开']) \n"
   ]
  },
  {
   "cell_type": "code",
   "execution_count": 32,
   "metadata": {},
   "outputs": [
    {
     "name": "stdout",
     "output_type": "stream",
     "text": [
      "              precision    recall  f1-score   support\n",
      "\n",
      "       False    0.93220   0.78199   0.85052       211\n",
      "        True    0.62602   0.86517   0.72642        89\n",
      "\n",
      "    accuracy                        0.80667       300\n",
      "   macro avg    0.77911   0.82358   0.78847       300\n",
      "weighted avg    0.84137   0.80667   0.81370       300\n",
      "\n"
     ]
    }
   ],
   "source": [
    "from sklearn.metrics import classification_report\n",
    "print(classification_report(y, yt,digits=5))"
   ]
  },
  {
   "cell_type": "code",
   "execution_count": 55,
   "metadata": {},
   "outputs": [
    {
     "data": {
      "text/plain": [
       "{'123': 1}"
      ]
     },
     "execution_count": 55,
     "metadata": {},
     "output_type": "execute_result"
    }
   ],
   "source": [
    "import glob ,re\n",
    "files = glob.glob('z:/*.txt')\n",
    "phondic={}\n",
    "for filename in files:\n",
    "    with open(filename,'r',encoding='utf-8') as inf:\n",
    "        nsrxx=inf.read()\n",
    "        pnum=re.findall('电话号码：(.*)；', nsrxx)\n",
    "        if len(pnum)!=0 and pnum[0]!='':\n",
    "            if pnum[0] in phondic:\n",
    "                phondic[pnum[0]] +=1 \n",
    "            else :\n",
    "                phondic[pnum[0]] =1\n",
    "phondic "
   ]
  }
 ],
 "metadata": {
  "kernelspec": {
   "display_name": "Python 3 (ipykernel)",
   "language": "python",
   "name": "python3"
  },
  "language_info": {
   "codemirror_mode": {
    "name": "ipython",
    "version": 3
   },
   "file_extension": ".py",
   "mimetype": "text/x-python",
   "name": "python",
   "nbconvert_exporter": "python",
   "pygments_lexer": "ipython3",
   "version": "3.10.8"
  },
  "vscode": {
   "interpreter": {
    "hash": "3bd13bc16400e16874b7ce28af58a129343287e94248a182c1f06fbb6b76ef8e"
   }
  }
 },
 "nbformat": 4,
 "nbformat_minor": 4
}
