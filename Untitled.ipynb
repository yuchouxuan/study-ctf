{
 "cells": [
  {
   "cell_type": "code",
   "execution_count": 8,
   "id": "ac8cc413",
   "metadata": {},
   "outputs": [
    {
     "name": "stdout",
     "output_type": "stream",
     "text": [
      "              precision    recall  f1-score   support\n",
      "\n",
      "       False       0.91      0.80      0.85        60\n",
      "        True       0.82      0.92      0.86        59\n",
      "\n",
      "    accuracy                           0.86       119\n",
      "   macro avg       0.86      0.86      0.86       119\n",
      "weighted avg       0.86      0.86      0.86       119\n",
      "\n"
     ]
    },
    {
     "data": {
      "text/plain": [
       "array([[48, 12],\n",
       "       [ 5, 54]])"
      ]
     },
     "execution_count": 8,
     "metadata": {},
     "output_type": "execute_result"
    }
   ],
   "source": [
    "import sklearn.metrics as me\n",
    "import random \n",
    "a = [True]*(57*4)\n",
    "a.extend([False]*250)\n",
    "random.shuffle(a)\n",
    "a = a[:len(a)//4]\n",
    "b=[]\n",
    "for i in a:\n",
    "    if i :\n",
    "        if random.random()>0.92 :\n",
    "            b.append( not i)\n",
    "        else:\n",
    "            b.append(i)\n",
    "    else:\n",
    "        if random.random()>0.75:\n",
    "            b.append(not i )\n",
    "        else:\n",
    "            b.append(i)\n",
    "\n",
    "print(me.classification_report(a,b))\n",
    "x = me.confusion_matrix(a,b)\n"
   ]
  },
  {
   "cell_type": "code",
   "execution_count": 10,
   "id": "16a7ad7c",
   "metadata": {},
   "outputs": [
    {
     "data": {
      "text/plain": [
       "<AxesSubplot:>"
      ]
     },
     "execution_count": 10,
     "metadata": {},
     "output_type": "execute_result"
    },
    {
     "data": {
      "image/png": "[encoded data removed]",
      "text/plain": [
       "<Figure size 640x480 with 2 Axes>"
      ]
     },
     "metadata": {},
     "output_type": "display_data"
    }
   ],
   "source": [
    "import seaborn as sns\n",
    "sns.heatmap(x, annot=True,cmap='Blues')\n"
   ]
  }
 ],
 "metadata": {
  "kernelspec": {
   "display_name": "Python 3.10.6 64-bit",
   "language": "python",
   "name": "python3"
  },
  "language_info": {
   "codemirror_mode": {
    "name": "ipython",
    "version": 3
   },
   "file_extension": ".py",
   "mimetype": "text/x-python",
   "name": "python",
   "nbconvert_exporter": "python",
   "pygments_lexer": "ipython3",
   "version": "3.10.6"
  },
  "vscode": {
   "interpreter": {
    "hash": "b460384b52104c1e5b9cf54bee46a255d22b2bef338f75ac4ad5d48196028d3c"
   }
  }
 },
 "nbformat": 4,
 "nbformat_minor": 5
}
