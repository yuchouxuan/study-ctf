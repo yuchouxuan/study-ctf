{
 "cells": [
  {
   "cell_type": "code",
   "execution_count": 58,
   "id": "67a347e9",
   "metadata": {},
   "outputs": [
    {
     "data": {
      "text/plain": [
       "(tensor([[0., 0., 0.,  ..., -0., -0., -0.]]), 96000)"
      ]
     },
     "execution_count": 58,
     "metadata": {},
     "output_type": "execute_result"
    }
   ],
   "source": [
    "import torch,torchaudio as ta \n",
    "filedat = ta.load('z:/ctf/tst.wav')\n",
    "wavdat = filedat[0][0]\n",
    "wavdat*=0 \n",
    "# filedat[0][0].extend([0,2,3])\n",
    "filedat"
   ]
  },
  {
   "cell_type": "code",
   "execution_count": 66,
   "id": "590a0936",
   "metadata": {},
   "outputs": [],
   "source": [
    "ta.save('z:/ctf/t.wav', torch.rand([1,96000]),96000)"
   ]
  },
  {
   "cell_type": "code",
   "execution_count": 61,
   "id": "5a694021",
   "metadata": {},
   "outputs": [
    {
     "data": {
      "text/plain": [
       "tensor([[0.3750, 0.7481, 0.3211, 0.3020, 0.5293, 0.6072, 0.3542, 0.8419, 0.1306,\n",
       "         0.2901, 0.8458, 0.3841, 0.5562, 0.7714, 0.0131, 0.1525, 0.7881, 0.8378,\n",
       "         0.3574, 0.2794, 0.9405, 0.0648, 0.0494, 0.3252, 0.4399, 0.0086, 0.1098,\n",
       "         0.5800, 0.0662, 0.6725, 0.5970, 0.7289, 0.0313, 0.4197, 0.1849, 0.2598,\n",
       "         0.5206, 0.2099, 0.5476, 0.2766, 0.5785, 0.9732, 0.7813, 0.5438, 0.7094,\n",
       "         0.3642, 0.0557, 0.6474, 0.8379, 0.9671, 0.0958, 0.1869, 0.9452, 0.2118,\n",
       "         0.8728, 0.2571, 0.3298, 0.3927, 0.3417, 0.2890, 0.2246, 0.9395, 0.4853,\n",
       "         0.6567, 0.2491, 0.5494, 0.9068, 0.0045, 0.0329, 0.8890, 0.1833, 0.2683,\n",
       "         0.2013, 0.9132, 0.6207, 0.7446, 0.6783, 0.2620, 0.4356, 0.8462, 0.5292,\n",
       "         0.7622, 0.0228, 0.0045, 0.9776, 0.7726, 0.2872, 0.7413, 0.6660, 0.9179,\n",
       "         0.1727, 0.3887, 0.0678, 0.8090, 0.3906, 0.4613, 0.7180, 0.2767, 0.0435,\n",
       "         0.3918]])"
      ]
     },
     "execution_count": 61,
     "metadata": {},
     "output_type": "execute_result"
    }
   ],
   "source": [
    "torch.rand(1,100)"
   ]
  }
 ],
 "metadata": {
  "kernelspec": {
   "display_name": "Python 3",
   "language": "python",
   "name": "python3"
  },
  "language_info": {
   "codemirror_mode": {
    "name": "ipython",
    "version": 3
   },
   "file_extension": ".py",
   "mimetype": "text/x-python",
   "name": "python",
   "nbconvert_exporter": "python",
   "pygments_lexer": "ipython3",
   "version": "3.10.8"
  },
  "vscode": {
   "interpreter": {
    "hash": "3bd13bc16400e16874b7ce28af58a129343287e94248a182c1f06fbb6b76ef8e"
   }
  }
 },
 "nbformat": 4,
 "nbformat_minor": 5
}
