{
 "cells": [
  {
   "cell_type": "markdown",
   "metadata": {},
   "source": [
    "# 扩展维纳攻击\n"
   ]
  },
  {
   "cell_type": "code",
   "execution_count": null,
   "metadata": {},
   "outputs": [],
   "source": [
    "#要用sagemath\n",
    "n=2 \n",
    "e1 = ...\n",
    "e2 = ...\n",
    "N = ...\n",
    "a = 5/14\n",
    "D = diagonal_matrix(ZZ, [N, int(N^(1/2)), int(N^(1+a)), 1])\n",
    "M = matrix(ZZ, [[1, -N, 0, N^2], [0, e1, -e1, -e1*N], [0, 0, e2, -e2*N], [0, 0, 0, e1*e2]])*D\n",
    "L = M.LLL()\n",
    "t = vector(ZZ, L[0])\n",
    "x = t * M^(-1)\n",
    "phi = int(x[1]/x[0]*e1)"
   ]
  },
  {
   "cell_type": "markdown",
   "metadata": {},
   "source": [
    "# 羊城2020 RRRRRRsa\n"
   ]
  },
  {
   "cell_type": "markdown",
   "metadata": {},
   "source": [
    "##\n",
    " ```Python\n",
    "import hashlib\n",
    "import sympy\n",
    "from Crypto.Util.number import *\n",
    "\n",
    "flag = 'GWHT{************}'\n",
    "\n",
    "flag1 = flag[:19].encode()  #两截flag\n",
    "flag2 = flag[19:].encode()\n",
    "assert(len(flag) == 38)\n",
    "\n",
    "P1 = getPrime(1038)\n",
    "P2 = sympy.nextprime(P1)  #p2>p1\n",
    "assert(P2 - P1 < 1000)\n",
    "\n",
    "Q1 = getPrime(512)\n",
    "Q2 = sympy.nextprime(Q1)  #q2>q1\n",
    "\n",
    "N1 = P1 * P1 * Q1\n",
    "N2 = P2 * P2 * Q2\n",
    "\n",
    "E1 = getPrime(1024)\n",
    "E2 = sympy.nextprime(E1)\n",
    "\n",
    "m1 = bytes_to_long(flag1)\n",
    "m2 = bytes_to_long(flag2)\n",
    "\n",
    "c1 = pow(m1, E1, N1)\n",
    "c2 = pow(m2, E2, N2)\n",
    "\n",
    "\n",
    "output = open('secret', 'w')\n",
    "output.write('N1=' + str(N1) + '\\n')\n",
    "output.write('c1=' + str(c1) + '\\n')\n",
    "output.write('E1=' + str(E1) + '\\n')\n",
    "output.write('N2=' + str(N2) + '\\n')\n",
    "output.write('c2=' + str(c2) + '\\n')\n",
    "output.write('E2=' + str(E2) + '\\n')\n",
    "```"
   ]
  },
  {
   "cell_type": "code",
   "execution_count": null,
   "metadata": {},
   "outputs": [],
   "source": [
    "def continuedFra(x, y):    #辗转相除，把x/y转化为连分数形式\n",
    "    cF = []\n",
    "    while y:\n",
    "        cF += [x // y]\n",
    "        x, y = y, x % y\n",
    "    return cF\n",
    "def Simplify(ctnf):\n",
    "    numerator = 0\n",
    "    denominator = 1\n",
    "    for x in ctnf[::-1]:\n",
    "        numerator, denominator = denominator, x * denominator + numerator\n",
    "    return (numerator, denominator)\n",
    "def getit(c):\n",
    "    cf=[]\n",
    "    for i in range(1,len(c)):\n",
    "        cf.append(Simplify(c[:i]))\n",
    "    return cf\n",
    "#求渐进分数\n",
    "def wienerAttack(e, n):\n",
    "    cf=continuedFra(e,n)\n",
    "    for (p2,p1) in getit(cf):\n",
    "        if p1 == 0:\n",
    "            continue\n",
    "        if N1%p1==0 and p1!=1:\n",
    "            return p1\n",
    "    print('not find!')\n",
    "q1=wienerAttack(N1,N2)\n",
    "#p1=11628371843051760370952910026406764366191062991235308941262037248377376991693250742343307155422036713746576338866595433599862614339347536916226536644210947\n",
    "print(q1)\n",
    "p1=gmpy2.iroot(N1//q1,2)[0]\n",
    "p2=gmpy2.next_prime(p1)\n",
    "q2=gmpy2.next_prime(q1)\n",
    "phi1=p1*(p1-1)*(q1-1)\n",
    "phi2=p2*(p2-1)*(q2-1)\n",
    "d1=gmpy2.invert(E1,phi1)\n",
    "d2=gmpy2.invert(E2,phi2)\n",
    "m1=number.long_to_bytes(gmpy2.powmod(c1,d1,N1))\n",
    "m2=number.long_to_bytes(gmpy2.powmod(c2,d2,N2))\n",
    "print((m1+m2))"
   ]
  }
 ],
 "metadata": {
  "language_info": {
   "name": "python"
  },
  "orig_nbformat": 4
 },
 "nbformat": 4,
 "nbformat_minor": 2
}
