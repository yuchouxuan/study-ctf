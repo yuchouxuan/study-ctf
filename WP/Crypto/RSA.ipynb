{
 "cells": [
  {
   "cell_type": "markdown",
   "metadata": {
    "collapsed": true,
    "pycharm": {
     "name": "#%%\n"
    }
   },
   "source": [
    "# 2018 CodeGate CTF Rsababy\n",
    "```\n",
    "e = 65537\n",
    "n = p * q\n",
    "pi_n = (p-1)*(q-1)\n",
    "d = mulinv(e, pi_n)\n",
    "h = (d+p)^(d-p)\n",
    "g = d*(p-0xdeadbeef) \n",
    "```"
   ]
  },
  {
   "cell_type": "code",
   "execution_count": null,
   "metadata": {},
   "outputs": [],
   "source": [
    "import gmpy2\n",
    "tmp = gmpy2.powmod(2,e*g+const-1,n)-1\n",
    "p = gmpy2.gcd(tmp,n)\n",
    "q = n/p\n",
    "phin = (p-1)*(q-1)\n",
    "d =gmpy2.invert(e,phin)\n",
    "plain = gmpy2.powmod(data,d,n)\n",
    "print hex(plain)[2:].decode('hex')"
   ]
  },
  {
   "cell_type": "markdown",
   "metadata": {},
   "source": [
    "# pure math\n",
    "```\n",
    "x1 = p ** p % q = 1137973316343089029387365135250835133803...\n",
    "x2 = q ** q % p = 690138318447775632458465146489574...\n",
    "p_q = (p ** q + q ** p) % (p*q) = 1679128739149489302403168869936088599618...\n",
    "x4 = (p+q) ** (p+q) % (p*q) = 6311221186088915372900340138162106819090643...\n",
    "c = FLAG ** 31337 % (p*q) = 693124329174617958961214811891167024442792887588...\n",
    "```\n"
   ]
  },
  {
   "cell_type": "code",
   "execution_count": null,
   "metadata": {},
   "outputs": [],
   "source": [
    "import gmpy2\n",
    "if (x4 - x1 * p_q) % (x2 - x1) == 0:\n",
    "    print 'True'\n",
    "q = (x4 - x1 * p_q) / (x2 - x1)\n",
    "print q\n",
    "p = p_q - q\n",
    "phin = (p - 1) * (q - 1)\n",
    "d = gmpy2.invert(31337, phin)\n",
    "flag = gmpy2.powmod(c, d, p * q)\n",
    "flag = hex(flag)[2:]\n",
    "print flag.decode('hex')"
   ]
  }
 ],
 "metadata": {
  "kernelspec": {
   "display_name": "Python 3",
   "language": "python",
   "name": "python3"
  },
  "language_info": {
   "codemirror_mode": {
    "name": "ipython",
    "version": 2
   },
   "file_extension": ".py",
   "mimetype": "text/x-python",
   "name": "python",
   "nbconvert_exporter": "python",
   "pygments_lexer": "ipython2",
   "version": "3.10.8 (main, Oct 13 2022, 10:17:43) [Clang 14.0.0 (clang-1400.0.29.102)]"
  },
  "vscode": {
   "interpreter": {
    "hash": "aee8b7b246df8f9039afb4144a1f6fd8d2ca17a180786b69acc140d282b71a49"
   }
  }
 },
 "nbformat": 4,
 "nbformat_minor": 0
}
