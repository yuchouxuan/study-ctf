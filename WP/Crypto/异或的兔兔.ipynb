{
 "cells": [
  {
   "cell_type": "code",
   "execution_count": null,
   "metadata": {},
   "outputs": [],
   "source": [
    "import gmpy2 \n",
    "gmpy2.next_prime(1430),gmpy2.next_prime(750)\n",
    "import uuid \n",
    "uuid.uuid4()\n",
    "# flag='ctfshow{6d83b2f1-1241-4b25-9c1c-0a4c218f6c5f}'\n",
    "import gmpy2,tqdm.notebook as tqdm \n",
    "\n",
    "gmpy2.fib(1)\n",
    "dicx ={}\n",
    "for i in tqdm.trange(10,200000):\n",
    "    num=int(gmpy2.fib(i)) &0xff\n",
    "    if num in dicx:\n",
    "        dicx[num].add(i) \n",
    "    else:\n",
    "        dicx[num]={i}\n"
   ]
  },
  {
   "cell_type": "code",
   "execution_count": null,
   "metadata": {},
   "outputs": [],
   "source": [
    "dixcX = {i:set() for i in range(32,127)}\n",
    "for i in dicx:\n",
    "    for j in  dicx :\n",
    "        if i^j in dixcX :\n",
    "            dixcX[i^j].add((i,j))\n",
    "for i in dixcX:\n",
    "    print(chr(i),len(dixcX[i]),dixcX[i])"
   ]
  },
  {
   "cell_type": "code",
   "execution_count": null,
   "metadata": {},
   "outputs": [],
   "source": [
    "import random \n",
    "flaglist=[]\n",
    "flag= b'ctfshow{6d83b2f1-1241-4b25-9c1c-0a4c218f6c5f}'\n",
    "for i in flag:\n",
    "    # print(chr(i),end=' |')\n",
    "    round1 = random.choice(list(dixcX[i]))\n",
    "    # print(round1,end=' |')\n",
    "    round2 = (random.choice(list(dicx[round1[0]]))),random.choice(list(dicx[round1[1]]))\n",
    "    flaglist.append(round2)\n",
    "for i in flaglist:\n",
    "    print(i[0],end=',')\n",
    "print()\n",
    "for i in flaglist:\n",
    "    print(i[1],end=',')\n"
   ]
  },
  {
   "cell_type": "code",
   "execution_count": null,
   "metadata": {},
   "outputs": [],
   "source": [
    "import gmpy2 \n",
    "with open('z:/flag.txt','r') as f:\n",
    "    txt = f.readlines()\n",
    "    c = eval(f'[{txt[0]}],[{txt[1]}]')\n",
    "for i in range(len(c[1])):\n",
    "    print(chr((gmpy2.fib(c[0][i])^gmpy2.fib(c[1][i]))&0xff),end='' )"
   ]
  }
 ],
 "metadata": {
  "kernelspec": {
   "display_name": "Python 3 (ipykernel)",
   "language": "python",
   "name": "python3"
  },
  "language_info": {
   "codemirror_mode": {
    "name": "ipython",
    "version": 3
   },
   "file_extension": ".py",
   "mimetype": "text/x-python",
   "name": "python",
   "nbconvert_exporter": "python",
   "pygments_lexer": "ipython3",
   "version": "3.10.8"
  },
  "vscode": {
   "interpreter": {
    "hash": "3bd13bc16400e16874b7ce28af58a129343287e94248a182c1f06fbb6b76ef8e"
   }
  }
 },
 "nbformat": 4,
 "nbformat_minor": 4
}
