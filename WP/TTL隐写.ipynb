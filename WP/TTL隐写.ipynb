{
 "cells": [
  {
   "cell_type": "markdown",
   "source": [
    "### TTL隐写\n",
    "- 特征为，全是数字，然后都是63，255，127 之类的ping值"
   ],
   "metadata": {
    "collapsed": false,
    "pycharm": {
     "name": "#%% md\n"
    }
   }
  },
  {
   "cell_type": "code",
   "execution_count": null,
   "outputs": [],
   "source": [
    "x = open('z:/ctf/out.txt.','r').readlines()\n",
    "a =[]\n",
    "rlt = ''\n",
    "for i in x:\n",
    "    tmp = bin(int(i,10))[2:]\n",
    "    tmp = '0'*(8-len(tmp)) + tmp\n",
    "    rlt += tmp[0:2]\n",
    "rlt = rlt\n",
    "print(rlt)\n",
    "import libnum\n",
    "c = libnum.n2s(int(rlt,2))\n",
    "print(c)\n",
    "c = libnum.n2s(int(c,16))"
   ],
   "metadata": {
    "collapsed": false,
    "pycharm": {
     "name": "#%%\n",
     "is_executing": true
    }
   }
  }
 ],
 "metadata": {
  "kernelspec": {
   "display_name": "Python 3",
   "language": "python",
   "name": "python3"
  },
  "language_info": {
   "codemirror_mode": {
    "name": "ipython",
    "version": 2
   },
   "file_extension": ".py",
   "mimetype": "text/x-python",
   "name": "python",
   "nbconvert_exporter": "python",
   "pygments_lexer": "ipython2",
   "version": "2.7.6"
  }
 },
 "nbformat": 4,
 "nbformat_minor": 0
}