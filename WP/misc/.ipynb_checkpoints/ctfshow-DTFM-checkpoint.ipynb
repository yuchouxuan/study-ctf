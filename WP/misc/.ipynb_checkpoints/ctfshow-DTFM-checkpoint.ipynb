{
 "cells": [
  {
   "cell_type": "code",
   "execution_count": null,
   "metadata": {
    "collapsed": false,
    "pycharm": {
     "name": "#%%\n"
    }
   },
   "outputs": [],
   "source": [
    "import utfc.SoundF as sf\n",
    "import numpy as np\n",
    "import matplotlib.pyplot as plt\n",
    "import libnum\n",
    "import random\n",
    "import torchaudio as ta\n",
    "import base64\n",
    "import tqdm\n",
    "\n",
    "hf = [1209, 1336, 1477, 1633]\n",
    "lf = [697, 770, 852, 941]\n",
    "kb = [['1', '2', '3', 'A'], ['4', '5', '6', 'B'], ['7', '8', '9', 'C'], ['E', '0', 'F', 'D']]\n",
    "'''\n",
    " *=e #=f\n",
    "'''\n",
    "def chr2fm(c:str):\n",
    "    for i in range(4):\n",
    "        l = kb[i]\n",
    "        for j in range(4):\n",
    "            if l[j] == c :\n",
    "                return hf[j]*5,lf[i]*5\n",
    "    return None\n",
    "# ch=0\n",
    "# x = sf.WavF('z:/ctf/girlfriend.wav')\n",
    "# xw = x.waveData[ch]/np.max(x.waveData[ch])\n",
    "# win=x.framerate//10\n",
    "# l=[]\n",
    "# for i in range(0,len(xw),win ):\n",
    "#     fft = np.abs(np.fft.fft(x.waveData[ch][i:i+win]))[:win//2]\n",
    "#     l.append([fft])\n",
    "# npfft = np.concatenate(l[:-1])\n",
    "# max = np.max(npfft,0)\n",
    "# plt.plot(max[:100])\n",
    "#\n",
    "# np.where(max > 0), 941/20\n",
    "import base64"
   ]
  },
  {
   "cell_type": "code",
   "execution_count": null,
   "metadata": {
    "collapsed": false,
    "pycharm": {
     "name": "#%%\n"
    }
   },
   "outputs": [],
   "source": [
    "fn='z:/ctf/flag.wav'\n",
    "fo ='z:/ctf/1.wav'\n",
    "x = ta.load(fo)\n",
    "datao = (x[0][0].numpy()*25000).astype(np.int16)\n",
    "framerate = x[1]\n",
    "\n",
    "flaghex = '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'.upper()\n",
    "wavNum=[]\n",
    "def creat_wave(f=1,tim=1,framerate=44100,max=200,start=0):\n",
    "    dr = np.pi*2*f/framerate\n",
    "    r=0\n",
    "    return   [int(np.sin(r+i*dr)*max) for i in range(start,start+int(framerate*tim)) ]\n",
    "wh =[]\n",
    "wl= []\n",
    "jg = framerate //20\n",
    "for i in tqdm.tqdm(flaghex):\n",
    "    f1,f2= chr2fm(i)\n",
    "    tim=0.1\n",
    "    wh.extend([0]*jg)\n",
    "    wh.extend(creat_wave(f1,tim,framerate,start=len(wh)))\n",
    "    wl.extend([0]*jg)\n",
    "    wl.extend(creat_wave(f2,tim,framerate,start=len(wh)))\n",
    "\n",
    "for i in tqdm.trange(len(wh)):\n",
    "    wh[i] = wh[i]+wl[i]+datao[i%len(datao)]\n",
    "sf.CreateWav(fn,wh,framerate,1)\n"
   ]
  },
  {
   "cell_type": "code",
   "execution_count": null,
   "metadata": {
    "collapsed": false,
    "pycharm": {
     "name": "#%%\n"
    }
   },
   "outputs": [],
   "source": [
    "hf = [i//2 for i in [1209, 1336, 1477, 1633]]\n",
    "lf = [i // 2 for i in [697, 770, 852, 941]]\n",
    "kb = [['1', '2', '3', 'A'], ['4', '5', '6', 'B'], ['7', '8', '9', 'C'], ['E', '0', 'F', 'D']]\n",
    "\n",
    "x = ta.load('z:/ctf/flag.wav')\n",
    "datao = (x[0][0].numpy())\n",
    "framerate = x[1]\n",
    "df = int(framerate*0.15)\n",
    "strflag = ''\n",
    "for i in range(0,len(datao),df):\n",
    "    wave = datao[i+df//3: i+df]\n",
    "    ffta =  np.abs(np.fft.fft(wave))\n",
    "    lmax = ffta[lf]\n",
    "    lindx = np.where(lmax==lmax.max())[0][0]\n",
    "    hmax = ffta[hf]\n",
    "    hindx = np.where(hmax==hmax.max())[0][0]\n",
    "    strflag+=kb[lindx][hindx]\n",
    "c=int(strflag,16)\n",
    "c = libnum.n2s(c)\n",
    "b = b''\n",
    "for i in range(0,len(c),4):\n",
    "    try:\n",
    "        b+=base64.b64decode(c[i:i+4])\n",
    "    except:\n",
    "        b+=b'\\xee\\xee\\xee'\n",
    "print(strflag)\n",
    "with open('z:/ctf/x.txt','wb') as f:\n",
    "    f.write(b)\n",
    "print(b.decode())"
   ]
  },
  {
   "cell_type": "code",
   "execution_count": null,
   "metadata": {
    "collapsed": false,
    "pycharm": {
     "name": "#%%\n"
    }
   },
   "outputs": [],
   "source": [
    "import matplotlib.pyplot as plt ,libnum,  torchaudio as ta,base64,numpy as np\n",
    "hf = [i//2 for i in [1209, 1336, 1477, 1633]]\n",
    "lf = [i // 2 for i in [697, 770, 852, 941]]\n",
    "kb = [['1', '2', '3', 'A'], ['4', '5', '6', 'B'], ['7', '8', '9', 'C'], ['E', '0', 'F', 'D']]\n",
    "\n",
    "x = ta.load('z:/ctf/ctfshow.wav')\n",
    "datao = (x[0][0].numpy())\n",
    "framerate = x[1]\n",
    "df = int(framerate*0.15)\n",
    "strflag = ''\n",
    "for i in range(0,len(datao),df):\n",
    "    wave = datao[i+df//3: i+df]\n",
    "    ffta =  np.abs(np.fft.fft(wave))\n",
    "    lmax = ffta[lf]\n",
    "    lindx = np.where(lmax==lmax.max())[0][0]\n",
    "    hmax = ffta[hf]\n",
    "    hindx = np.where(hmax==hmax.max())[0][0]\n",
    "    strflag += kb[lindx][hindx]\n",
    "    # print( kb[lindx][hindx],end='')\n",
    "    # plt.clf()\n",
    "    # plt.plot(ffta[300:900])\n",
    "    # plt.pause(0.02)\n",
    "import re\n",
    "flag = base64.b64decode(libnum.n2s(int(strflag,16))).decode().replace('ctfshow{Easy_DTMF_for_all_my_friends_by_LoveryFox}','flag{test}')\n",
    "print(flag)\n"
   ]
  },
  {
   "cell_type": "code",
   "execution_count": null,
   "metadata": {
    "collapsed": false,
    "pycharm": {
     "name": "#%%\n"
    }
   },
   "outputs": [],
   "source": [
    "import torchaudio as ta,numpy as np, matplotlib.pyplot as plt\n",
    "x = ta.load('z:/ctf/ctfshow.wav')\n",
    "datao = (x[0][0].numpy())\n",
    "framerate = x[1]\n",
    "wav=datao[(4*60+30)*framerate:(4*60+35)*framerate]\n",
    "fft = np.abs(np.fft.fft(wav))\n",
    "plt.figure(figsize=(20,5))\n",
    "plt.plot(fft[:len(fft)//2])"
   ]
  }
 ],
 "metadata": {
  "kernelspec": {
   "display_name": "Python 3.10.4 64-bit",
   "language": "python",
   "name": "python3"
  },
  "language_info": {
   "codemirror_mode": {
    "name": "ipython",
    "version": 3
   },
   "file_extension": ".py",
   "mimetype": "text/x-python",
   "name": "python",
   "nbconvert_exporter": "python",
   "pygments_lexer": "ipython3",
   "version": "3.10.4"
  },
  "vscode": {
   "interpreter": {
    "hash": "3bd13bc16400e16874b7ce28af58a129343287e94248a182c1f06fbb6b76ef8e"
   }
  }
 },
 "nbformat": 4,
 "nbformat_minor": 0
}
