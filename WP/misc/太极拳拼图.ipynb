{
 "cells": [
  {
   "cell_type": "code",
   "execution_count": null,
   "metadata": {
    "collapsed": false,
    "pycharm": {
     "name": "#%%\n"
    }
   },
   "outputs": [],
   "source": [
    "import cv2\n",
    "import matplotlib.pyplot as plt\n",
    "import numpy as np\n",
    "import utfc.VideoFunc as vf\n",
    "vid = vf.VideoFunc('z:/ctf/v.mp4')\n",
    "vid.getFrames()\n",
    "vid.frames=vid.frames[1000:]\n",
    "flag='ctfshow{a6d04cb119e6f8a4721f9bc3c56a5a0fd76be8e4_by_lovely_fox}'\n",
    "for i in range(len(flag)):\n",
    "    c = flag[i]\n",
    "    black = np.zeros_like(vid.frames[0])\n",
    "    cv2.putText(black,c,(20,180), cv2.FONT_HERSHEY_SIMPLEX, 5, (255, 255, 255), 10, cv2.LINE_AA)\n",
    "    vid.frames[i*15+7] =  vid.frames[i*15+7]^black\n",
    "vxl=[]\n",
    "for i in range(len(flag)):\n",
    "    vxl.append(vid.frames[i*15:i*15+15])\n",
    "vh = vxl[:3]\n",
    "vt = vxl[3:]\n",
    "import random\n",
    "random.shuffle(vt)\n",
    "vid.frames=[]\n",
    "for i in vh:\n",
    "    vid.frames.extend(i)\n",
    "for i in vt:\n",
    "    vid.frames.extend(i)\n",
    "vid.writeFile('z:/ctf/ctfshow.mp4')\n",
    "\n"
   ]
  },
  {
   "cell_type": "code",
   "execution_count": null,
   "metadata": {
    "collapsed": false,
    "pycharm": {
     "name": "#%%\n"
    }
   },
   "outputs": [],
   "source": [
    "import cv2\n",
    "import matplotlib.pyplot as plt\n",
    "import numpy as np\n",
    "import utfc.VideoFunc as vf\n",
    "vid = vf.VideoFunc('z:/ctf/ctfshow.mp4')\n",
    "vid.getFrames()\n",
    "lenx = int(vid.fNUMS//15)\n",
    "vxl=[]\n",
    "for i in range(lenx):\n",
    "    vxl.append(vid.frames[i*15:i*15+15])\n",
    "\n"
   ]
  },
  {
   "cell_type": "code",
   "execution_count": null,
   "metadata": {
    "collapsed": false,
    "pycharm": {
     "name": "#%%\n"
    }
   },
   "outputs": [],
   "source": [
    "plt.figure(figsize=(30,40))\n",
    "for i in range(60):\n",
    "    plt.subplot(12,5,i+1)\n",
    "    plt.xticks([])\n",
    "    plt.yticks([])\n",
    "    plt.title(f'{i}')\n",
    "    plt.imshow(vid.frames[i][:,:,::-1])\n",
    "plt.show()"
   ]
  },
  {
   "cell_type": "code",
   "execution_count": null,
   "metadata": {
    "collapsed": false,
    "pycharm": {
     "is_executing": true,
     "name": "#%%\n"
    }
   },
   "outputs": [],
   "source": [
    "now = 0\n",
    "black=set()\n",
    "for f in range(lenx):\n",
    "    minval = 1e99\n",
    "    minidx=-1\n",
    "    black.add(now)\n",
    "    for i in range(0,lenx):\n",
    "        if i in black: continue\n",
    "        df = np.sum(vxl[now][-1] ^ vxl[i][0])\n",
    "        if minval > df :\n",
    "            minidx = i\n",
    "            minval = df\n",
    "    plt.figure(figsize=(10,3))\n",
    "    plt.subplot(131)\n",
    "    plt.imshow(vxl[now][-1][:,:,::-1])\n",
    "    plt.subplot(132)\n",
    "    plt.imshow(vxl[minidx][0][:,:,::-1])\n",
    "    plt.subplot(133)\n",
    "    plt.imshow(vxl[now][7][:,:,::-1])\n",
    "    plt.show()\n",
    "    now = minidx\n"
   ]
  }
 ],
 "metadata": {
  "kernelspec": {
   "display_name": "Python 3.10.4 64-bit",
   "language": "python",
   "name": "python3"
  },
  "language_info": {
   "codemirror_mode": {
    "name": "ipython",
    "version": 3
   },
   "file_extension": ".py",
   "mimetype": "text/x-python",
   "name": "python",
   "nbconvert_exporter": "python",
   "pygments_lexer": "ipython3",
   "version": "3.10.4"
  },
  "vscode": {
   "interpreter": {
    "hash": "3bd13bc16400e16874b7ce28af58a129343287e94248a182c1f06fbb6b76ef8e"
   }
  }
 },
 "nbformat": 4,
 "nbformat_minor": 0
}
