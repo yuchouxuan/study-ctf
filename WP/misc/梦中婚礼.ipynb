{
 "cells": [
  {
   "cell_type": "code",
   "execution_count": null,
   "metadata": {},
   "outputs": [],
   "source": [
    "import torch,torchaudio,matplotlib.pyplot as plt,numpy as np,libnum\n",
    "from scipy.signal import hilbert ,savgol_filter\n",
    "wav,cyl = torchaudio.load('flag.mp3')\n",
    "fw = wav[0]\n",
    "hit = savgol_filter(np.abs(hilbert(fw.numpy())),500,1)\n",
    "splitlist=[0]\n",
    "hi = (hit[1:] - hit[:-1] )\n",
    "i =0\n",
    "while i < len(fw):\n",
    "    if  len(np.where(hi[i-100:i]>=0)[0]) >80 and fw[i]>0.1 and (hit[i] -  hit[i-100]) / hit[i] >0.1:\n",
    "        splitlist.append(i)\n",
    "        i=int(i+cyl*0.1)\n",
    "    i+=1\n",
    "flag=''\n",
    "for i in range(1,len(splitlist)-1):\n",
    "    fft=torch.abs(torch.fft.fft(fw[splitlist[i]: splitlist[i+1]]))[:(splitlist[i+1]-splitlist[i])//2]\n",
    "    maxs = torch.where(fft==fft.max())[0][0]//2\n",
    "    if fft[maxs*5] < fft[maxs*4]:\n",
    "        flag+='0'\n",
    "    else :\n",
    "        flag+='1'\n",
    "print(libnum.b2s(flag))\n"
   ]
  },
  {
   "cell_type": "code",
   "execution_count": null,
   "metadata": {},
   "outputs": [],
   "source": [
    "plt.figure(figsize=(20,3))\n",
    "plt.ylim(-1,1)\n",
    "plt.plot(hit[cyl*3:cyl*5] / hit.max()) \n",
    "plt.plot(fw[cyl*3:cyl*5]  ) \n",
    "cyl"
   ]
  },
  {
   "cell_type": "code",
   "execution_count": null,
   "metadata": {},
   "outputs": [],
   "source": [
    "for i in splitlist:\n",
    "    wav[0][i] = 1.5 \n",
    "torchaudio.save('ff.wav',wav,cyl)"
   ]
  },
  {
   "cell_type": "code",
   "execution_count": null,
   "metadata": {},
   "outputs": [],
   "source": [
    "stop = len(splitlist)-1\n",
    "for i in range(0,10):\n",
    "    print(i)\n",
    "    fft=torch.abs(torch.fft.fft(fw[splitlist[i]: splitlist[i+1]]))[:(splitlist[i+1]-splitlist[i])//2]\n",
    "    maxs = torch.where(fft==fft.max())[0][0]//2\n",
    "    plt.figure(figsize=(15,2))\n",
    "    plt.subplot(121)\n",
    "    plt.plot(fft[:maxs*15])\n",
    "    plt.scatter(maxs, fft[maxs]+10,c='r',marker='v')\n",
    "    for x in range(1,15):\n",
    "        plt.vlines(maxs*x, 0, fft[maxs] ,alpha=0.2,linestyles='dashed' ,colors='r') \n",
    "    plt.subplot(122)\n",
    "    plt.plot(fw[splitlist[i]: splitlist[i+1]])\n",
    "    plt.show()\n",
    "\n"
   ]
  }
 ],
 "metadata": {
  "kernelspec": {
   "display_name": "Python 3 (ipykernel)",
   "language": "python",
   "name": "python3"
  },
  "language_info": {
   "codemirror_mode": {
    "name": "ipython",
    "version": 3
   },
   "file_extension": ".py",
   "mimetype": "text/x-python",
   "name": "python",
   "nbconvert_exporter": "python",
   "pygments_lexer": "ipython3",
   "version": "3.10.8"
  },
  "vscode": {
   "interpreter": {
    "hash": "3bd13bc16400e16874b7ce28af58a129343287e94248a182c1f06fbb6b76ef8e"
   }
  }
 },
 "nbformat": 4,
 "nbformat_minor": 4
}
