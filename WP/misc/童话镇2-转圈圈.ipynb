{
 "cells": [
  {
   "cell_type": "code",
   "execution_count": null,
   "metadata": {},
   "outputs": [],
   "source": [
    "import gmpy2 \n",
    "gmpy2.next_prime(1430),gmpy2.next_prime(750)\n",
    "import uuid \n",
    "uuid.uuid4()\n",
    "# flag='ctfshow{fa30954b-f66d-4bbc-a71b-c929ddcc460d}'\n",
    "flag='ctfshow{367db639-9dc4-4f4a-af32-4395ebe046bc}'\n",
    "\n",
    "flag_text='666c61670ae69c8be58f8befbc8ce4bda0e79bb8e4bfa1e7aba5e8af9de4b988efbc9f0ae79bb8e4bfa1e4bc9ae69c89e4b880e4b8aae7be8ee5a5bde79a84e59cb0e696b90ae982a3e9878ce69c89e6bc82e4baaee79a84e59f8ee5a0a1efbc8ce5b885e6b094e79a84e78e8be5ad90efbc8ce8bf98e69c89e7be8ee4b8bde79a84e5a791e5a8980ae982a3e9878ce79a84e9aa91e5a3abe58b87e695a2e59684e889afefbc8ce4bf9de68aa4e5bcb1e5b08fefbc8c0ae982a3e9878ce79a84e4babae4bbace5ae89e5b185e4b990e4b89aefbc8ce79585e68980e6acb2e8a880e380820ae982a3e9878cefbc8ce69c89e7be8ee4b8bde79a84e5b08fe99587efbc8ce4b883e5bda9e79a84e6b2b3e6b581efbc8ce8bf98e69c89e58e9ae98193e79a84e998bfe78bb80a63746673686f777b33363764623633392d396463342d346634612d616633322d3433393565626530343662637d0ae8afb7e694b6e4b88be998bfe78bb8e79a84e7a4bce789a9efbc8ce79bb8e4bfa1e7be8ee5a5bd2020'\n",
    "len(flag_text)"
   ]
  },
  {
   "cell_type": "code",
   "execution_count": null,
   "metadata": {},
   "outputs": [],
   "source": [
    "import torchaudio as ta ,torch ,numpy as np ,matplotlib.pyplot as plt ,numpy as np \n",
    "wav,cyl = ta.load('z:/ctf/a.mp3')\n",
    "window = cyl//3\n",
    "fftw =window//2\n",
    "mid = (wav[1]+wav[0])*0.4\n",
    "mid = mid[len(mid)%window:]\n",
    "plt.figure(figsize=(20,3))\n",
    "fft_list=[]\n",
    "for pointer in range(0,len(mid),window):\n",
    "    fft = (torch.abs(torch.fft.fft(mid[pointer:pointer+window])))[:fftw]\n",
    "    fft = torch.log2(torch.mean(fft.reshape(75,-1),1)+1) \n",
    "    fft_list.append(list(fft[1:61]))\n",
    "fft_list = np.array(fft_list)\n",
    "fft_list/=fft_list.max()\n",
    "fft_list*=100\n",
    "\n",
    "\n",
    "import cv2 \n",
    "img_bk=cv2.imread('z:/ctf/bk.png')\n",
    "bh,bw,_ = img_bk.shape\n",
    "img_fox = cv2.imread('z:/ctf/fox.png')\n",
    "img_out = img_bk.copy()\n",
    "h,w,c = img_fox.shape\n",
    "M=cv2.getRotationMatrix2D([h/2,w/2] , 1,1)\n",
    "c = cv2.warpAffine(img_fox, M,dsize=(h,w),flags=cv2.INTER_CUBIC, borderValue=(255,255,255))\n",
    "\n",
    "M_list=[cv2.getRotationMatrix2D([h/2,w/2] , -i,1) for i in range(0,360,12)] \n",
    "fox_out_list=[]\n",
    "x,y = w//2,bw//2-w//2\n",
    "for M in M_list:\n",
    "    fox_out = cv2.warpAffine(img_fox, M,dsize=(h,w), borderValue=(255,255,255))\n",
    "    bk_out = img_bk.copy()\n",
    "    bk_out[x:x+h,y:y+w] &=  fox_out\n",
    "    fox_out_list.append(bk_out) \n",
    "\n"
   ]
  },
  {
   "cell_type": "code",
   "execution_count": null,
   "metadata": {},
   "outputs": [],
   "source": [
    "io = fox_out_list[0]\n",
    "i = 0 \n",
    "\n",
    "fft_list[i]\n",
    "def dl(img_in,fftlist,pos=0):\n",
    "    img=img_in.copy()\n",
    "    # img|=255\n",
    "    hol=150\n",
    "    startang=360/16*(pos+4)\n",
    "    imax = fftlist.argmax()\n",
    "    cent=(y+w//2,x+h//2)\n",
    "    for cont in range(len(fftlist)):\n",
    "        n = (cont+imax)%60\n",
    "        # print(cont,n)\n",
    "        ang = np.deg2rad(6*cont+startang)\n",
    "        start= (int(cent[0]+ (hol+fftlist[n]) * np.sin(ang) ),int(cent[1]+ (hol+fftlist[n]) * np.cos(ang))) \n",
    "        end=  (int(cent[0]+ (hol ) * np.sin(ang) ),int(cent[1]+ (hol ) * np.cos(ang))) \n",
    "        if  cont==0:\n",
    "            col=[100,50,255]\n",
    "        else:\n",
    "            col=[150,100,(fftlist[n]/fftlist.max()*8)*32]\n",
    "\n",
    "        cv2.line(img,start,end,col,thickness=2)\n",
    "    # plt.imshow(img_in)\n",
    "    return img\n",
    "# dl(io,fft_list[11],0)\n",
    "\n",
    "size =(bw,bh)\n",
    "fourcc = cv2.VideoWriter_fourcc(*'MP4V') \n",
    "out = cv2.VideoWriter('z:/ctf/flag.mp4', fourcc, 30.0, size)\n",
    "\n",
    "import tqdm.notebook as tqdm\n",
    "for cont in tqdm.trange(len(flag_text)):\n",
    "    insec = cont%3 \n",
    "    for i in range(10):\n",
    "        img=dl(fox_out_list[insec*10+i],fft_list[cont],int(flag_text[cont],16))\n",
    "        out.write(img)\n",
    "        # plt.imshow(img)\n",
    "        # print(img.shape)\n",
    "out.release()\n"
   ]
  },
  {
   "cell_type": "code",
   "execution_count": null,
   "metadata": {},
   "outputs": [],
   "source": [
    "for i in range(30):\n",
    "    plt.imshow(fox_out_list[i])\n",
    "    plt.show()"
   ]
  }
 ],
 "metadata": {
  "kernelspec": {
   "display_name": "Python 3 (ipykernel)",
   "language": "python",
   "name": "python3"
  },
  "language_info": {
   "codemirror_mode": {
    "name": "ipython",
    "version": 3
   },
   "file_extension": ".py",
   "mimetype": "text/x-python",
   "name": "python",
   "nbconvert_exporter": "python",
   "pygments_lexer": "ipython3",
   "version": "3.10.8"
  },
  "vscode": {
   "interpreter": {
    "hash": "3bd13bc16400e16874b7ce28af58a129343287e94248a182c1f06fbb6b76ef8e"
   }
  }
 },
 "nbformat": 4,
 "nbformat_minor": 4
}
