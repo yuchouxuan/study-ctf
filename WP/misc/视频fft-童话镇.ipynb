{
 "cells": [
  {
   "cell_type": "code",
   "execution_count": null,
   "metadata": {},
   "outputs": [],
   "source": [
    "import gmpy2,cv2 ,numpy as np,matplotlib.pyplot as plt \n",
    "gmpy2.next_prime(1430),gmpy2.next_prime(750)\n",
    "import uuid \n",
    "uuid.uuid4()\n",
    "flag='ctfshow{610ea30b-1a2b-4a20-93dc-c32985c3a7cb}'\n",
    "\n",
    "\n",
    "import utfc.VideoFunc as vf\n",
    "vid = vf.VideoFunc('z:/ctf/2.avi')\n",
    "fms = vid.getFrames()\n"
   ]
  },
  {
   "cell_type": "code",
   "execution_count": null,
   "metadata": {},
   "outputs": [],
   "source": [
    "import tqdm.notebook as tqdm \n",
    "font = cv2.FONT_HERSHEY_SIMPLEX\n",
    "size =(640,320)\n",
    "window=60\n",
    "fourcc = cv2.VideoWriter_fourcc(*'MP4V') \n",
    "# fourcc = cv2.VideoWriter_fourcc(*'XVID') # 这是写avi的\n",
    "out = cv2.VideoWriter('z:/ctf/flagx.mp4', fourcc, 30.0, size)\n",
    "\n",
    "\n",
    "mat_src = np.float32([[0, 0],[0, 300],[600, 0]])  \n",
    "mat_dst = np.float32([[0, 0],[50, 300],[550, 50]]) \n",
    "\n",
    "# 得到变换矩阵  \n",
    "mat_trans = cv2.getAffineTransform(mat_src, mat_dst) \n",
    "\n",
    "\n",
    "for fcont in tqdm.trange(len(fms)):\n",
    "    alpc = fcont//window%len(flag)\n",
    "    frmc = fcont%window\n",
    "    # print(fcont,alpc,frmc)\n",
    "    if  frmc <0 :\n",
    "        out.write(fms[fcont])\n",
    "    else:\n",
    "        img = np.zeros(fms[0].shape,np.uint8).astype(np.uint8)\n",
    "        img = cv2.putText(img, flag[alpc],(220,240),font ,4,  (1,1,1),10 )\n",
    "        img = 1-cv2.warpAffine(img, mat_trans,  (640,320))\n",
    "        fft = np.fft.fft2(fms[fcont])\n",
    "        fft = np.fft.fftshift(fft)\n",
    "        ffta = np.log(np.abs(fft)+1)\n",
    "        fft[ffta<(ffta.mean()/3)] *= 5\n",
    "        fft = fft*  img  \n",
    "        fft = np.fft.ifftshift(fft)\n",
    "        xyz = np.real(np.abs(np.fft.ifft2(fft))).astype(np.uint8)\n",
    "        out.write(xyz)\n",
    "out.release()\n",
    "plt.imshow(xyz[:,:,::-1])\n",
    "plt.show()\n",
    "plt.imshow(img*255)\n",
    "plt.show()\n",
    "\n",
    "fftx=np.fft.fft(xyz[:,:,1] )\n",
    "fftx = np.fft.fftshift(fftx)\n",
    "fo=np.log2(np.abs(fftx)+1)\n",
    "fft_out=fo/fo.max()\n",
    "plt.imshow(fo)\n",
    "plt.show()\n",
    "\n"
   ]
  },
  {
   "cell_type": "code",
   "execution_count": null,
   "metadata": {},
   "outputs": [],
   "source": [
    "fft.max(),fft.min(),fft.mean()"
   ]
  },
  {
   "cell_type": "code",
   "execution_count": null,
   "metadata": {},
   "outputs": [],
   "source": [
    "import gmpy2,cv2 ,numpy as np,matplotlib.pyplot as plt \n",
    "gmpy2.next_prime(1430),gmpy2.next_prime(750)\n",
    "import uuid \n",
    "uuid.uuid4()\n",
    "flag='ctfshow{610ea30b-1a2b-4a20-93dc-c32985c3a7cb}'\n",
    "window=60\n",
    "import tqdm.notebook as tqdm\n",
    "\n",
    "import utfc.VideoFunc as vf\n",
    "th = vf.VideoFunc('z:/ctf/flag.avi')\n",
    "\n",
    "th_fr=0\n",
    "th_fr = th.getFrames()\n",
    "for fcont in tqdm.trange(0,len(th_fr),window):\n",
    "    fft_out = np.zeros_like(th_fr[0][:,:,0] ,dtype=np.complex128)\n",
    "    # fft_out = np.zeros((100,100) ,dtype=np.complex128)\n",
    "    for i in range(window):\n",
    "        fftx=np.fft.fft(th_fr[fcont+i][:,:,1] )\n",
    "        fftx = np.fft.fftshift(fftx)\n",
    "        fftx =np.abs(fftx)#[200:300,200:300]\n",
    "        fftx[fftx>fftx.mean()*2] = fftx.mean() *2\n",
    "        fft_out+=fftx\n",
    "        \n",
    "    fft_out=np.log2(np.abs(fft_out)+1)\n",
    "    fo=fft_out/fft_out.max()*256\n",
    "    fo=np.real(fo)\n",
    "    # gauss = cv2.GaussianBlur(fo.astype(np.uint8),(7,7),0)\n",
    "    # gaussedge = cv2.Canny(gauss,0,30)\n",
    "    \n",
    "    plt.imshow(fo)\n",
    "    plt.show()\n",
    "fo\n",
    "# plt.imshow(th_fr[-1][:,:,::-1])    "
   ]
  },
  {
   "cell_type": "code",
   "execution_count": null,
   "metadata": {},
   "outputs": [],
   "source": []
  }
 ],
 "metadata": {
  "kernelspec": {
   "display_name": "Python 3 (ipykernel)",
   "language": "python",
   "name": "python3"
  },
  "language_info": {
   "codemirror_mode": {
    "name": "ipython",
    "version": 3
   },
   "file_extension": ".py",
   "mimetype": "text/x-python",
   "name": "python",
   "nbconvert_exporter": "python",
   "pygments_lexer": "ipython3",
   "version": "3.10.8"
  },
  "vscode": {
   "interpreter": {
    "hash": "3bd13bc16400e16874b7ce28af58a129343287e94248a182c1f06fbb6b76ef8e"
   }
  }
 },
 "nbformat": 4,
 "nbformat_minor": 4
}
