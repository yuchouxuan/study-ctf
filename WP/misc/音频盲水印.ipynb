{
 "cells": [
  {
   "attachments": {},
   "cell_type": "markdown",
   "id": "99001bb6",
   "metadata": {},
   "source": [
    "# 出题"
   ]
  },
  {
   "cell_type": "code",
   "execution_count": null,
   "id": "5ec996c9-1f89-4fc3-8e3e-e23f2b08eb8b",
   "metadata": {},
   "outputs": [],
   "source": [
    "import torch\n",
    "import torchaudio as ta\n",
    "import matplotlib.pyplot as plt\n",
    "import cv2\n",
    "import numpy as np\n",
    "wav = ta.load('f1.wav')\n",
    "img = cv2.imread('flagw.png')[:,:,0]/512+1\n",
    "window  = 2000\n",
    "dw = window // img.shape[0]//2\n",
    "w  = wav[0][0]\n",
    "lr = []\n",
    "lc = []\n",
    "for i in range(0,len(w)//window):\n",
    "    l = img[:,i*2]\n",
    "    hc =torch.tensor([[x]*dw for x in l])\n",
    "    hc= hc.flatten()\n",
    "    fftw = torch.fft.fft(w[i*window : (i+1)*window])[:window//2] *hc\n",
    "    lr.append(torch.fft.irfft(fftw))\n",
    "    lc.append(w[i*window : (i+1)*window])\n",
    "# img w\n",
    "wavx = torch.concat(lr)\n",
    "wavy = torch.concat(lc)\n",
    "wavx = wavx/wavx.max()\n",
    "# wavx = torch.tensor([wavx.tolist(),wavy.tolist()])\n",
    "\n",
    "wavf = torch.concat([wavx,wavy])\n",
    "# wavx.tolist()\n",
    "wavf = wavf.reshape(2,-1)\n",
    "ta.save('flag3.wav',wavf,wav[1])"
   ]
  },
  {
   "cell_type": "markdown",
   "id": "920c09a0-09de-475a-b05a-57e12b6d29db",
   "metadata": {},
   "source": [
    "# 解题\n"
   ]
  },
  {
   "cell_type": "code",
   "execution_count": null,
   "id": "cd71fec0-2eb2-4c7b-93fd-614cc3c0973a",
   "metadata": {},
   "outputs": [],
   "source": [
    "import torch ,torchaudio as ta \n",
    "import matplotlib.pyplot as plt,math\n",
    "wavf = ta.load('flag3.wav')[0]\n",
    "specgram =  ta.transforms.Spectrogram()(wavf)\n",
    "img = (specgram.log2()[0,:,:] - specgram.log2()[1,:,:])\n",
    "plt.figure(figsize=(20,3))\n",
    "plt.imshow(torch.tanh(img).numpy())"
   ]
  },
  {
   "cell_type": "code",
   "execution_count": null,
   "id": "8afd30c8-b4f9-4267-b2a1-03173eb25832",
   "metadata": {},
   "outputs": [],
   "source": []
  }
 ],
 "metadata": {
  "kernelspec": {
   "display_name": "Python 3.10.5 64-bit",
   "language": "python",
   "name": "python3"
  },
  "language_info": {
   "codemirror_mode": {
    "name": "ipython",
    "version": 3
   },
   "file_extension": ".py",
   "mimetype": "text/x-python",
   "name": "python",
   "nbconvert_exporter": "python",
   "pygments_lexer": "ipython3",
   "version": "3.10.8"
  },
  "vscode": {
   "interpreter": {
    "hash": "3bd13bc16400e16874b7ce28af58a129343287e94248a182c1f06fbb6b76ef8e"
   }
  }
 },
 "nbformat": 4,
 "nbformat_minor": 5
}
