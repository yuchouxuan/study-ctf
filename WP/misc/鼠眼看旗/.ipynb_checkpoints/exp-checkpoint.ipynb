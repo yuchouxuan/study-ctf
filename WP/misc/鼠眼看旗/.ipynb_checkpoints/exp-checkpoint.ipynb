{
 "cells": [
  {
   "cell_type": "code",
   "execution_count": 6,
   "metadata": {
    "tags": []
   },
   "outputs": [
    {
     "data": {
      "text/plain": [
       "(32, 32)"
      ]
     },
     "execution_count": 6,
     "metadata": {},
     "output_type": "execute_result"
    }
   ],
   "source": [
    "import numpy as np, cv2,matplotlib.pyplot as plt \n",
    "video = cv2.VideoCapture(\"z:/ctf/flag.mp4\")\n",
    "w, h = int(video.get(cv2.CAP_PROP_FRAME_WIDTH)), int(video.get(cv2.CAP_PROP_FRAME_HEIGHT)) \n",
    "if not video.isOpened():\n",
    "    print('File Read Error')\n",
    "def getmov(p,n,r=10):\n",
    "    pp = p&0b11000000\n",
    "    nn = n[r:-r,r:-r]&0b11000000\n",
    "    mx,my = 0,0 \n",
    "    w = nn.shape[0]\n",
    "    sum = np.sum(np.abs(pp[r:-r,r:-r]-nn) )\n",
    "    for dx in range(-r,r+1):\n",
    "        for dy in range(-r,r+1):\n",
    "            if dx==dy and dx==0:\n",
    "                continue\n",
    "            s = np.sum(np.abs(pp[dy+r:dy+r+w,dx+r:dx+r+w]-nn) )\n",
    "            if s < sum:\n",
    "                my ,mx= dy,dx\n",
    "                sum=s\n",
    "    return mx,my\n",
    "bigmap=np.zeros([4000,4000,3],np.uint8)\n",
    "\n",
    "ret, fp = video.read() #读取第一帧\n",
    "x,y=2000,2000\n",
    "dx,dy=0,0\n",
    "h,w"
   ]
  },
  {
   "cell_type": "code",
   "execution_count": 7,
   "metadata": {
    "tags": []
   },
   "outputs": [
    {
     "data": {
      "application/vnd.jupyter.widget-view+json": {
       "model_id": "517f2220926f44f0b0b2a1e2857d1c70",
       "version_major": 2,
       "version_minor": 0
      },
      "text/plain": [
       "  0%|          | 0/5000 [00:00<?, ?it/s]"
      ]
     },
     "metadata": {},
     "output_type": "display_data"
    },
    {
     "data": {
      "text/plain": [
       "True"
      ]
     },
     "execution_count": 7,
     "metadata": {},
     "output_type": "execute_result"
    }
   ],
   "source": [
    "framecont=5000\n",
    "import tqdm.notebook as tqdm\n",
    "for i in  tqdm.trange(framecont) :\n",
    "    ret, fn = video.read() #读取一帧\n",
    "    bigmap[y:y+h,x:x+w] = fp\n",
    "    if ret :\n",
    "        dx,dy= getmov(fp,fn)\n",
    "        y+=dy\n",
    "        x+=dx\n",
    "        # print(dx,dy)\n",
    "        fp=fn \n",
    "    else:\n",
    "        break\n",
    "    framecont-=1\n",
    "    if framecont<=0:\n",
    "        break\n",
    "bigmap=bigmap.astype(np.uint8) \n",
    "cv2.imwrite('z:/ctf/flag.png',bigmap)"
   ]
  },
  {
   "cell_type": "code",
   "execution_count": 21,
   "metadata": {},
   "outputs": [],
   "source": [
    "# plt.imshow(bigmap)\n",
    "video.release()"
   ]
  }
 ],
 "metadata": {
  "kernelspec": {
   "display_name": "Python 3 (ipykernel)",
   "language": "python",
   "name": "python3"
  },
  "language_info": {
   "codemirror_mode": {
    "name": "ipython",
    "version": 3
   },
   "file_extension": ".py",
   "mimetype": "text/x-python",
   "name": "python",
   "nbconvert_exporter": "python",
   "pygments_lexer": "ipython3",
   "version": "3.10.8"
  }
 },
 "nbformat": 4,
 "nbformat_minor": 4
}
