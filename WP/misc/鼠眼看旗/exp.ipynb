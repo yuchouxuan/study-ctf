{
 "cells": [
  {
   "cell_type": "code",
   "execution_count": null,
   "metadata": {
    "tags": []
   },
   "outputs": [],
   "source": [
    "import numpy as np, cv2,matplotlib.pyplot as plt \n",
    "import tqdm\n",
    "video = cv2.VideoCapture(\"z:/ctf/flag.mp4\")\n",
    "w, h = int(video.get(cv2.CAP_PROP_FRAME_WIDTH)), int(video.get(cv2.CAP_PROP_FRAME_HEIGHT)) \n",
    "if not video.isOpened():\n",
    "    print('File Read Error')\n",
    "def getmov(p,n,r=5):\n",
    "    pp = p&0b11000000\n",
    "    nn = n[r:-r,r:-r]&0b11000000\n",
    "    mx,my = 0,0 \n",
    "    w = nn.shape[0]\n",
    "    sum = np.sum(np.abs(pp[r:-r,r:-r]-nn) )\n",
    "    for dx in range(-r,r+1):\n",
    "        for dy in range(-r,r+1):\n",
    "            if dx==dy and dx==0:\n",
    "                continue\n",
    "            s = np.sum(np.abs(pp[dy+r:dy+r+w,dx+r:dx+r+w]-nn) )\n",
    "            if s < sum:\n",
    "                my ,mx= dy,dx\n",
    "                sum=s\n",
    "    return mx,my\n",
    "ret, fp = video.read() #读取第一帧\n",
    "h,w "
   ]
  },
  {
   "cell_type": "code",
   "execution_count": null,
   "metadata": {
    "tags": []
   },
   "outputs": [],
   "source": [
    "\n",
    "bigmap=np.zeros([4000,4000,3],np.uint8)\n",
    "x,y=2000,2000\n",
    "dx,dy=0,0\n",
    "for i in  tqdm.trange(100000) :\n",
    "    ret, fn = video.read() #读取一帧\n",
    "    bigmap[y:y+h,x:x+w] = fp\n",
    "    if ret :\n",
    "        dx,dy= getmov(fp,fn)\n",
    "        y+=dy\n",
    "        x+=dx\n",
    "        fp=fn \n",
    "    else:\n",
    "        break\n",
    "bigmap=bigmap.astype(np.uint8) \n",
    "cv2.imwrite('z:/ctf/flag.png',bigmap)\n",
    "plt.figure(figsize=(10,10))\n",
    "plt.imshow(bigmap[...,::-1])"
   ]
  },
  {
   "cell_type": "code",
   "execution_count": null,
   "metadata": {},
   "outputs": [],
   "source": [
    "import cv2\n",
    "video = cv2.VideoCapture(\"z:/ctf/flag.mp4\")\n",
    "fourcc = cv2.VideoWriter_fourcc(*'MP4V') \n",
    "out = cv2.VideoWriter('z:/ctf/flag_S.mp4', fourcc, 30.0, (32,32))\n",
    "ret, fn = video.read()\n",
    "while ret:\n",
    "    out.write(fn)\n",
    "    ret, fn = video.read()\n",
    "video.release()\n",
    "out.release()\n",
    "    \n",
    "    "
   ]
  }
 ],
 "metadata": {
  "kernelspec": {
   "display_name": "Python 3 (ipykernel)",
   "language": "python",
   "name": "python3"
  },
  "language_info": {
   "codemirror_mode": {
    "name": "ipython",
    "version": 3
   },
   "file_extension": ".py",
   "mimetype": "text/x-python",
   "name": "python",
   "nbconvert_exporter": "python",
   "pygments_lexer": "ipython3",
   "version": "3.10.8"
  }
 },
 "nbformat": 4,
 "nbformat_minor": 4
}
