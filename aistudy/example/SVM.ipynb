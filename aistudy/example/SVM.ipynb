{
 "cells": [
  {
   "cell_type": "code",
   "execution_count": 6,
   "metadata": {},
   "outputs": [
    {
     "name": "stdout",
     "output_type": "stream",
     "text": [
      "linear kernel: The accuracy is 0.9555555555555556\n",
      "rbf kernel: The accuracy is 0.9777777777777777\n"
     ]
    },
    {
     "name": "stderr",
     "output_type": "stream",
     "text": [
      "C:\\Users\\user-1\\Anaconda3\\lib\\site-packages\\sklearn\\svm\\base.py:193: FutureWarning: The default value of gamma will change from 'auto' to 'scale' in version 0.22 to account better for unscaled features. Set gamma explicitly to 'auto' or 'scale' to avoid this warning.\n",
      "  \"avoid this warning.\", FutureWarning)\n"
     ]
    }
   ],
   "source": [
    "import numpy as np\n",
    "import matplotlib.pyplot as plt\n",
    "from sklearn.model_selection import train_test_split\n",
    "from sklearn import metrics\n",
    "from sklearn.metrics import accuracy_score\n",
    "\n",
    "from sklearn.datasets import load_iris\n",
    "from sklearn import svm\n",
    "\n",
    "# Load data\n",
    "iris = load_iris()\n",
    "\n",
    "#划分训练集和测试集\n",
    "x_train,x_test,y_train,y_test=train_test_split(iris.data,iris.target,test_size=0.3)\n",
    "\n",
    "#训练，预测\n",
    "clf_linear = svm.SVC(decision_function_shape=\"ovo\", kernel=\"linear\")\n",
    "clf_rbf = svm.SVC(decision_function_shape=\"ovo\", kernel=\"rbf\")\n",
    "clf_linear.fit(x_train, y_train)\n",
    "clf_rbf.fit(x_train, y_train)\n",
    "\n",
    "y_test_pre_linear = clf_linear.predict(x_test)\n",
    "y_test_pre_rbf = clf_rbf.predict(x_test)\n",
    "    \n",
    "# 计算分类准确率\n",
    "acc_linear = accuracy_score(y_test,y_test_pre_linear) \n",
    "print('linear kernel: The accuracy is', acc_linear) \n",
    "\n",
    "acc_rbf = accuracy_score(y_test,y_test_pre_rbf)\n",
    "print('rbf kernel: The accuracy is', acc_rbf) "
   ]
  },
  {
   "cell_type": "code",
   "execution_count": 1,
   "metadata": {},
   "outputs": [
    {
     "name": "stdout",
     "output_type": "stream",
     "text": [
      "MAE： 0.3077397894256434\n",
      "MSE： 0.19633171228447616\n"
     ]
    }
   ],
   "source": [
    "from sklearn.datasets import load_boston\n",
    "from sklearn.svm import SVR\n",
    "from sklearn.preprocessing import StandardScaler\n",
    "from sklearn.metrics import mean_absolute_error,mean_squared_error,explained_variance_score,r2_score\n",
    "from sklearn.model_selection import train_test_split\n",
    "import numpy as np\n",
    "#加载数据集\n",
    "boston=load_boston()\n",
    "x=boston.data\n",
    "y=boston.target\n",
    "\n",
    "# 拆分数据集\n",
    "x_train,x_test,y_train,y_test=train_test_split(x,y,test_size=0.2,random_state=10)\n",
    "# 预处理\n",
    "y_train = np.array(y_train).reshape(-1, 1)#reshape(-1,1)转换成1列\n",
    "y_test = np.array(y_test).reshape(-1, 1)\n",
    "#print(x_train)\n",
    "#StandardScaler()通过去除均值并缩放到单位方差来标准化,训练数据用fit_transform\n",
    "x_train = StandardScaler().fit_transform(x_train)\n",
    "x_test = StandardScaler().fit_transform(x_test)\n",
    "y_train = StandardScaler().fit_transform(y_train).ravel()#返回的是视图\n",
    "y_test = StandardScaler().fit_transform(y_test).ravel()\n",
    "\n",
    "#创建svR实例\n",
    "svr=SVR(C=1, kernel='rbf', epsilon=0.2)\n",
    "svr=svr.fit(x_train,y_train)\n",
    "#预测\n",
    "svr_predict=svr.predict(x_test)\n",
    "#评价结果\n",
    "mae = mean_absolute_error(y_test, svr_predict)\n",
    "mse = mean_squared_error(y_test, svr_predict)\n",
    "evs = explained_variance_score(y_test, svr_predict)\n",
    "r2 = r2_score(y_test, svr_predict)\n",
    "print(\"MAE：\", mae)\n",
    "print(\"MSE：\", mse)\n"
   ]
  },
  {
   "cell_type": "code",
   "execution_count": 8,
   "metadata": {},
   "outputs": [],
   "source": [
    "boston=load_boston()"
   ]
  },
  {
   "cell_type": "code",
   "execution_count": 26,
   "metadata": {},
   "outputs": [
    {
     "data": {
      "text/plain": [
       "array([1.969e+01, 2.125e+01, 1.300e+02, 1.203e+03, 1.096e-01, 1.599e-01,\n",
       "       1.974e-01, 1.279e-01, 2.069e-01, 5.999e-02, 7.456e-01, 7.869e-01,\n",
       "       4.585e+00, 9.403e+01, 6.150e-03, 4.006e-02, 3.832e-02, 2.058e-02,\n",
       "       2.250e-02, 4.571e-03, 2.357e+01, 2.553e+01, 1.525e+02, 1.709e+03,\n",
       "       1.444e-01, 4.245e-01, 4.504e-01, 2.430e-01, 3.613e-01, 8.758e-02])"
      ]
     },
     "execution_count": 26,
     "metadata": {},
     "output_type": "execute_result"
    }
   ],
   "source": [
    "from sklearn.datasets import load_breast_cancer\n",
    "cancer=load_breast_cancer()\n",
    "cancer.data[2,:]\n"
   ]
  },
  {
   "cell_type": "code",
   "execution_count": 11,
   "metadata": {},
   "outputs": [
    {
     "data": {
      "text/plain": [
       "['sepal length (cm)',\n",
       " 'sepal width (cm)',\n",
       " 'petal length (cm)',\n",
       " 'petal width (cm)']"
      ]
     },
     "execution_count": 11,
     "metadata": {},
     "output_type": "execute_result"
    }
   ],
   "source": [
    "iris.feature_names"
   ]
  },
  {
   "cell_type": "code",
   "execution_count": 13,
   "metadata": {},
   "outputs": [
    {
     "data": {
      "text/plain": [
       "array([0, 0, 0, 0, 0, 0, 0, 0, 0, 0, 0, 0, 0, 0, 0, 0, 0, 0, 0, 0, 0, 0,\n",
       "       0, 0, 0, 0, 0, 0, 0, 0, 0, 0, 0, 0, 0, 0, 0, 0, 0, 0, 0, 0, 0, 0,\n",
       "       0, 0, 0, 0, 0, 0, 1, 1, 1, 1, 1, 1, 1, 1, 1, 1, 1, 1, 1, 1, 1, 1,\n",
       "       1, 1, 1, 1, 1, 1, 1, 1, 1, 1, 1, 1, 1, 1, 1, 1, 1, 1, 1, 1, 1, 1,\n",
       "       1, 1, 1, 1, 1, 1, 1, 1, 1, 1, 1, 1, 2, 2, 2, 2, 2, 2, 2, 2, 2, 2,\n",
       "       2, 2, 2, 2, 2, 2, 2, 2, 2, 2, 2, 2, 2, 2, 2, 2, 2, 2, 2, 2, 2, 2,\n",
       "       2, 2, 2, 2, 2, 2, 2, 2, 2, 2, 2, 2, 2, 2, 2, 2, 2, 2])"
      ]
     },
     "execution_count": 13,
     "metadata": {},
     "output_type": "execute_result"
    }
   ],
   "source": [
    "iris.target"
   ]
  },
  {
   "cell_type": "code",
   "execution_count": null,
   "metadata": {},
   "outputs": [],
   "source": []
  }
 ],
 "metadata": {
  "kernelspec": {
   "display_name": "Python 3",
   "language": "python",
   "name": "python3"
  },
  "language_info": {
   "codemirror_mode": {
    "name": "ipython",
    "version": 3
   },
   "file_extension": ".py",
   "mimetype": "text/x-python",
   "name": "python",
   "nbconvert_exporter": "python",
   "pygments_lexer": "ipython3",
   "version": "3.7.4"
  }
 },
 "nbformat": 4,
 "nbformat_minor": 2
}
