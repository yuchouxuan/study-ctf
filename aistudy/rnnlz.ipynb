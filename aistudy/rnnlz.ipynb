{
 "cells": [
  {
   "cell_type": "code",
   "execution_count": 144,
   "metadata": {},
   "outputs": [],
   "source": [
    "c='''Universal Declaration of Human Rights Whereas recognition of the inherent dignity and of the equal and inalienable rights of all members of the human family is the foundation of freedom, justice and peace in the world,\n",
    "Whereas disregard and contempt for human rightsflag{tihs_flag_is_coushude} have resulted in barbarous acts which have outraged the conscience of mankind, and the advent of a world in which human beings shall enjoy freedom of speech and belief and freedom from fear and want has been proclaimed as the highest aspiration of the common people,\n",
    "Whereas it is essential, if man is not to be compelled to have recourse, as a last resort, to rebellion against tyranny and oppression, that human rights should be protected by the rule of law,\n",
    "Whereas it is essential to promote the development of friendly relations between nations,flag{ctf_show_flag_is_not_here} \n",
    "Whereas the peoples of the flag{t_e_s_t} United Nations have in the Charter reaffirmed their faith in fundamental human rights, in the dignity and worth of the human person and in the equal rights of men and women and have determined to promote social progress and better standards of life in larger freedom,\n",
    "Whereas Member States have pledged themselves to achieve, inflag{this_flag_is_fake}  co-operation with the United Nations, the promotion of universal respect for and observance of human rights and fundamental freedoms,\n",
    "Whereas a common understanding of these rights and freedoms is of the greatest importance for the full realization of this pledge,\n",
    "Now, Therefore THE GENERAL flag{flag_is_not_here} ASSEMBLY proclaims THIS UNIVERSAL DECLARATION OF HUMAN RIGHTS as a common standard of achievement for all peoples and all nations, to the end that every individual and every organ of society, keeping this Declaration constantly in mind, shall strive by teaching and education to promote respect for these rights and freedoms and by progressive measures, national and international, to secure their universal and effective recognition and observance, both among the peoples of Member States themselves and among the peoples of territories under their jurisdiction.The flag not here.'''\n",
    "c=c.replace('\\n','').lower()\n",
    "c+=''\n",
    "cl=[]\n",
    "import string\n",
    "import math \n",
    "import base64\n",
    "ctn= string.digits+string.ascii_uppercase\n",
    "for  i in range(0,len(c),54):\n",
    "    cl.append(\"%2d\"%(i//54+1)+' '+c[i:i+51])\n",
    "def encod(c=''):\n",
    "    ret=[ord(i) for i in c]\n",
    "    for i in range(3,len(ret)):\n",
    "            ret[i]^=(math.ceil(sum(ret[0:i+1])/i))\n",
    "\n",
    "    print(bytes(ret))\n",
    "\n",
    "    return ret"
   ]
  },
  {
   "cell_type": "code",
   "execution_count": 5,
   "metadata": {},
   "outputs": [],
   "source": [
    "import torch\n",
    "import numpy as np\n",
    "import matplotlib.pyplot as plt  # 导入作图相关的包\n",
    "from torch import nn as nn\n",
    "from torch.autograd import Variable\n",
    "import torch.optim "
   ]
  },
  {
   "cell_type": "code",
   "execution_count": 84,
   "metadata": {},
   "outputs": [],
   "source": [
    "INPUT_SIZE = len(cl[0])\n",
    "device=\"cuda:0\" if torch.cuda.is_available() else \"cpu\"\n",
    "class SimpleRNN(nn.Module):\n",
    "    def __init__(self, input_size, hidden_size=256, output_size=256, num_layers = 1):\n",
    "        super(SimpleRNN, self).__init__()\n",
    "        self.hidden_size = hidden_size\n",
    "        self.num_layers = num_layers\n",
    "        \n",
    "        self.embedding = nn.Embedding(input_size, hidden_size)\n",
    "        self.rnn = nn.RNN(hidden_size, hidden_size, num_layers, batch_first = True)\n",
    "        self.fc0 = nn.Linear(hidden_size, 1024)\n",
    "        self.fc1 = nn.Linear(1024, 1024)\n",
    "        self.fco = nn.Linear(1024, output_size)\n",
    "\n",
    "        self.drop = nn.Dropout(0.2)\n",
    "    def forward(self, input, hidden):\n",
    "\n",
    "        x = self.embedding(input)\n",
    "        output, hidden = self.rnn(x, hidden)\n",
    "#         output = self.drop(output)\n",
    "        output =torch.relu(self.fc0(output))\n",
    "        output = self.drop(output)\n",
    "        output =torch.relu(self.fc1(output))\n",
    "        output = self.drop(output)\n",
    "        output =self.fco(output)\n",
    "#         output = self.softmax(output)\n",
    "        return output, hidden\n",
    "    def initHidden(self):\n",
    "        return Variable(torch.zeros(self.num_layers, 1, self.hidden_size))\n"
   ]
  },
  {
   "cell_type": "code",
   "execution_count": 146,
   "metadata": {},
   "outputs": [
    {
     "data": {
      "text/plain": [
       "b\"41 ='\\x15R+\\x14P_MZ\\x1cV2\\x1bGQ5M\\x1cXS^&\\x10NSZ!3Z\\x1eK^+Z\\x1eV4\\x1e\\\\^2%Y5,S9\\x1eY,^';KW%`.%K7P2T\\x1fW^3\\x1fV43`-%R/M9`)`-)3L`&^&!=\""
      ]
     },
     "execution_count": 146,
     "metadata": {},
     "output_type": "execute_result"
    }
   ],
   "source": [
    "base64.b64decode('NDEgPScVUisUUF9NWhxWMhtHUTVNHFhTXiYQTlNaITNaHkteK1oeVjQeXF4yJVk1LFM5HlksXic7S1clYC4lSzdQMlQfV14zH1Y0M2AtJVIvTTlgKWAtKTNMYCZeJiE9')"
   ]
  },
  {
   "cell_type": "code",
   "execution_count": 145,
   "metadata": {},
   "outputs": [
    {
     "name": "stdout",
     "output_type": "stream",
     "text": [
      "b\" 1 8(V3%M3\\\\-\\x19X[#S^0!4W/Q\\x1dPY\\x1dW5R!Q\\x1dMV'W43\\x1dHVZ2Z!L\\x1eMZ#PX\"\n",
      "b\" 2  .S\\x14U[\\x18JVZ\\x1cV/([2Z/4\\x1cZV'Q)K9\\x1d_Q[\\x1e/Y\\x1eKW%\\x1d[N5^,\\x1e^Q$\\x1eVQ\"\n",
      "b' 3 -*] S%\\x16IRZW62\\x1bQX\\x1c_,S\\x1dRZ-]%23\\x1cQX\\x1dJVZ\\x1eW5R!Q\\x1eY^-)S9\\x1eV3'\n",
      "b' 4 ,\\x10^/KQ$\\\\6)P.\\x19S[\\x1b[MZ%[.-\\x11\\x1bVKMKV\\\\%\\x1d_Q$\\x1dNZ^#Z\\x1eV.\\x1eKWZ\\x1f7'\n",
      "b' 5 -\\x18JU%LZ 3\\x18_W3MZ&^0$\\x1c\\\\Q[\\x1e\\\\..4Z-O4\\x1dXP2\\x1dVJR!Q\\x1eMVX(43Y,'\n",
      "b' 6 :.*3d\\'S!Y`*1`!/5LW4$Z<\\x1dV^7%\\x1dL[3J,KZ$\\x1dWQ\\x1e]^2\"^2/J3\\x1e_'\n",
      "b' 7 \\x136T)_)\\x16R]6[\\x1cP54M^&Z$\\x1cJVZ\\x1e\\\\/.L\\\\)%Q\\\\%\\x1ePY\\x1eR^.+V.[\\x13\\x1e_Q['\n",
      "b' 8 /\\x12X[3$Q5\\x19RX\\x1a\\\\\\x1bIQM,Z\\x1dW.\\x1cIVV\\\\)\\x1dW5R!Q\\x1d\\\\Z).X3\\x1eLW^,,\\x1eZQ*'\n",
      "b' 9 -4%Y$Q-\\x16TZ\\x19NN[%](\\x1b\\\\Q[\\x1e]%,VZ&\\x1d_.[\\x1eY2Z%[/-\\x1eXM/R\\x1eYZ!M\\x1e'\n",
      "b'10 \\x163]*5\\x15RZ3\\x18YXZ/\\x1cNM/],^(-Z$\\x1c\\\\L\\x1dKWZ\\x1eW)X(Z34\\x1e_3OV2!KV/.'\n",
      "b\"11 \\x167W'\\x15ZQ-S/Q\\x1bN[/0SZ\\x12HW%MZ!3\\x1dWK\\x1dWL\\x1d[L3Z.4V!S\\x12\\x1dWX\\x1dS_Q\\x1e\"\n",
      "b'12 ?\"1\\x14OR\\x17XX\\x1a^/R0Z,S%[\\x1dK/\\x1cU_6Z\\x1eMZ#/J2LZ\\x12\\x1d_L\\x1d_\\x1dR^3K\\x1eMZ3'\n",
      "b'13 \\x17\\x0fNS\\x14I^\\\\$S-V..\\x1a]Y^(.3K\\x1cJFM^..9\\x1d_Q[\\x1e/O0MZ33V/.\\x12\\x1dJV_K'\n",
      "b'14 <(+\\x14IUY)4L\\x1aNV/JS$\\x1b_Z\\x1dO2P4Z#KZ$\\x1d\\\\9\\x1dJVZ\\x1eM5SZ\\x1f/Y\\x1eS^7\\x13H'\n",
      "b'15 *$1\\x11^I\\x15SN\\x17_MLZ/4V!S\\x1dKP\\x1dOM/R/KZ\\x1e4W%\\x1dZZ6Z,/O-Z.4\\x1ePY\\x1eY'\n",
      "b\"16 <.*=\\x16NX,_6)P.L\\x1b_Z56%[.\\x1cP_4V/.L\\x12XS^';\\\\4&`3(P7`&,^'`)\"\n",
      "b\"17 <:\\x19(Y0[9\\x1aHV%MZ 3\\x1bIU[\\x1dOZ/0S%L\\x1dQY\\x1dKWZ\\x1eY,^';4`%`3\\x1f4=\\x1eJ\"\n",
      "b'18 5-\\x16P_1+/P3\\x19T\\\\6Z\\x1cV.\\x1bJVZ\\x1d](^24Z2\\x1eMZ!Y&V2-Z$\\x1dKWZ)M\\x1eY^)'\n",
      "b'19 8\"\\x14]7.Y^.$Q5^.\\x1cV5R!Q\\x1cLVX(43\\x11\\x1bUS\\x1cIU[\\x1dZWX.V49\\x1e^Q$\\x1eHPM'\n",
      "b\"20 >,\\x16KW'\\x17SKR^-\\x1cOZ02/Q\\x1c_.[\\x1dV.\\x1cJVZ\\x1eZ15^,\\x1dMVX(4L\\x1ePY\\x1eRZ.\\x1e\"\n",
      "b'21 \\x172P/[-\\x18ZQ$\\x19T\\\\6[\\x1cZ%KZ3-V.Z$\\x1dKP\\x1dNMP-P4Z\\x1eL/\\\\)^,\\x1eOM/X2Z'\n",
      "b\"22 ,&[\\x19\\\\'5KZ1\\x1bL4_.[!2Z3\\x1cQX\\x1dRV&Z\\x1eV.\\x1dR_2X%M\\x1eY2Z%[/R\\x13HWZ2\"\n",
      "b'23 \\x17.X.\\\\&3\\x17OJ\\\\5Z1\\x1cV^4%\\x1cNRZ$X%[\\x1eKW%R3Z,6Z3\\x1eK/\\x1d_\\\\(V%IZ\\x13\\x1e'\n",
      "b\"24 =(#94U)Ma$,_'a(3a&^*%=\\x1c\\x1b_Q\\x11RN[M^4)P.\\x1dHVKW\\x1eKW%\\x1eJQV4%\"\n",
      "b'25 /?/+.M\\x14\\x13LQ^\\x18KORR/KV..\\x1cQX\\x1cKQV6Z33^-\\x1eMZ30Z#4\\x1eXP2\\x1e_Q[\\x1f'\n",
      "b\"26 *;1!P\\\\'\\x19RX\\x1bV5R^,\\x1dMV'W53\\x1d_.[\\x1dY5Q$^-Z.4^,\\x1eY2Z%[/-L\\x12HW\"\n",
      "b\"27 /8\\x17]\\x18_-R,/P\\x1aKPZ%M34_.[).X\\x1dPY\\x1eKW%3Z\\x1eMV'W43\\x1e_Q$\\x1eXMZ%[\"\n",
      "b'28 \\x19*3\\x10X\\\\\\x16OT[\\x1bY2Z!KZ25\\x1cWR0/M4^.\\\\%\\x1dXP2\\x1dKWZ\\x1eY5,S\\x1eMZ!S):^'\n",
      "b\"29 =\\x1a+X\\x18KW(3\\x18LQ[[&%\\x17SQH\\x10\\x1aHTXL[Y/2Z\\x1e4WZ\\x1eX%.Z2^,\\x1eY,^';Y,\"\n",
      "b'30 &4\\x1fS/Ka*%MZ>\\x1c_23Z,]-8\\x1dOM/\\\\,^)-L\\x1dKW)L\\x1dJQV6Z23^,\\x1e[%\\\\,'\n",
      "b\"31 ',-P\\x16S[\\x19U5R^,\\x1cMV'W53\\x1c_3\\x1c\\\\\\x1c^PR-P.\\x1dLK^.[!2[\\x1ePY\\x1e^#W)Z6\"\n",
      "b'32 ?:\\x1a&Q3\\x16XQS\\x1bN[.0S%L\\x1c\\\\Q[\\x1e^-,\\x1dP_4V/.L\\x12\\x1cJQ\\x1cJV[\\x1d[Q[\\x1eKW!K'\n",
      "b'33 *;1\\x15RQ$T7V$J^.\\x1c_.[\\x1dZ7%M9\\x1cQMX!Q\\x1dPY\\x1eLP\\\\)%K9\\x12\\x1dU[ZO)QX\\x1f'\n",
      "b\"34 '\\x14_$^.^6 4W/Q\\x1b]/Q34_.4S9\\x1dWQ\\x1dRV.[\\x13\\x1dMV^,,\\x1dMKMV6Z\\x1f]9\\x1eK\"\n",
      "b'35 8\"*Y\\x18]/[\\x1b[$5]!KV..\\x1bIQ\\x1bMLQR/KZ\\x1eMZ20Z#4\\x1dXP2\\x1eKWZ3Z\\x1f2V\\''\n",
      "b'36 \\x19 S[\\x1aX1%X[-,3\\x1a]P[\\x1d]8\\x1dO2PX3%L3V6Z\\x1eR%^352Z3\\x12\\x1dP_KV/Q^,'\n",
      "b'37 4\\x18)S5[1/_6)P._-\\x10\\x19HS\\x1aOY^J2Z\\x1dKW%V2\\x1dJQV6%M3^,\\x1e_Q$\\x1e[Y&Z'\n",
      "b'38  !\\x10J\\\\^-X,)KV..\\x1a]Q[\\x1dP]2%2I^/#Z\\x12\\x1c_PKW\\x1e^-P.X\\x1eKW%\\x1eOZ/O,'\n",
      "b\"39 ;*\\x17R%S]'3\\x19NJ_5%L\\x1bJVZ,3Z,6Z3\\x1d_.[\\x1e^-P.X\\x1eKW%\\x1eOZ/O,Z3\\x1eP\"\n",
      "b\"40 +;4+4Q2W%L\\x1aKP[%2\\x1bIU[)M\\x1cTJ2V3[)\\\\5)P.\\x10JVZ\\x1eY,^'\\x1eQP4\\x1eVZ\"\n",
      "b\"41 ='\\x15R+\\x14P_MZ\\x1cV2\\x1bGQ5M\\x1cXS^&\\x10NSZ!3Z\\x1eK^+Z\\x1eV4\\x1e\\\\^2%Y5,S9\\x1eY,^';KW%`.%K7P2T\\x1fW^3\\x1fV43`-%R/M9`)`-)3L`&^&!=\"\n"
     ]
    },
    {
     "data": {
      "text/plain": [
       "tensor([[52, 49, 32, 61, 39, 21, 82, 43, 20, 80, 95, 77, 90, 28, 86, 50, 27, 71,\n",
       "         81, 53, 77, 28, 88, 83, 94, 38, 16, 78, 83, 90, 33, 51, 90, 30, 75, 94,\n",
       "         43, 90, 30, 86, 52, 30, 92, 94, 50, 37, 89, 53, 44, 83, 57, 30, 89, 44,\n",
       "         94, 39, 59, 75, 87, 37, 96, 46, 37, 75, 55, 80, 50, 84, 31, 87, 94, 51,\n",
       "         31, 86, 52, 51, 96, 45, 37, 82, 47, 77, 57, 96, 41, 96, 45, 41, 51, 76,\n",
       "         96, 38, 94, 38, 33, 61]])"
      ]
     },
     "execution_count": 145,
     "metadata": {},
     "output_type": "execute_result"
    }
   ],
   "source": [
    "net = SimpleRNN(256)\n",
    "net.to(device)\n",
    "INPUT_SIZE\n",
    "m=[]\n",
    "lab = []\n",
    "for i in cl:\n",
    "    m.append(torch.tensor([(encod(i))],dtype=torch.long))\n",
    "    lab.append(torch.tensor([ord(x) for x in i],dtype=torch.long))\n",
    "\n",
    "# net(m[0],zt)\n",
    "\n",
    "flag=\"41 ok ok here is your flag.please take it carefully flag{The_network_has_its_memory_I_miss_fafa}\".lower()\n",
    "flag=encod(flag)\n",
    "flag= torch.tensor([flag])\n",
    "flag\n",
    "\n"
   ]
  },
  {
   "cell_type": "code",
   "execution_count": 149,
   "metadata": {},
   "outputs": [
    {
     "data": {
      "application/vnd.jupyter.widget-view+json": {
       "model_id": "0c63c40778504990bc6d7fbb381115e7",
       "version_major": 2,
       "version_minor": 0
      },
      "text/plain": [
       "  0%|          | 0/40 [00:00<?, ?it/s]"
      ]
     },
     "metadata": {},
     "output_type": "display_data"
    },
    {
     "name": "stdout",
     "output_type": "stream",
     "text": [
      "41 nd ii ndre ir cntr flag,poease taie it carefully flag{the networi has its_ emiry i_hiss faga}  0.003224422922357917\n",
      "41 nd ii ndse ir cnur flag,please taie it carefully flag{the_networi has its_ eoiry i_hiss_fagal  0.3896155059337616\n",
      "41 ed ii odre ir cnur flaf,please take it carefully flag{the_networifhas its_meomry i_ciss fagal  0.018647326156497\n",
      "t1 nt ii nese ir cntr flafqplease taie it carefully flag{the_wetwori has its_meomry i_ciss fagal  0.14657294750213623\n",
      "41 nt ii nere ir cntr flag,slease taie it aareeully flag{the_wetwori has its_meoory_i_hiss_fagal  0.0028602981474250555\n",
      "41 nd ii ndse ir pnur flaf,please taie iu careuully flag{the_wetwori ias its_meoory_i_hiss fefal  0.11197781562805176\n",
      "41 nt ii nare ir cntr flag,please take it careeully flag{the networh has hts_memory i_hiss_fefa}  0.0016760575817897916\n",
      "41 nd ii nase ir cnur flaf,please take it carefully flag{the_cetwori has_hts_demmry i_ci3s_fega}  0.05912942439317703\n",
      "41 nd ii nase ir cnur alag,please tane iu carefully flag{the,networi has_hts,bemory i_hirs,faga}  0.0013879617908969522\n",
      "41 nd im nare ir cnur flar0please tane it carefully flag{the_networi ias_hts_memmry i_hiss_faga}  0.0005203895270824432\n",
      "41 nd im nate ir cnur alar,please take it caredtlly flag{the_cetwnri has_its_memory i_hi3s_fagal  0.006574801169335842\n",
      "41 nd in nare ir cntr flar,please take it carefully flag{the  etwnri ias its memory i_ci3s fagal  0.0008240317110903561\n",
      "41 ng im oare ir botr flag,please taog it carefully flag{the_networi has_hts_memiry_i_liss_fagal  0.05159420520067215\n",
      "41 ng ii ndre ir antr flag,please take it carefully flag{the_networi has_hts_memmry_i_ciss_fagal  0.01749822311103344\n",
      "41 ng ii nase ir cntr flag,slease take it carefully flag{the_networi has its_memory_i_liss_fagal  0.09789825230836868\n",
      "41 ng io ndse ir anur flag,please take it carefully flag{the_networi has ets_memory_i_li3s fagal  0.00992931891232729\n",
      "41 ng in nase ir cntr flag,please take it carefully flag{the_networi has jts_memory i_li3s_fagal  0.00170228723436594\n",
      "41 ng io oese ir bntr flag,please tane it carefully flag{the_networi has jts_me}ory_i_liss_fagal  8.394115866394714e-05\n",
      "41 ng io nase ir cntr flag,please take it carefully flag{the_networi has rts_memory_i_li3s_fagal  5.181014785193838e-05\n",
      "41 ng io oase ir bntr flag,please tane it carefully flag{the_networi has jts_memory i_liss_fagal  4.1856037569232285e-05\n",
      "41 ng io nase ir antr flag,please take it caredully flag{the_networi has its_me}iry_i_liss faga}  0.009946589358150959\n",
      "41 nt ii nase ir anur flag,please take it carefully flag{the_networi has rts_memiry i_liss_fagal  4.055844328831881e-05\n",
      "41 nd io oase ir antr flag,slease take it carefully flag{the_networi has_hts_lemory i_liss_fagal  0.00015950702072586864\n",
      "41 nn in nane ir antr flag,please taoe it carefully flag{the_networi has_hts_lemory_i_liss_fagal  0.0001556344359414652\n",
      "41 nt ii oase ir anur flag,slease taoe it carefully flag{the_networi has_hts_le}iry i_ciss_faga}  0.00016604438133072108\n",
      "41 nd io oare ir antr flag,slease taoe it caredully flag{the_networi has its memory i_liss_fagal  0.002497115172445774\n",
      "4w nd ii nase ir antr flag_slease take iu caredully flag{the_networ_ has_hts_aemory_i_hiss_fagal  7.618112431373447e-05\n",
      "41 nb ii nase ir anur flag,please take it carefully flag{the_networi has_hts_memory i_miss fagal  0.0032681268639862537\n",
      "41 nb ii nase hr cnur flag,please take iu carefully flag{the_networi hes hts_memiry i_miss fagal  0.0017183294985443354\n",
      "41 nt ii nare ir anur flag,please take it carefully flag{the_networi her_hts_memiry_i_liss_fagal  0.006190124433487654\n",
      "41 nt ii nare ir cnur glag,please take it caregully flag{the_networi ies_hts_memory_i_liss_fagal  0.07944077998399734\n",
      "41 ng ie nare ir anur blag,pleasd take it carefully flag{the_networi hes_hts_memory_i_liss_fafa}  0.0844428539276123\n",
      "4y ng ii nare ir wn5r glag,please tane it carefully flag{the_neteori ies_its_me}ory_i_liss_faga}  0.12220187485218048\n",
      "41 ng ii ncse ir wnur glag,please tane it carefully flag{the_netwnri ies_its_memory_i_liss_fagal  0.23816855251789093\n",
      "41 ng ii nase ir wntr jlag,please tane it farefully flag{the_netwnri ias its_memiry_i_lips_iagal  0.06740938872098923\n",
      "4t ng ii tare ir tnur glag,please take it carefully flag{the_netvori has_hts_leoory_i_liss_fagal  0.06249085068702698\n",
      "41 ng ii nase ir cntr glag,please taoe it careftlly flag{the_networi ias hts_meoory_i_oiss_fagal  0.0028780282009392977\n",
      "41 ng i  nase ir cntr flag,please take it careftlly flag{the_networi ias_hts_meoory_i_liss_fagan  0.00458942586556077\n",
      "41 ng in nase ir jntr glag,please taoe it carefully fnag{the_networi has hts_meomry_i_liss_faga}  0.0038331348914653063\n",
      "41 ng in nase ir jntr blag,please taoe it carefully fnag{the_networi has hts_meomry_i_liss_faga}  0.0005490825278684497\n"
     ]
    },
    {
     "data": {
      "text/plain": [
       "[<matplotlib.lines.Line2D at 0x7ffd65118100>]"
      ]
     },
     "execution_count": 149,
     "metadata": {},
     "output_type": "execute_result"
    },
    {
     "data": {
      "image/png": "[encoded data removed]",
      "text/plain": [
       "<Figure size 432x288 with 1 Axes>"
      ]
     },
     "metadata": {
      "needs_background": "light"
     },
     "output_type": "display_data"
    }
   ],
   "source": [
    "criterion = nn.CrossEntropyLoss()  #交叉熵损失函数\n",
    "optimizer = torch.optim.Adam(net.parameters(), 1e-3)  # 用Adam优化器,传入要优化的参数和学习率\n",
    "zt = net.initHidden().to(device)\n",
    "lo=[]\n",
    "import tqdm.notebook as tqdm\n",
    "for w in tqdm.trange(40):\n",
    "    for k in range(1):\n",
    "        for j in range(40):\n",
    "            net.zero_grad()\n",
    "    #         print(m[j])\n",
    "            out,hid=net(m[j].to(device),zt)\n",
    "            loss = criterion(out[0],lab[j])\n",
    "            loss.backward()\n",
    "            hid.cpu()\n",
    "            optimizer.step()\n",
    "    lo.append(loss.item())\n",
    "    o,h = net(flag,zt)\n",
    "    o=o.data.max(2)[1].numpy()\n",
    "    for i in o[0]:\n",
    "        print(chr(i),end='')\n",
    "    print(' ',loss.item())\n",
    "    \n",
    "    \n",
    "import matplotlib.pyplot as plt\n",
    "plt.plot(lo)\n",
    "\n",
    "   "
   ]
  },
  {
   "cell_type": "code",
   "execution_count": 44,
   "metadata": {},
   "outputs": [
    {
     "data": {
      "text/plain": [
       "[<matplotlib.lines.Line2D at 0x7fab5bfd6730>]"
      ]
     },
     "execution_count": 44,
     "metadata": {},
     "output_type": "execute_result"
    },
    {
     "data": {
      "image/png": "[encoded data removed]",
      "text/plain": [
       "<Figure size 432x288 with 1 Axes>"
      ]
     },
     "metadata": {
      "needs_background": "light"
     },
     "output_type": "display_data"
    }
   ],
   "source": [
    "import matplotlib.pyplot as plt\n",
    "plt.plot(lo)\n",
    "\n",
    "# for i in range(1):\n",
    "\n",
    "# print(o.data.max(1, keepdim=True)[1])\n"
   ]
  }
 ],
 "metadata": {
  "kernelspec": {
   "display_name": "Python 3",
   "language": "python",
   "name": "python3"
  },
  "language_info": {
   "codemirror_mode": {
    "name": "ipython",
    "version": 3
   },
   "file_extension": ".py",
   "mimetype": "text/x-python",
   "name": "python",
   "nbconvert_exporter": "python",
   "pygments_lexer": "ipython3",
   "version": "3.9.1"
  }
 },
 "nbformat": 4,
 "nbformat_minor": 4
}
