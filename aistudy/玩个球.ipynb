{
 "cells": [
  {
   "cell_type": "code",
   "execution_count": 2,
   "metadata": {
    "tags": []
   },
   "outputs": [
    {
     "name": "stdout",
     "output_type": "stream",
     "text": [
      "params: _wave_params(nchannels=1, sampwidth=2, framerate=16000, nframes=109440, comptype='NONE', compname='not compressed')\n"
     ]
    },
    {
     "data": {
      "text/plain": [
       "(0.915985107421875, -0.67767333984375)"
      ]
     },
     "execution_count": 2,
     "metadata": {},
     "output_type": "execute_result"
    }
   ],
   "source": [
    "import wave\n",
    "import matplotlib.pyplot as plt\n",
    "import numpy as np\n",
    "import struct\n",
    "\n",
    "\n",
    "class WavF:\n",
    "    strData = ''\n",
    "    params = ''\n",
    "    nchannels = 0\n",
    "    sampwidth = 0\n",
    "    framerate = 0\n",
    "    nframes = 0\n",
    "    strData = ''\n",
    "    waveData = []\n",
    "\n",
    "    def __init__(self, fn=''):\n",
    "        self.open(fn)\n",
    "\n",
    "    def open(self, fn=''):\n",
    "        with wave.open(fn, 'rb') as f:\n",
    "            self.params = f.getparams()\n",
    "            print('params:', self.params)\n",
    "            self.nchannels, self.sampwidth, self.framerate, self.nframes = self.params[:4]\n",
    "            self.strData = f.readframes(self.nframes)  # 读取音频，字符串格式\n",
    "            self.waveData = np.frombuffer(self.strData, dtype=np.int16).tolist()  # 将字符串转化为int\n",
    "\n",
    "    def showit(self):\n",
    "        time = np.arange(0, self.nframes) * (1.0 / self.framerate)\n",
    "        plt.plot(time, self.waveData)\n",
    "        plt.xlabel(\"Time(s)\")\n",
    "        plt.ylabel(\"Amplitude\")\n",
    "        plt.title(\"Single channel wavedata\")\n",
    "        plt.grid('on')  # 标尺，on：有，off:无。\n",
    "        plt.show()\n",
    "\n",
    "\n",
    "def CreateWav(fn='', datas=[0], framerate=8000, channel=2, sampwidth=2):\n",
    "    with wave.open(fn, 'w') as f:\n",
    "        f.setnchannels(channel)\n",
    "        f.setsampwidth(sampwidth)\n",
    "        f.setframerate(framerate)\n",
    "        if isinstance(datas[0], list):\n",
    "            for i in range(len(datas[0])):\n",
    "                for j in range(channel):\n",
    "                    try:\n",
    "                        f.writeframesraw(struct.pack('h', int(round(datas[j][i]))))\n",
    "                    except:\n",
    "                        f.writeframesraw(struct.pack('h', 0))\n",
    "                        print(\"err:%d\",int(round(datas[j][i])))\n",
    "        else:\n",
    "            for i in datas:\n",
    "                f.writeframesraw(struct.pack('h', int(round(i))))\n",
    "\n",
    "\n",
    "\n",
    "wave_org = WavF('a.wav')\n",
    "wave_org.waveData.extend([0 for i in range(16000-len(wave_org.waveData)%16000) ])\n",
    "wave_org.nframes = len(wave_org.waveData)\n",
    "sdat = np.array(wave_org.waveData)  \n",
    "sdat = sdat/32768\n",
    "sdat.max(),sdat.min()"
   ]
  },
  {
   "cell_type": "code",
   "execution_count": null,
   "metadata": {
    "tags": []
   },
   "outputs": [],
   "source": [
    "import tqdm.notebook as tqdm\n",
    "import scipy\n",
    "w = 16000 // 200\n",
    "\n",
    "plt.figure(figsize=(4,20))\n",
    "\n",
    "fftfull = []\n",
    "for i in tqdm.trange(0, len(sdat),w):\n",
    "    fftf = np.abs(np.fft.fft(sdat[i:i+w]))\n",
    "    fftfull.append(fftf)\n",
    "    fft = fftf[:w//2]\n",
    "    plt.cla()\n",
    "    plt.ylim(0,25)\n",
    "    plt.ylabel(\"NLOG\",fontsize='small')\n",
    "\n",
    "    plt.bar([x for x in range(w//2)],fft)\n",
    "    plt.savefig('./%4d.png'%(i//w))\n",
    "    \n",
    "#     plt.plot(fft)\n",
    "fftfull[0] \n",
    "\n",
    "wn =[ ]\n",
    "for i in fftfull:\n",
    "    x =np.fft.ifft(i)\n",
    "    wn.extend(list(x))\n",
    "\n",
    "\n",
    "maxarg = max(abs(max(wn)),abs(min(wn))) \n",
    "wn = wn/maxarg * 32767 \n",
    "max(abs(max(wn)),abs(min(wn)))\n",
    "\n",
    "CreateWav('./b.wav',wn,16000,1)"
   ]
  },
  {
   "cell_type": "code",
   "execution_count": 1,
   "metadata": {
    "tags": []
   },
   "outputs": [
    {
     "ename": "NameError",
     "evalue": "name 'tqdm' is not defined",
     "output_type": "error",
     "traceback": [
      "\u001b[0;31m----------------------------------------------------------\u001b[0m",
      "\u001b[0;31mNameError\u001b[0m                Traceback (most recent call last)",
      "\u001b[0;32m<ipython-input-1-721a5e193da6>\u001b[0m in \u001b[0;36m<module>\u001b[0;34m\u001b[0m\n\u001b[1;32m      1\u001b[0m \u001b[0;32mfrom\u001b[0m \u001b[0mapng\u001b[0m \u001b[0;32mimport\u001b[0m \u001b[0mAPNG\u001b[0m\u001b[0;34m\u001b[0m\u001b[0;34m\u001b[0m\u001b[0m\n\u001b[1;32m      2\u001b[0m \u001b[0mpicList\u001b[0m \u001b[0;34m=\u001b[0m\u001b[0;34m[\u001b[0m\u001b[0;34m]\u001b[0m\u001b[0;34m\u001b[0m\u001b[0;34m\u001b[0m\u001b[0m\n\u001b[0;32m----> 3\u001b[0;31m \u001b[0;32mfor\u001b[0m \u001b[0mi\u001b[0m \u001b[0;32min\u001b[0m \u001b[0mtqdm\u001b[0m\u001b[0;34m.\u001b[0m\u001b[0mtrange\u001b[0m\u001b[0;34m(\u001b[0m\u001b[0;36m1400\u001b[0m\u001b[0;34m)\u001b[0m\u001b[0;34m:\u001b[0m\u001b[0;34m\u001b[0m\u001b[0;34m\u001b[0m\u001b[0m\n\u001b[0m\u001b[1;32m      4\u001b[0m     \u001b[0mpicList\u001b[0m\u001b[0;34m.\u001b[0m\u001b[0mappend\u001b[0m\u001b[0;34m(\u001b[0m\u001b[0;34m'./%4d.png'\u001b[0m\u001b[0;34m%\u001b[0m\u001b[0mi\u001b[0m\u001b[0;34m)\u001b[0m\u001b[0;34m\u001b[0m\u001b[0;34m\u001b[0m\u001b[0m\n\u001b[1;32m      5\u001b[0m \u001b[0mAPNG\u001b[0m\u001b[0;34m.\u001b[0m\u001b[0mfrom_files\u001b[0m\u001b[0;34m(\u001b[0m\u001b[0mpicList\u001b[0m\u001b[0;34m,\u001b[0m \u001b[0mdelay\u001b[0m\u001b[0;34m=\u001b[0m\u001b[0;36m1\u001b[0m\u001b[0;34m)\u001b[0m\u001b[0;34m.\u001b[0m\u001b[0msave\u001b[0m\u001b[0;34m(\u001b[0m\u001b[0;34m\"./flag.png\"\u001b[0m\u001b[0;34m)\u001b[0m\u001b[0;34m\u001b[0m\u001b[0;34m\u001b[0m\u001b[0m\n",
      "\u001b[0;31mNameError\u001b[0m: name 'tqdm' is not defined"
     ]
    }
   ],
   "source": [
    "from apng import APNG \n",
    "picList =[]\n",
    "for i in tqdm.trange(1400):\n",
    "    picList.append('./%4d.png'%i)\n",
    "APNG.from_files(picList, delay=1).save(\"./flag.png\")"
   ]
  },
  {
   "cell_type": "code",
   "execution_count": null,
   "metadata": {
    "tags": []
   },
   "outputs": [],
   "source": [
    "from apng import APNG \n",
    "from PIL import Image\n",
    "from io import StringIO,BytesIO\n",
    "from tqdm import notebook as tqdm\n",
    "import numpy as np\n",
    "ap = APNG.open(\"./flag.png\")\n",
    "xpos  =[ int(48+(252-48)/40*i )for i in range(40)]\n",
    "y25 = 173\n",
    "y0= 1260\n",
    "ypp = 25/(y0-y25)\n",
    "\n",
    "def getVals(png):\n",
    "    img=np.array(Image.open(BytesIO(png.to_bytes())))\n",
    "    ret = []\n",
    "    for x in xpos: \n",
    "        try:\n",
    "            line = list(img[y25+1:y0,x,2])\n",
    "            ret.append(25-line.index(180)* ypp)\n",
    "        except:\n",
    "            ret.append(0)\n",
    "    return ret \n",
    "fftdat = []\n",
    "\n",
    "for i in tqdm.tqdm(ap.frames):\n",
    "    framefft=getVals(i[0])\n",
    "    framefft.extend(framefft[::-1])\n",
    "    fftdat.append(framefft)\n",
    "soundout =[ ]\n",
    "for i in fftdat:\n",
    "    x =np.fft.ifft(i)\n",
    "    soundout.extend(list(x))\n",
    "maxarg = max(abs(max(soundout)),abs(min(soundout))) \n",
    "soundout = soundout/maxarg * 30000 \n",
    "CreateWav('./c.wav',soundout,16000,1)"
   ]
  },
  {
   "cell_type": "code",
   "execution_count": 3,
   "metadata": {},
   "outputs": [
    {
     "name": "stdout",
     "output_type": "stream",
     "text": [
      "WHRTb2Z0d2FyZQBNYXRwbG90bGliIHZlcnNpb24zLjMuMywgaHR0cHM6Ly9tYXRwbG90bGliLm9yZy/Il7ecAAAAAElFTkSuQmCC\n"
     ]
    }
   ],
   "source": [
    "with open('./flag.png','rb') as f:\n",
    "    fileb = f.read()\n",
    "import base64\n",
    "b64 = base64.b64encode(fileb).decode()\n",
    "print(b64[-100:])\n"
   ]
  },
  {
   "cell_type": "code",
   "execution_count": 23,
   "metadata": {},
   "outputs": [
    {
     "data": {
      "application/vnd.jupyter.widget-view+json": {
       "model_id": "9fa77a5ba9fa4259b108bf7455baa55f",
       "version_major": 2,
       "version_minor": 0
      },
      "text/plain": [
       "  0%|          | 0/13165340 [00:00<?, ?it/s]"
      ]
     },
     "metadata": {},
     "output_type": "display_data"
    }
   ],
   "source": [
    "import numpy as np\n",
    "import matplotlib.pyplot as plt\n",
    "from mpl_toolkits.mplot3d import Axes3D\n",
    "import numpy as np\n",
    "import math \n",
    "\n",
    "x=[]\n",
    "y=[]\n",
    "z=[]\n",
    "b = 'ABCDEFGHIJKLMNOPQRSTUVWXYZabcdefghijklmnopqrstuvwxyz0123456789+/'\n",
    "for  xt in range(-28000,28000,875) :\n",
    "    t = xt \n",
    "    x.append(28000*math.sin(t/3000))\n",
    "    y.append(28000*math.cos(t/3000))\n",
    "    z.append(t)\n",
    "#     print(a:=a+1)\n",
    "\n",
    "\n",
    "from tqdm.notebook import *\n",
    "from random import randint,random\n",
    "xs=[]\n",
    "ys=[]\n",
    "zs=[]\n",
    "\n",
    "for  i in tqdm(b64): \n",
    "    idx = b.find(i)\n",
    "    r = randint(0,3700)\n",
    "    alp1 = random() *13\n",
    "    alp2 = random() * 13\n",
    "    xs.append(x[idx]+r*math.cos(alp1)*math.sin(alp2))\n",
    "    ys.append(y[idx]+r*math.cos(alp1)*math.cos(alp2))\n",
    "    zs.append(z[idx]+r*math.sin(alp1))\n",
    "       \n",
    "CreateWav('./d.wav',[xs,ys,zs],16000,3)\n"
   ]
  },
  {
   "cell_type": "code",
   "execution_count": 1,
   "metadata": {},
   "outputs": [
    {
     "name": "stdout",
     "output_type": "stream",
     "text": [
      "params: _wave_params(nchannels=3, sampwidth=2, framerate=16000, nframes=13165340, comptype='NONE', compname='not compressed')\n"
     ]
    }
   ],
   "source": [
    "import wave\n",
    "import matplotlib.pyplot as plt\n",
    "import numpy as np\n",
    "import struct\n",
    "class WavF:\n",
    "    strData = ''\n",
    "    params = ''\n",
    "    nchannels = 0\n",
    "    sampwidth = 0\n",
    "    framerate = 0\n",
    "    nframes = 0\n",
    "    strData = ''\n",
    "    waveData = []\n",
    "\n",
    "    def __init__(self, fn=''):\n",
    "        self.open(fn)\n",
    "\n",
    "    def open(self, fn=''):\n",
    "        with wave.open(fn, 'rb') as f:\n",
    "            self.params = f.getparams()\n",
    "            print('params:', self.params)\n",
    "            self.nchannels, self.sampwidth, self.framerate, self.nframes = self.params[:4]\n",
    "            self.strData = f.readframes(self.nframes)  # 读取音频，字符串格式\n",
    "            self.waveData = np.frombuffer(self.strData, dtype=np.int16).tolist()  # 将字符串转化为int\n",
    "\n",
    "    def showit(self):\n",
    "        time = np.arange(0, self.nframes) * (1.0 / self.framerate)\n",
    "        plt.plot(time, self.waveData)\n",
    "        plt.xlabel(\"Time(s)\")\n",
    "        plt.ylabel(\"Amplitude\")\n",
    "        plt.title(\"Single channel wavedata\")\n",
    "        plt.grid('on')  # 标尺，on：有，off:无。\n",
    "        plt.show()\n",
    "\n",
    "\n",
    "import numpy as np\n",
    "wave_org = WavF('d.wav')\n",
    "xyz = np.array(wave_org.waveData).reshape((-1,3))\n",
    "\n",
    "\n",
    "\n",
    "\n"
   ]
  },
  {
   "cell_type": "code",
   "execution_count": 2,
   "metadata": {},
   "outputs": [
    {
     "data": {
      "application/vnd.jupyter.widget-view+json": {
       "model_id": "e805cdc4d1c9451491773231850a8e6f",
       "version_major": 2,
       "version_minor": 0
      },
      "text/plain": [
       "Canvas(toolbar=Toolbar(toolitems=[('Home', 'Reset original view', 'home', 'home'), ('Back', 'Back to previous …"
      ]
     },
     "metadata": {},
     "output_type": "display_data"
    },
    {
     "data": {
      "application/vnd.jupyter.widget-view+json": {
       "model_id": "cbeaf810020e490cbc0422595f640c32",
       "version_major": 2,
       "version_minor": 0
      },
      "text/plain": [
       "Canvas(toolbar=Toolbar(toolitems=[('Home', 'Reset original view', 'home', 'home'), ('Back', 'Back to previous …"
      ]
     },
     "metadata": {},
     "output_type": "display_data"
    }
   ],
   "source": [
    "cnames = {'aliceblue': '#F0F8FF', 'antiquewhite': '#FAEBD7', 'aqua': '#00FFFF', 'aquamarine': '#7FFFD4', 'azure': '#F0FFFF', 'beige': '#F5F5DC', 'bisque': '#FFE4C4', 'black': '#000000', 'blanchedalmond': '#FFEBCD', 'blue': '#0000FF', 'blueviolet': '#8A2BE2', 'brown': '#A52A2A', 'burlywood': '#DEB887', 'cadetblue': '#5F9EA0', 'chartreuse': '#7FFF00', 'chocolate': '#D2691E', 'coral': '#FF7F50', 'cornflowerblue': '#6495ED', 'cornsilk': '#FFF8DC', 'crimson': '#DC143C', 'cyan': '#00FFFF', 'darkblue': '#00008B', 'darkcyan': '#008B8B', 'darkgoldenrod': '#B8860B', 'darkgray': '#A9A9A9', 'darkgreen': '#006400', 'darkkhaki': '#BDB76B', 'darkmagenta': '#8B008B', 'darkolivegreen': '#556B2F', 'darkorange': '#FF8C00', 'darkorchid': '#9932CC', 'darkred': '#8B0000', 'darksalmon': '#E9967A', 'darkseagreen': '#8FBC8F', 'darkslateblue': '#483D8B', 'darkslategray': '#2F4F4F', 'darkturquoise': '#00CED1', 'darkviolet': '#9400D3', 'deeppink': '#FF1493', 'deepskyblue': '#00BFFF', 'dimgray': '#696969', 'dodgerblue': '#1E90FF', 'firebrick': '#B22222', 'floralwhite': '#FFFAF0', 'forestgreen': '#228B22', 'fuchsia': '#FF00FF', 'gainsboro': '#DCDCDC', 'ghostwhite': '#F8F8FF', 'gold': '#FFD700', 'goldenrod': '#DAA520', 'gray': '#808080', 'green': '#008000', 'greenyellow': '#ADFF2F', 'honeydew': '#F0FFF0', 'hotpink': '#FF69B4', 'indianred': '#CD5C5C', 'indigo': '#4B0082', 'ivory': '#FFFFF0', 'khaki': '#F0E68C', 'lavender': '#E6E6FA', 'lavenderblush': '#FFF0F5', 'lawngreen': '#7CFC00', 'lemonchiffon': '#FFFACD', 'lightblue': '#ADD8E6', 'lightcoral': '#F08080', 'lightcyan': '#E0FFFF', 'lightgoldenrodyellow': '#FAFAD2', 'lightgreen': '#90EE90', 'lightgray': '#D3D3D3', 'lightpink': '#FFB6C1', 'lightsalmon': '#FFA07A', 'lightseagreen': '#20B2AA', 'lightskyblue': '#87CEFA', 'lightslategray': '#778899', 'lightsteelblue': '#B0C4DE', 'lightyellow': '#FFFFE0', 'lime': '#00FF00', 'limegreen': '#32CD32', 'linen': '#FAF0E6', 'magenta': '#FF00FF', 'maroon': '#800000', 'mediumaquamarine': '#66CDAA', 'mediumblue': '#0000CD', 'mediumorchid': '#BA55D3', 'mediumpurple': '#9370DB', 'mediumseagreen': '#3CB371', 'mediumslateblue': '#7B68EE', 'mediumspringgreen': '#00FA9A', 'mediumturquoise': '#48D1CC', 'mediumvioletred': '#C71585', 'midnightblue': '#191970', 'mintcream': '#F5FFFA', 'mistyrose': '#FFE4E1', 'moccasin': '#FFE4B5', 'navajowhite': '#FFDEAD', 'navy': '#000080', 'oldlace': '#FDF5E6', 'olive': '#808000', 'olivedrab': '#6B8E23', 'orange': '#FFA500', 'orangered': '#FF4500', 'orchid': '#DA70D6', 'palegoldenrod': '#EEE8AA', 'palegreen': '#98FB98', 'paleturquoise': '#AFEEEE', 'palevioletred': '#DB7093', 'papayawhip': '#FFEFD5', 'peachpuff': '#FFDAB9', 'peru': '#CD853F', 'pink': '#FFC0CB', 'plum': '#DDA0DD', 'powderblue': '#B0E0E6', 'purple': '#800080', 'red': '#FF0000', 'rosybrown': '#BC8F8F', 'royalblue': '#4169E1', 'saddlebrown': '#8B4513', 'salmon': '#FA8072', 'sandybrown': '#FAA460', 'seagreen': '#2E8B57', 'seashell': '#FFF5EE', 'sienna': '#A0522D', 'silver': '#C0C0C0', 'skyblue': '#87CEEB', 'slateblue': '#6A5ACD', 'slategray': '#708090', 'snow': '#FFFAFA', 'springgreen': '#00FF7F', 'steelblue': '#4682B4', 'tan': '#D2B48C', 'teal': '#008080', 'thistle': '#D8BFD8', 'tomato': '#FF6347', 'turquoise': '#40E0D0', 'violet': '#EE82EE', 'wheat': '#F5DEB3', 'white': '#FFFFFF', 'whitesmoke': '#F5F5F5', 'yellow': '#FFFF00', 'yellowgreen': '#9ACD32'}\n",
    "\n",
    "from itertools import cycle  \n",
    "colors =  [j for i,j in zip(range(64), cycle('bgrcmyk'))] \n",
    "# colors= list(cnames.keys())\n",
    "import matplotlib.pyplot as plt\n",
    "%matplotlib widget\n",
    "from mpl_toolkits.mplot3d import Axes3D\n",
    "pts = 1000000\n",
    "import tqdm.notebook as tqdm\n",
    "fig = plt.figure(figsize=(10,10))\n",
    "ax = Axes3D(fig)\n",
    "\n",
    "\n",
    "ax.scatter(xyz[:pts,0],xyz[:pts,1],xyz[:pts,2],s=1,alpha=0.002)\n",
    "plt.show()\n",
    "\n",
    "fig = plt.figure(figsize=(10,3))\n",
    "plt.subplot(1,3,1)\n",
    "plt.scatter(xyz[:pts,1],xyz[:pts,0],s=1,alpha=0.002)\n",
    "\n",
    "plt.subplot(1,3,2)\n",
    "plt.xlim(-32000,-24000)\n",
    "plt.ylim(-6500,1500)\n",
    "plt.scatter(xyz[:pts,2],xyz[:pts,0],s=1,alpha=0.002)\n",
    "\n",
    "plt.subplot(1,3,3)\n",
    "plt.scatter(xyz[:pts,2],xyz[:pts,1],s=1,alpha=0.002)\n",
    "plt.show()"
   ]
  },
  {
   "cell_type": "code",
   "execution_count": null,
   "metadata": {},
   "outputs": [],
   "source": [
    "from sklearn.cluster import DBSCAN\n",
    "mod  =  DBSCAN(eps=15000,  min_samples=50,algorithm='ball_tree')\n",
    "# %matplotlib qt5 \n",
    "mod.fit(xyz[:300000])\n",
    "labels = mod.labels_\n",
    "labels\n",
    "print(len(set(labels)))\n",
    "\n",
    "cnames = {'aliceblue': '#F0F8FF', 'antiquewhite': '#FAEBD7', 'aqua': '#00FFFF', 'aquamarine': '#7FFFD4', 'azure': '#F0FFFF', 'beige': '#F5F5DC', 'bisque': '#FFE4C4', 'black': '#000000', 'blanchedalmond': '#FFEBCD', 'blue': '#0000FF', 'blueviolet': '#8A2BE2', 'brown': '#A52A2A', 'burlywood': '#DEB887', 'cadetblue': '#5F9EA0', 'chartreuse': '#7FFF00', 'chocolate': '#D2691E', 'coral': '#FF7F50', 'cornflowerblue': '#6495ED', 'cornsilk': '#FFF8DC', 'crimson': '#DC143C', 'cyan': '#00FFFF', 'darkblue': '#00008B', 'darkcyan': '#008B8B', 'darkgoldenrod': '#B8860B', 'darkgray': '#A9A9A9', 'darkgreen': '#006400', 'darkkhaki': '#BDB76B', 'darkmagenta': '#8B008B', 'darkolivegreen': '#556B2F', 'darkorange': '#FF8C00', 'darkorchid': '#9932CC', 'darkred': '#8B0000', 'darksalmon': '#E9967A', 'darkseagreen': '#8FBC8F', 'darkslateblue': '#483D8B', 'darkslategray': '#2F4F4F', 'darkturquoise': '#00CED1', 'darkviolet': '#9400D3', 'deeppink': '#FF1493', 'deepskyblue': '#00BFFF', 'dimgray': '#696969', 'dodgerblue': '#1E90FF', 'firebrick': '#B22222', 'floralwhite': '#FFFAF0', 'forestgreen': '#228B22', 'fuchsia': '#FF00FF', 'gainsboro': '#DCDCDC', 'ghostwhite': '#F8F8FF', 'gold': '#FFD700', 'goldenrod': '#DAA520', 'gray': '#808080', 'green': '#008000', 'greenyellow': '#ADFF2F', 'honeydew': '#F0FFF0', 'hotpink': '#FF69B4', 'indianred': '#CD5C5C', 'indigo': '#4B0082', 'ivory': '#FFFFF0', 'khaki': '#F0E68C', 'lavender': '#E6E6FA', 'lavenderblush': '#FFF0F5', 'lawngreen': '#7CFC00', 'lemonchiffon': '#FFFACD', 'lightblue': '#ADD8E6', 'lightcoral': '#F08080', 'lightcyan': '#E0FFFF', 'lightgoldenrodyellow': '#FAFAD2', 'lightgreen': '#90EE90', 'lightgray': '#D3D3D3', 'lightpink': '#FFB6C1', 'lightsalmon': '#FFA07A', 'lightseagreen': '#20B2AA', 'lightskyblue': '#87CEFA', 'lightslategray': '#778899', 'lightsteelblue': '#B0C4DE', 'lightyellow': '#FFFFE0', 'lime': '#00FF00', 'limegreen': '#32CD32', 'linen': '#FAF0E6', 'magenta': '#FF00FF', 'maroon': '#800000', 'mediumaquamarine': '#66CDAA', 'mediumblue': '#0000CD', 'mediumorchid': '#BA55D3', 'mediumpurple': '#9370DB', 'mediumseagreen': '#3CB371', 'mediumslateblue': '#7B68EE', 'mediumspringgreen': '#00FA9A', 'mediumturquoise': '#48D1CC', 'mediumvioletred': '#C71585', 'midnightblue': '#191970', 'mintcream': '#F5FFFA', 'mistyrose': '#FFE4E1', 'moccasin': '#FFE4B5', 'navajowhite': '#FFDEAD', 'navy': '#000080', 'oldlace': '#FDF5E6', 'olive': '#808000', 'olivedrab': '#6B8E23', 'orange': '#FFA500', 'orangered': '#FF4500', 'orchid': '#DA70D6', 'palegoldenrod': '#EEE8AA', 'palegreen': '#98FB98', 'paleturquoise': '#AFEEEE', 'palevioletred': '#DB7093', 'papayawhip': '#FFEFD5', 'peachpuff': '#FFDAB9', 'peru': '#CD853F', 'pink': '#FFC0CB', 'plum': '#DDA0DD', 'powderblue': '#B0E0E6', 'purple': '#800080', 'red': '#FF0000', 'rosybrown': '#BC8F8F', 'royalblue': '#4169E1', 'saddlebrown': '#8B4513', 'salmon': '#FA8072', 'sandybrown': '#FAA460', 'seagreen': '#2E8B57', 'seashell': '#FFF5EE', 'sienna': '#A0522D', 'silver': '#C0C0C0', 'skyblue': '#87CEEB', 'slateblue': '#6A5ACD', 'slategray': '#708090', 'snow': '#FFFAFA', 'springgreen': '#00FF7F', 'steelblue': '#4682B4', 'tan': '#D2B48C', 'teal': '#008080', 'thistle': '#D8BFD8', 'tomato': '#FF6347', 'turquoise': '#40E0D0', 'violet': '#EE82EE', 'wheat': '#F5DEB3', 'white': '#FFFFFF', 'whitesmoke': '#F5F5F5', 'yellow': '#FFFF00', 'yellowgreen': '#9ACD32'}\n",
    "\n",
    "from itertools import cycle  \n",
    "colors =  [j for i,j in zip(range(64), cycle('bgrcmyk'))] \n",
    "# colors= list(cnames.keys())\n",
    "import matplotlib.pyplot as plt\n",
    "from mpl_toolkits.mplot3d import Axes3D\n",
    "\n",
    "import tqdm.notebook as tqdm\n",
    "fig = plt.figure(figsize=(10,10))\n",
    "ax = Axes3D(fig)\n",
    "for i in tqdm.trange(5000):\n",
    "#     print(xyz[i][0], xyz[i][1], xyz[i][2],colors[labels[i]])\n",
    "    ax.scatter(xyz[i][0], xyz[i][1], xyz[i][2],s=1,c=colors[labels[i]])\n",
    "\n",
    "plt.show()\n",
    "\n"
   ]
  },
  {
   "cell_type": "code",
   "execution_count": null,
   "metadata": {
    "tags": []
   },
   "outputs": [],
   "source": [
    "cnames = {'aliceblue': '#F0F8FF', 'antiquewhite': '#FAEBD7', 'aqua': '#00FFFF', 'aquamarine': '#7FFFD4', 'azure': '#F0FFFF', 'beige': '#F5F5DC', 'bisque': '#FFE4C4', 'black': '#000000', 'blanchedalmond': '#FFEBCD', 'blue': '#0000FF', 'blueviolet': '#8A2BE2', 'brown': '#A52A2A', 'burlywood': '#DEB887', 'cadetblue': '#5F9EA0', 'chartreuse': '#7FFF00', 'chocolate': '#D2691E', 'coral': '#FF7F50', 'cornflowerblue': '#6495ED', 'cornsilk': '#FFF8DC', 'crimson': '#DC143C', 'cyan': '#00FFFF', 'darkblue': '#00008B', 'darkcyan': '#008B8B', 'darkgoldenrod': '#B8860B', 'darkgray': '#A9A9A9', 'darkgreen': '#006400', 'darkkhaki': '#BDB76B', 'darkmagenta': '#8B008B', 'darkolivegreen': '#556B2F', 'darkorange': '#FF8C00', 'darkorchid': '#9932CC', 'darkred': '#8B0000', 'darksalmon': '#E9967A', 'darkseagreen': '#8FBC8F', 'darkslateblue': '#483D8B', 'darkslategray': '#2F4F4F', 'darkturquoise': '#00CED1', 'darkviolet': '#9400D3', 'deeppink': '#FF1493', 'deepskyblue': '#00BFFF', 'dimgray': '#696969', 'dodgerblue': '#1E90FF', 'firebrick': '#B22222', 'floralwhite': '#FFFAF0', 'forestgreen': '#228B22', 'fuchsia': '#FF00FF', 'gainsboro': '#DCDCDC', 'ghostwhite': '#F8F8FF', 'gold': '#FFD700', 'goldenrod': '#DAA520', 'gray': '#808080', 'green': '#008000', 'greenyellow': '#ADFF2F', 'honeydew': '#F0FFF0', 'hotpink': '#FF69B4', 'indianred': '#CD5C5C', 'indigo': '#4B0082', 'ivory': '#FFFFF0', 'khaki': '#F0E68C', 'lavender': '#E6E6FA', 'lavenderblush': '#FFF0F5', 'lawngreen': '#7CFC00', 'lemonchiffon': '#FFFACD', 'lightblue': '#ADD8E6', 'lightcoral': '#F08080', 'lightcyan': '#E0FFFF', 'lightgoldenrodyellow': '#FAFAD2', 'lightgreen': '#90EE90', 'lightgray': '#D3D3D3', 'lightpink': '#FFB6C1', 'lightsalmon': '#FFA07A', 'lightseagreen': '#20B2AA', 'lightskyblue': '#87CEFA', 'lightslategray': '#778899', 'lightsteelblue': '#B0C4DE', 'lightyellow': '#FFFFE0', 'lime': '#00FF00', 'limegreen': '#32CD32', 'linen': '#FAF0E6', 'magenta': '#FF00FF', 'maroon': '#800000', 'mediumaquamarine': '#66CDAA', 'mediumblue': '#0000CD', 'mediumorchid': '#BA55D3', 'mediumpurple': '#9370DB', 'mediumseagreen': '#3CB371', 'mediumslateblue': '#7B68EE', 'mediumspringgreen': '#00FA9A', 'mediumturquoise': '#48D1CC', 'mediumvioletred': '#C71585', 'midnightblue': '#191970', 'mintcream': '#F5FFFA', 'mistyrose': '#FFE4E1', 'moccasin': '#FFE4B5', 'navajowhite': '#FFDEAD', 'navy': '#000080', 'oldlace': '#FDF5E6', 'olive': '#808000', 'olivedrab': '#6B8E23', 'orange': '#FFA500', 'orangered': '#FF4500', 'orchid': '#DA70D6', 'palegoldenrod': '#EEE8AA', 'palegreen': '#98FB98', 'paleturquoise': '#AFEEEE', 'palevioletred': '#DB7093', 'papayawhip': '#FFEFD5', 'peachpuff': '#FFDAB9', 'peru': '#CD853F', 'pink': '#FFC0CB', 'plum': '#DDA0DD', 'powderblue': '#B0E0E6', 'purple': '#800080', 'red': '#FF0000', 'rosybrown': '#BC8F8F', 'royalblue': '#4169E1', 'saddlebrown': '#8B4513', 'salmon': '#FA8072', 'sandybrown': '#FAA460', 'seagreen': '#2E8B57', 'seashell': '#FFF5EE', 'sienna': '#A0522D', 'silver': '#C0C0C0', 'skyblue': '#87CEEB', 'slateblue': '#6A5ACD', 'slategray': '#708090', 'snow': '#FFFAFA', 'springgreen': '#00FF7F', 'steelblue': '#4682B4', 'tan': '#D2B48C', 'teal': '#008080', 'thistle': '#D8BFD8', 'tomato': '#FF6347', 'turquoise': '#40E0D0', 'violet': '#EE82EE', 'wheat': '#F5DEB3', 'white': '#FFFFFF', 'whitesmoke': '#F5F5F5', 'yellow': '#FFFF00', 'yellowgreen': '#9ACD32'}\n",
    "\n",
    "from itertools import cycle  \n",
    "colors =  [j for i,j in zip(range(64), cycle('bgrcmyk'))] \n",
    "# colors= list(cnames.keys())\n",
    "import matplotlib.pyplot as plt\n",
    "from mpl_toolkits.mplot3d import Axes3D\n",
    "\n",
    "import tqdm.notebook as tqdm\n",
    "fig = plt.figure(figsize=(10,10))\n",
    "ax = Axes3D(fig)\n",
    "for i in tqdm.trange(10000):\n",
    "#     print(xyz[i][0], xyz[i][1], xyz[i][2],colors[labels[i]])\n",
    "    ax.scatter(xyz[i][0], xyz[i][1], xyz[i][2],s=1,c=colors[labels[i]])\n",
    "\n",
    "\n",
    "for j in mod.cluster_centers_:\n",
    "    ax.scatter(j[0], j[1], j[2], s=20, c='black' , marker='X') \n",
    "\n",
    "plt.show()\n",
    "\n"
   ]
  }
 ],
 "metadata": {
  "kernelspec": {
   "display_name": "Python 3",
   "language": "python",
   "name": "python3"
  },
  "language_info": {
   "codemirror_mode": {
    "name": "ipython",
    "version": 3
   },
   "file_extension": ".py",
   "mimetype": "text/x-python",
   "name": "python",
   "nbconvert_exporter": "python",
   "pygments_lexer": "ipython3",
   "version": "3.8.6"
  },
  "toc": {
   "base_numbering": 1,
   "nav_menu": {},
   "number_sections": true,
   "sideBar": true,
   "skip_h1_title": false,
   "title_cell": "Table of Contents",
   "title_sidebar": "Contents",
   "toc_cell": false,
   "toc_position": {},
   "toc_section_display": true,
   "toc_window_display": false
  }
 },
 "nbformat": 4,
 "nbformat_minor": 4
}
