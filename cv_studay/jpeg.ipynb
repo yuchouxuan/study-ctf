{
 "cells": [
  {
   "cell_type": "code",
   "execution_count": null,
   "id": "581fabaa-2469-4cfd-97aa-8bbaa22c2d18",
   "metadata": {},
   "outputs": [],
   "source": [
    "import turbojpeg as jlib, numpy as np \n",
    "jpeg=jlib.TurboJPEG()\n",
    "with open('./lenax.jpg','rb') as jfile:\n",
    "    fb = jfile.read()\n",
    "\n",
    "jpeg.decode(fb).shape\n",
    "jlib."
   ]
  }
 ],
 "metadata": {
  "kernelspec": {
   "display_name": "Python 3 (ipykernel)",
   "language": "python",
   "name": "python3"
  },
  "language_info": {
   "codemirror_mode": {
    "name": "ipython",
    "version": 3
   },
   "file_extension": ".py",
   "mimetype": "text/x-python",
   "name": "python",
   "nbconvert_exporter": "python",
   "pygments_lexer": "ipython3",
   "version": "3.11.1"
  }
 },
 "nbformat": 4,
 "nbformat_minor": 5
}
