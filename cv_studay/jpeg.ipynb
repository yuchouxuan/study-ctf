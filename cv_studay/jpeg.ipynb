{
 "cells": [
  {
   "cell_type": "code",
   "execution_count": 16,
   "id": "581fabaa-2469-4cfd-97aa-8bbaa22c2d18",
   "metadata": {},
   "outputs": [
    {
     "ename": "TypeError",
     "evalue": "TurboJPEG.crop() missing 5 required positional arguments: 'jpeg_buf', 'x', 'y', 'w', and 'h'",
     "output_type": "error",
     "traceback": [
      "\u001b[0;31m---------------------------------------------------------------------------\u001b[0m",
      "\u001b[0;31mTypeError\u001b[0m                                 Traceback (most recent call last)",
      "Cell \u001b[0;32mIn[16], line 7\u001b[0m\n\u001b[1;32m      4\u001b[0m     fb \u001b[38;5;241m=\u001b[39m jfile\u001b[38;5;241m.\u001b[39mread()\n\u001b[1;32m      6\u001b[0m jpeg\u001b[38;5;241m.\u001b[39mdecode(fb)\u001b[38;5;241m.\u001b[39mshape\n\u001b[0;32m----> 7\u001b[0m \u001b[43mjpeg\u001b[49m\u001b[38;5;241;43m.\u001b[39;49m\u001b[43mcrop\u001b[49m\u001b[43m(\u001b[49m\u001b[43m)\u001b[49m\n",
      "\u001b[0;31mTypeError\u001b[0m: TurboJPEG.crop() missing 5 required positional arguments: 'jpeg_buf', 'x', 'y', 'w', and 'h'"
     ]
    }
   ],
   "source": [
    "import turbojpeg as jlib, numpy as np \n",
    "jpeg=jlib.TurboJPEG()\n",
    "with open('./lenax.jpg','rb') as jfile:\n",
    "    fb = jfile.read()\n",
    "\n",
    "jpeg.decode(fb).shape\n",
    "jlib."
   ]
  }
 ],
 "metadata": {
  "kernelspec": {
   "display_name": "Python 3 (ipykernel)",
   "language": "python",
   "name": "python3"
  },
  "language_info": {
   "codemirror_mode": {
    "name": "ipython",
    "version": 3
   },
   "file_extension": ".py",
   "mimetype": "text/x-python",
   "name": "python",
   "nbconvert_exporter": "python",
   "pygments_lexer": "ipython3",
   "version": "3.11.1"
  }
 },
 "nbformat": 4,
 "nbformat_minor": 5
}
