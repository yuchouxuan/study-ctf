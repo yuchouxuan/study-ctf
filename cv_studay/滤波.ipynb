{
 "cells": [
  {
   "cell_type": "code",
   "execution_count": null,
   "id": "ff0f4600-069e-42b5-8ee0-44c9ce31b40b",
   "metadata": {
    "pycharm": {
     "name": "#%%\n"
    }
   },
   "outputs": [],
   "source": [
    "import numpy as np\n",
    "import cv2\n",
    "import matplotlib.pyplot as plt\n",
    "im = cv2.imread('lena.jpg')\n",
    "im = cv2.cvtColor(im, cv2.COLOR_BGR2RGB)"
   ]
  },
  {
   "cell_type": "markdown",
   "id": "7de56897-5b9c-48f9-88ac-0f3862a4b6b9",
   "metadata": {
    "pycharm": {
     "name": "#%% md\n"
    }
   },
   "source": [
    "# 滤波"
   ]
  },
  {
   "cell_type": "code",
   "execution_count": null,
   "id": "cf0b5168-48fd-4a8c-8cd8-3455615d62bf",
   "metadata": {
    "pycharm": {
     "name": "#%%\n"
    }
   },
   "outputs": [],
   "source": [
    "\n",
    "plt.figure(figsize=(24,4))\n",
    "plt.subplot(141)\n",
    "plt.imshow(im)\n",
    "\n",
    "#中值滤波\n",
    "plt.subplot(142)\n",
    "im_medianblur = cv2.medianBlur(im, 15)\n",
    "plt.imshow(im_medianblur)\n",
    "\n",
    "#高斯滤波\n",
    "im_gaussianblur2 = cv2.GaussianBlur(im, (5, 5), 0)\n",
    "plt.subplot(143)\n",
    "plt.imshow(im_gaussianblur2)\n",
    "\n",
    "#均值滤波\n",
    "im_meanblur1 = cv2.blur(im, (3, 3))\n",
    "plt.subplot(144)\n",
    "plt.imshow(im_meanblur1)\n"
   ]
  },
  {
   "cell_type": "markdown",
   "id": "d7eed306",
   "metadata": {
    "pycharm": {
     "name": "#%% md\n"
    }
   },
   "source": [
    "# 算数均值滤波"
   ]
  },
  {
   "cell_type": "code",
   "execution_count": null,
   "id": "4d37a2d7",
   "metadata": {
    "collapsed": false,
    "jupyter": {
     "outputs_hidden": false
    },
    "pycharm": {
     "name": "#%%\n"
    }
   },
   "outputs": [],
   "source": [
    "def a_mean(img, kernel_size):\n",
    "  G_mean_img = np.zeros(img.shape)\n",
    "  k = int((kernel_size - 1) / 2)\n",
    "  for i in range(img.shape[0]):\n",
    "    for j in range(img.shape[1]):\n",
    "      if i < k or i > (img.shape[0] - k - 1) or j < k or j > (img.shape[1] - k - 1):\n",
    "        G_mean_img[i][j] = img[i][j]\n",
    "      else:\n",
    "        for n in range(kernel_size):\n",
    "          for m in range(kernel_size):\n",
    "            G_mean_img[i][j] += float(1 / (kernel_size * kernel_size) * img[i - k + n][j - k + m])\n",
    "  G_mean_img = np.uint8(G_mean_img)\n",
    "  return G_mean_img"
   ]
  },
  {
   "cell_type": "markdown",
   "id": "74ba5f13",
   "metadata": {
    "pycharm": {
     "name": "#%% md\n"
    }
   },
   "source": [
    "# 几何均值滤波"
   ]
  },
  {
   "cell_type": "code",
   "execution_count": null,
   "id": "2d266806",
   "metadata": {
    "collapsed": false,
    "jupyter": {
     "outputs_hidden": false
    },
    "pycharm": {
     "name": "#%%\n"
    }
   },
   "outputs": [],
   "source": [
    "def b_mean(img, kernel_size):\n",
    "  G_mean_img = np.ones(img.shape)\n",
    "  k = int((kernel_size - 1) / 2)\n",
    "  for i in range(img.shape[0]):\n",
    "    for j in range(img.shape[1]):\n",
    "      if i < k or i > (img.shape[0] - k - 1) or j < k or j > (img.shape[1] - k - 1):\n",
    "        G_mean_img[i][j] = img[i][j]\n",
    "      else:\n",
    "        for n in range(kernel_size):\n",
    "          for m in range(kernel_size):\n",
    "            G_mean_img[i][j] *= float(img[i - k + n][j - k + m])\n",
    "        G_mean_img[i][j] = pow(G_mean_img[i][j], 1 / (kernel_size * kernel_size))\n",
    "  G_mean_img = np.uint8(G_mean_img)\n",
    "  return G_mean_img\n"
   ]
  },
  {
   "cell_type": "markdown",
   "id": "ef333439",
   "metadata": {
    "pycharm": {
     "name": "#%% md\n"
    }
   },
   "source": [
    "# 逆调和均值滤波"
   ]
  },
  {
   "cell_type": "code",
   "execution_count": null,
   "id": "c20188b6",
   "metadata": {
    "collapsed": false,
    "jupyter": {
     "outputs_hidden": false
    },
    "pycharm": {
     "name": "#%%\n"
    }
   },
   "outputs": [],
   "source": [
    "def d_mean(img, kernel_size, Q):\n",
    "  G_mean_img = np.zeros(img.shape)\n",
    "  k = int((kernel_size - 1) / 2)\n",
    "\n",
    "  for i in range(img.shape[0]):\n",
    "    for j in range(img.shape[1]):\n",
    "      if i < k or i > (img.shape[0] - k - 1) or j < k or j > (img.shape[1] - k - 1):\n",
    "        G_mean_img[i][j] = img[i][j]\n",
    "      else:\n",
    "        result_top = 0\n",
    "        result_down = 0\n",
    "        for n in range(kernel_size):\n",
    "          for m in range(kernel_size):\n",
    "            if Q > 0:\n",
    "              result_top += pow(float(img[i - k + n][j - k + m]), Q + 1)\n",
    "              result_down += pow(float(img[i - k + n][j - k + m]), Q)\n",
    "            else:\n",
    "              if img[i - k + n][j - k + m] == 0:\n",
    "                G_mean_img[i][j] = 0\n",
    "                break\n",
    "              else:\n",
    "                result_top += pow(float(img[i - k + n][j - k + m]), Q + 1)\n",
    "                result_down += pow(float(img[i - k + n][j - k + m]), Q)\n",
    "          else:\n",
    "            continue\n",
    "          break\n",
    "        else:\n",
    "          if result_down != 0:\n",
    "            G_mean_img[i][j] = result_top / result_down\n",
    "  G_mean_img = np.uint8(G_mean_img)\n",
    "  return G_mean_img\n",
    "\n",
    "imgb = d_mean(img[:,:,0],3,1)"
   ]
  },
  {
   "cell_type": "markdown",
   "id": "c4d91839",
   "metadata": {
    "pycharm": {
     "name": "#%% md\n"
    }
   },
   "source": [
    "# 频域滤波"
   ]
  },
  {
   "cell_type": "code",
   "execution_count": null,
   "id": "04e370b4",
   "metadata": {
    "collapsed": false,
    "jupyter": {
     "outputs_hidden": false
    },
    "pycharm": {
     "name": "#%%\n"
    }
   },
   "outputs": [],
   "source": [
    "# 傅里叶变换\n",
    "dft = cv2.dft(np.float32(im), flags = cv2.DFT_COMPLEX_OUTPUT)\n",
    "# 将图像中的低频部分移动到图像的中心\n",
    "dftShift = np.fft.fftshift(dft)\n",
    "# 计算幅频特性\n",
    "magnitude = 20 * np.log(cv2.magnitude(dftShift[:, :, 0], dftShift[:, :, 1]))\n",
    "plt.subplot(121), plt.imshow(im, cmap = 'gray')\n",
    "plt.title('原图'), plt.xticks([]), plt.yticks([])\n",
    "plt.subplot(122), plt.imshow(magnitude, cmap = 'gray')\n",
    "plt.title('频谱图'), plt.xticks([]), plt.yticks([])\n",
    "plt.show()\n",
    "\n",
    "def mask(img, ftype):\n",
    "  crow, ccol = int(img.shape[0] / 2), int(img.shape[1] / 2) # 求得图像的中心点位置\n",
    "  # 低通\n",
    "  if ftype == 'low':\n",
    "    mask = np.zeros((img.shape[0], img.shape[1], 2), np.uint8)\n",
    "    mask[crow-30:crow+30, ccol-30:ccol+30] = 1\n",
    "  # 高通\n",
    "  if ftype == 'high':\n",
    "    mask = np.ones((img.shape[0], img.shape[1], 2), np.uint8)\n",
    "    mask[crow-30:crow+30, ccol-30:ccol+30] = 0\n",
    "  return mask\n",
    "\n",
    "'''\n",
    "低通\n",
    "'''\n",
    "highImg = dftShift * mask(im, 'high')\n",
    "highImg = np.fft.ifftshift(highImg)\n",
    "highImg = cv2.idft(highImg)\n",
    "highImg = cv2.magnitude(highImg[:, :, 0], highImg[:, :, 1])\n",
    "\n",
    "'''\n",
    "高通\n",
    "'''\n",
    "highImg = dftShift * mask(grayImg, 'high')\n",
    "highImg = np.fft.ifftshift(highImg)\n",
    "highImg = cv2.idft(highImg)\n",
    "highImg = cv2.magnitude(highImg[:, :, 0], highImg[:, :, 1])"
   ]
  },
  {
   "cell_type": "markdown",
   "id": "bc21849a",
   "metadata": {
    "pycharm": {
     "name": "#%% md\n"
    }
   },
   "source": [
    "# 8邻域降噪"
   ]
  },
  {
   "cell_type": "code",
   "execution_count": null,
   "id": "2f4b1e38",
   "metadata": {
    "collapsed": false,
    "jupyter": {
     "outputs_hidden": false
    },
    "pycharm": {
     "name": "#%%\n"
    }
   },
   "outputs": [],
   "source": [
    "def noise_remove_cv2(img, k):\n",
    "  def calculate_noise_count(img_obj, w, h):\n",
    "    count = 0\n",
    "    width, height = img_obj.shape\n",
    "    for _w_ in [w - 1, w, w + 1]:\n",
    "      for _h_ in [h - 1, h, h + 1]:\n",
    "        if _w_ > width - 1:\n",
    "          continue\n",
    "        if _h_ > height - 1:\n",
    "          continue\n",
    "        if _w_ == w and _h_ == h:\n",
    "          continue\n",
    "        if img_obj[_w_, _h_] < 230:  # 二值化的图片设置为255\n",
    "          count += 1\n",
    "    return count\n",
    "  # 灰度\n",
    "  gray_img = cv2.cvtColor(img, cv2.COLOR_BGR2GRAY)\n",
    "  w, h = gray_img.shape\n",
    "  for _w in range(w):\n",
    "    for _h in range(h):\n",
    "      if _w == 0 or _h == 0:\n",
    "        gray_img[_w, _h] = 255\n",
    "        continue\n",
    "      # 计算邻域pixel值小于255的个数\n",
    "      pixel = gray_img[_w, _h]\n",
    "      if pixel == 255:\n",
    "        continue\n",
    "      if calculate_noise_count(gray_img, _w, _h) < k:\n",
    "        gray_img[_w, _h] = 255\n",
    "  return gray_img\n",
    "imgb = noise_remove_cv2(im,4)\n",
    "plt.figure(figsize=(20,5))\n",
    "plt.imshow(imgb,cmap='gray')\n",
    "plt.show()"
   ]
  },
  {
   "cell_type": "markdown",
   "id": "0655868b-dae7-448d-b0cd-58e498735679",
   "metadata": {
    "pycharm": {
     "name": "#%% md\n"
    }
   },
   "source": [
    "# 锐化"
   ]
  },
  {
   "cell_type": "code",
   "execution_count": null,
   "id": "d3a2a735-5e22-45d8-97b2-3f6699a2dba3",
   "metadata": {
    "pycharm": {
     "name": "#%%\n"
    }
   },
   "outputs": [],
   "source": [
    "plt.figure(figsize=(21,7))\n",
    "plt.subplot(131)\n",
    "plt.imshow(im_medianblur)\n",
    "\n",
    "sharpen_1 = np.array([\n",
    "  [-1,-1,-1],\n",
    "  [-1,9,-1],\n",
    "  [-1,-1,-1]])\n",
    "\n",
    "#使用filter2D进行滤波操作\n",
    "im_sharpen1 = cv2.filter2D(im_medianblur,-1,sharpen_1)\n",
    "plt.subplot(132)\n",
    "plt.imshow(im_sharpen1)\n",
    "\n",
    "#锐化算子2\n",
    "sharpen_2 = np.array([\n",
    "[0,-1,0],\n",
    "[-1,8,-1],\n",
    "[0,1,0]])/4.0\n",
    "\n",
    "#使用filter2D进行滤波操作\n",
    "im_sharpen2 = cv2.filter2D (im_medianblur, -1, sharpen_2)\n",
    "plt.subplot(133)\n",
    "plt.imshow(im_sharpen1)"
   ]
  }
 ],
 "metadata": {
  "kernelspec": {
   "display_name": "Python 3 (ipykernel)",
   "language": "python",
   "name": "python3"
  },
  "language_info": {
   "codemirror_mode": {
    "name": "ipython",
    "version": 3
   },
   "file_extension": ".py",
   "mimetype": "text/x-python",
   "name": "python",
   "nbconvert_exporter": "python",
   "pygments_lexer": "ipython3",
   "version": "3.11.1"
  }
 },
 "nbformat": 4,
 "nbformat_minor": 5
}
