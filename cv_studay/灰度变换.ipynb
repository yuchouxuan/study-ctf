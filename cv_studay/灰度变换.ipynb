{
 "cells": [
  {
   "cell_type": "code",
   "execution_count": 2,
   "id": "ff0f4600-069e-42b5-8ee0-44c9ce31b40b",
   "metadata": {},
   "outputs": [],
   "source": [
    "import numpy as np\n",
    "import cv2\n",
    "from matplotlib import pyplot as plt\n",
    "im = cv2.imread('lena.jpg',0)"
   ]
  },
  {
   "cell_type": "markdown",
   "id": "88520ecd-0b05-4834-95ca-e0e9a3f404cc",
   "metadata": {},
   "source": [
    "## 步骤一 灰度变化 反转，灰度拉伸，灰度压缩 ###\n",
    "```\n",
    "1 k>1时实现灰度数值的拉伸  \n",
    "2 0<k<1时实现灰度数值的压缩   \n",
    "3 k=-1 b=255 实现灰度反转;  \n",
    "```"
   ]
  },
  {
   "cell_type": "code",
   "execution_count": 3,
   "id": "006c0acd-bbfb-4739-af4d-bb1600bfc8ab",
   "metadata": {},
   "outputs": [],
   "source": [
    "def linear_trans(img, k, b=0):\n",
    "#计算灰度线性变化的映射表\n",
    "    trans_list = [(np.float32(x) *k+b) for x in range(256)]\n",
    "#将列表转换为np. array\n",
    "    trans_table =np.array (trans_list)\n",
    "#将超过[0, 255]灰度范围的数值进行调整,并指定数据类型为ui\n",
    "    trans_table[trans_table>255] = 255\n",
    "    trans_table[trans_table<0] = 0\n",
    "    trans_table = np. round (trans_table) .astype (np.uint8)\n",
    "#使用0penCV的look up table 函数修改图像的灰度值\n",
    "    return cv2.LUT(img, trans_table)\n",
    "\n",
    "cv2.imshow('org', im)\n",
    "#反转\n",
    "im_inversion = linear_trans(im, -1, 255)\n",
    "cv2.imshow('inversion', im_inversion)\n",
    "#灰度拉伸\n",
    "im_stretch = linear_trans (im, 1.2)\n",
    "cv2.imshow('graystretch', im_stretch)\n",
    "#灰度压缩\n",
    "im_compress = linear_trans(im, 0.8)\n",
    "cv2.imshow('graycompress', im_compress)\n",
    "cv2.waitKey()\n",
    "cv2.destroyAllWindows()"
   ]
  },
  {
   "cell_type": "markdown",
   "id": "e5298bd9-a029-465d-a148-9ee193b1ba52",
   "metadata": {},
   "source": [
    "# 灰度变化步骤二 伽马变化 "
   ]
  },
  {
   "cell_type": "code",
   "execution_count": 5,
   "id": "909bacd0-4712-432c-abf4-238b7c3b43e0",
   "metadata": {},
   "outputs": [],
   "source": [
    "def gamma_trans (img, gamma):\n",
    "#先归一化到1，做伽马计算，再还原到[0,255]\n",
    "    gamma_list = [np.power(x / 255.0, gamma) * 255.0 for x in range(256) ]\n",
    "#将列表转换为np.array,并指定数据类型为uint8\n",
    "    gamma_table = np.round(np.array(gamma_list)).astype(np.uint8)\n",
    "#使用OpenCV的look up table 函数修改图像的灰度值\n",
    "    return cv2.LUT(img, gamma_table)\n",
    "cv2.imshow('org', im)\n",
    "#使用伽马值为0.5的变化，实现对暗部的拉升，亮部的压缩\n",
    "im_gama05 = gamma_trans (im, 0.5)\n",
    "cv2.imshow('gama0.5', im_gama05)\n",
    "#使用伽马值为2的变化，实现对亮部的拉升，暗部的压缩\n",
    "im_gama2 = gamma_trans(im, 2)\n",
    "cv2.imshow('gama2', im_gama2)\n",
    "cv2.waitKey()\n",
    "cv2.destroyAllWindows ()"
   ]
  }
 ],
 "metadata": {
  "kernelspec": {
   "display_name": "Python 3 (ipykernel)",
   "language": "python",
   "name": "python3"
  },
  "language_info": {
   "codemirror_mode": {
    "name": "ipython",
    "version": 3
   },
   "file_extension": ".py",
   "mimetype": "text/x-python",
   "name": "python",
   "nbconvert_exporter": "python",
   "pygments_lexer": "ipython3",
   "version": "3.9.7"
  }
 },
 "nbformat": 4,
 "nbformat_minor": 5
}
