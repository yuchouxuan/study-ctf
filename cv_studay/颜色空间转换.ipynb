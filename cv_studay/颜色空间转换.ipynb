{
 "cells": [
  {
   "cell_type": "code",
   "execution_count": null,
   "id": "e3b03e19-89f1-4151-a016-a73e784a1016",
   "metadata": {},
   "outputs": [],
   "source": [
    "import cv2\n",
    "im = cv2.imread(\"lena.jpg\")\n",
    "from matplotlib import pyplot as plt\n",
    "plt.imshow(im)"
   ]
  },
  {
   "cell_type": "markdown",
   "id": "28da300c-3d01-4c47-81d7-ed236291b3c4",
   "metadata": {},
   "source": [
    "# BGR ->RGB /HSV /Gray"
   ]
  },
  {
   "cell_type": "code",
   "execution_count": null,
   "id": "b8c513d6-50d4-4d55-8b99-6223a243f742",
   "metadata": {},
   "outputs": [],
   "source": [
    "plt.subplot(1,3,1)\n",
    "im_rgb = cv2.cvtColor(im, cv2.COLOR_BGR2RGB)\n",
    "plt.imshow(im_rgb)\n",
    "\n",
    "plt.subplot(1,3,2)\n",
    "im_hsv = cv2.cvtColor(im, cv2.COLOR_BGR2HSV)\n",
    "plt.imshow(im_hsv)\n",
    "\n",
    "plt.subplot(1,3,3)\n",
    "img_gray = cv2.cvtColor(im, cv2.COLOR_BGR2GRAY)\n",
    "plt.imshow(img_gray)\n",
    "\n",
    "plt.show()"
   ]
  },
  {
   "cell_type": "markdown",
   "id": "90ca4d7d-d2c8-4ea9-8859-ec9cf61fae1f",
   "metadata": {},
   "source": [
    "# 直方图"
   ]
  },
  {
   "cell_type": "code",
   "execution_count": null,
   "id": "967b6059-601e-4e61-8902-d88729954a4d",
   "metadata": {},
   "outputs": [],
   "source": [
    "plt.figure(figsize=(26,4))\n",
    "\n",
    "# 灰度直方图\n",
    "plt.subplot(1,2,2)\n",
    "plt.hist(im.ravel(),256,[0,256])\n",
    "\n",
    "plt.subplot(1,2,1)\n",
    "im = cv2.imread(\"lena.jpg\",0)\n",
    "plt.imshow(im,cmap='gray')\n",
    "plt.show()\n",
    "\n",
    "plt.figure(figsize=(26,4))\n",
    "plt.subplot(1,2,1)\n",
    "im_equ1= cv2.equalizeHist(im)\n",
    "plt.imshow(im_equ1,cmap='gray')\n",
    "\n",
    "\n",
    "#显示原始图像的直方图\n",
    "plt.subplot(1,2,2)\n",
    "plt.hist(im.ravel(),255,[0,255],label='org')\n",
    "# plt.legend()\n",
    "\n",
    "#显示均衡化图像的直方图\n",
    "# plt.subplot(1,3,3)\n",
    "plt.hist(im_equ1.ravel(),256,[0,256],label='equalize')\n",
    "plt.legend()\n",
    "plt.show()\n",
    "\n",
    "im = cv2.imread(\"lena.jpg\")"
   ]
  },
  {
   "cell_type": "markdown",
   "id": "e82061b7-4b98-4b6d-91dd-ac2ede1c8a1b",
   "metadata": {},
   "source": [
    "# BGR/YCrCb"
   ]
  },
  {
   "cell_type": "code",
   "execution_count": null,
   "id": "8e58518c-68c2-4d4c-90d4-dd80c518689c",
   "metadata": {},
   "outputs": [],
   "source": [
    "import numpy as np, cv2, matplotlib.pyplot as plt\n",
    "# img = jpegio.read('/mnt/z/ctf/5.jpg')\n",
    "def ycrcb_to_bgr_nocv(Y,Cb,Cr): # YCbCr转RGB\n",
    "    Y+=128\n",
    "    R =int(round( Y + 1.402* (Cr)))\n",
    "    G= int(round(Y - 0.34414* (Cb) - 0.71414* (Cr)))\n",
    "    B= int(round(Y + 1.772* (Cb)))\n",
    "    print(f\"No_CV2: YCbCr:{list(map(int,[Y,Cb+128,Cr+128]))}  ->  BGR=[{B},{G},{R}]\")\n",
    "    return B,G,R\n",
    "def ycrcb_to_bgr(Y,Cr,Cb,): # YCbCr转RGB\n",
    "    # 因为cv库要操作的是图片，所以要生成一个1行1列的数组，也就是1个像素的图片\n",
    "    npn = np.array([[[Y+128,Cb+128,Cr+128]]]) \n",
    "    npn =npn.astype(np.uint8) # 转为8位无符号量\n",
    "    B,G,R = cv2.cvtColor(npn,cv2.COLOR_YCrCb2BGR)[0,0]\n",
    "    print(f\"CV2 YCbCr:{list(npn[0,0])}  ->  BGR=[{B},{G},{R}]\")\n",
    "    return B,G,R\n",
    "\n"
   ]
  },
  {
   "cell_type": "code",
   "execution_count": null,
   "id": "eafa6a22-8694-4dba-9380-5043d3c12c36",
   "metadata": {},
   "outputs": [],
   "source": [
    "import turbojpeg  as tj "
   ]
  },
  {
   "cell_type": "code",
   "execution_count": null,
   "id": "c8040779-5bfe-49a2-810f-15721e09bfaf",
   "metadata": {},
   "outputs": [],
   "source": []
  }
 ],
 "metadata": {
  "kernelspec": {
   "display_name": "Python 3 (ipykernel)",
   "language": "python",
   "name": "python3"
  },
  "language_info": {
   "codemirror_mode": {
    "name": "ipython",
    "version": 3
   },
   "file_extension": ".py",
   "mimetype": "text/x-python",
   "name": "python",
   "nbconvert_exporter": "python",
   "pygments_lexer": "ipython3",
   "version": "3.11.1"
  }
 },
 "nbformat": 4,
 "nbformat_minor": 5
}
