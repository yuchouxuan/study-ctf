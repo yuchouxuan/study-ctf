{
 "cells": [
  {
   "cell_type": "code",
   "execution_count": null,
   "metadata": {},
   "outputs": [],
   "source": [
    "import bs4 ,requests ,utfc.StrFunc as sf,tqdm.notebook as tqdm\n",
    "# bs4.BeautifulSoup()\n",
    "urllist='https://www.samrela.com/student/my_course.do'\n",
    "urlheartbit='https://www.samrela.com/portal/seekNew.do'\n",
    "header='''Accept:text/html,application/xhtml+xml,application/xml;q=0.9,image/avif,image/webp,image/apng,*/*;q=0.8,application/signed-exchange;v=b3;q=0.7\n",
    "Accept-Encoding:gzip, deflate, br\n",
    "Accept-Language:zh-CN,zh;q=0.9,en;q=0.8\n",
    "Cache-Control:max-age=0\n",
    "Content-Length:108\n",
    "Content-Type:application/x-www-form-urlencoded\n",
    "Origin:https://www.samrela.com\n",
    "Referer:https://www.samrela.com/student/my_course.do\n",
    "Sec-Ch-Ua:\"Chromium\";v=\"118\", \"Google Chrome\";v=\"118\", \"Not=A?Brand\";v=\"99\"\n",
    "Sec-Ch-Ua-Mobile:?0\n",
    "Sec-Ch-Ua-Platform:\"Windows\"\n",
    "Sec-Fetch-Dest:document\n",
    "Sec-Fetch-Mode:navigate\n",
    "Sec-Fetch-Site:same-origin\n",
    "Sec-Fetch-User:?1\n",
    "Upgrade-Insecure-Requests:1\n",
    "User-Agent:Mozilla/5.0 (Windows NT 10.0; Win64; x64) AppleWebKit/537.36 (KHTML, like Gecko) Chrome/118.0.0.0 Safari/537.36'''\n",
    "header = sf.CharF.str2Dir(header)\n",
    "cookies='aliyungf_tc=f9903b83fe52c5c25efb215332b3713b85275c01c2a555410ff54d61ee8eabfe; acw_tc=0bc5047116987209564335566ead1671d3c8794c610276d548e2f4fe69a380; SESSION=YzQyNjYzMWQtMzEyZC00Y2M1LTgzOTAtNGRlOWQwYjMzNTVl; Hm_lvt_2a44bcedc6cb4650939a4a8eac1adfb9=1698720958; Hm_lpvt_2a44bcedc6cb4650939a4a8eac1adfb9=1698722431'\n",
    "cookies=sf.CharF.str2Dir(cookies,';','=')\n",
    "ses=requests.session()\n",
    "\n",
    "def flash_list():\n",
    "    global ses,header,cookies\n",
    "    slist = []\n",
    "    for i in range(20):\n",
    "        postdata = f'pageType=%24%7Btype%7D&searchType=1&pageType=%24%7Btype%7D&rowCount=44&menu=course&pageSize=10&currentPage={i+1}'\n",
    "        postdata = sf.CharF.str2Dir(postdata,'&','=')\n",
    "        # print(postdata)\n",
    "        htmplist=ses.post(urllist,data=postdata,cookies=cookies,headers=header).text\n",
    "        listx = bs4.BeautifulSoup(htmplist,\"html.parser\")\n",
    "        for row in listx.find_all(class_='hoz_course_row'):\n",
    "            try:\n",
    "                name = row.find_all(class_='hoz_course_name')[0].text\n",
    "                id = row.find_all(class_='fr btn_group')[0].find_all('input')[0]['onclick'].split('(')[1].replace(')','')\n",
    "                sid=row.find_all(class_=\"hoz_course_name\")[0].findAll('a')[0]['href'].split('courseId=')[1]\n",
    "                proc=row.find_all(class_='h_pro_percent')[0].text\n",
    "                slist.append((name,id,sid,proc))\n",
    "            except:\n",
    "                pass \n",
    "    return slist\n",
    "import os,datetime as dtt ,time\n",
    "icont = 1\n",
    "slist=flash_list()\n",
    "while len(slist)>0:\n",
    "    if icont%10 ==0:\n",
    "        slist=flash_list()\n",
    "        os.system('clear')\n",
    "        for i in slist[::-1]:\n",
    "            print(i[0],i[1],i[2])\n",
    "    t=dtt.datetime.now()\n",
    "    heartbit='id=73263211&serializeSco={\"res01\":{\"lesson_location\":2457,\"session_time\":30,\"last_learn_time\":\"_TTT_\"},\"last_study_sco\":\"res01\"}&duration=30&study_course=b0fef2ffad3f44688b0d7961174a4aa7'\n",
    "    heartbit=heartbit.replace('_TTT_',f'{t.year}-{t.month}-{t.day} -{t.hour}:{t.minute}:{t.second}')\n",
    "    heartbit=sf.CharF.str2Dir(heartbit,'&','=')\n",
    "    heartbit['id'] = f'{slist[0][0]}'\n",
    "    ses.post(urlheartbit,data=heartbit,cookies=cookies,headers=header)\n",
    "    time.sleep(0.5)\n",
    "    icont+=1\n",
    "    "
   ]
  },
  {
   "cell_type": "code",
   "execution_count": 124,
   "metadata": {},
   "outputs": [
    {
     "data": {
      "text/plain": [
       "'9191'"
      ]
     },
     "execution_count": 124,
     "metadata": {},
     "output_type": "execute_result"
    }
   ],
   "source": [
    "a = \n",
    "a"
   ]
  }
 ],
 "metadata": {
  "kernelspec": {
   "display_name": "Python 3",
   "language": "python",
   "name": "python3"
  },
  "language_info": {
   "codemirror_mode": {
    "name": "ipython",
    "version": 3
   },
   "file_extension": ".py",
   "mimetype": "text/x-python",
   "name": "python",
   "nbconvert_exporter": "python",
   "pygments_lexer": "ipython3",
   "version": "3.10.8"
  },
  "orig_nbformat": 4
 },
 "nbformat": 4,
 "nbformat_minor": 2
}
