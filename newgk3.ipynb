{
 "cells": [
  {
   "cell_type": "code",
   "execution_count": null,
   "metadata": {},
   "outputs": [
    {
     "name": "stdout",
     "output_type": "stream",
     "text": [
      "WEB 200\n"
     ]
    },
    {
     "data": {
      "text/plain": [
       "{'id': '214872697',\n",
       " 'duration': '5',\n",
       " 'serializeSco': '{\"res01\":{\"lesson_location\":1738,\"session_time\":5,\"last_learn_time\":\"2023-12-13+15:39:23\"},\"last_study_sco\":\"res01\"}',\n",
       " 'study_course': '7289'}"
      ]
     },
     "execution_count": 96,
     "metadata": {},
     "output_type": "execute_result"
    }
   ],
   "source": [
    "import requests ,re\n",
    "from bs4 import BeautifulSoup \n",
    "url = 'https://www.hebgb.gov.cn/student/class_detail_course.do?cid=14381&elective_type=2&menu=myclass&tab_index=1'\n",
    "cookie = {'Path':'/','SESSION':'383d396a-771c-48b5-8557-af0a0664f535'}\n",
    "ses = requests.session()\n",
    "print('WEB',ses.get(url,cookies=cookie).status_code)\n",
    "def getlist(ses):\n",
    "    htmplist = ses.get(url,cookies=cookie).text\n",
    "    listx = BeautifulSoup(htmplist,\"html.parser\")\n",
    "    items = []\n",
    "    for item in listx.find_all(class_='hoz_course_row')[:]:\n",
    "        title = item.a.text\n",
    "        percent=float(item.find_all(class_=\"h_pro_percent\")[0].text.replace('%',''))\n",
    "        ID= re.findall(r'([0-9]+)', item.input['onclick'])[0] \n",
    "        curse  = item.a.attrs['href'].split('=')[-1]\n",
    "        if percent < 100:\n",
    "            items.append([title,percent,ID,curse]) \n",
    "    return items \n",
    "\n",
    "url_hb='https://www.hebgb.gov.cn/portal/seekNew.do'\n",
    "\n",
    "\n",
    "import time,os\n",
    "while len(LessList:=getlist(ses)) >0:\n",
    "    os.system('cls')\n",
    "    for i in LessList:\n",
    "        print(i)\n",
    "    less= LessList[0]\n",
    "    for i in range(10):\n",
    "        data = {'id':less[2],'duration':'5',\n",
    "                'serializeSco':'{\"res01\":{\"lesson_location\":1738,\"session_time\":5,\"last_learn_time\":\"_t_\"},\"last_study_sco\":\"res01\"}'.replace('_t_',  datetime.datetime.now().strftime('%Y-%m-%d+%H:%M:%S')),\n",
    "                'study_course':less[3]}\n",
    "        ses.post(url_hb,data=data)\n",
    "    "
   ]
  },
  {
   "cell_type": "code",
   "execution_count": null,
   "metadata": {},
   "outputs": [],
   "source": [
    "x=[238, 228, 233, 239, 243, 240, 231, 218, 215, 225, 189, 215, 225, 230, 254, 237, 250, 252, 225, 234, 228, 237, 245, 9]\n",
    "for i in x: \n",
    "    print(chr(i^0x88),end='')"
   ]
  }
 ],
 "metadata": {
  "kernelspec": {
   "display_name": "Python 3",
   "language": "python",
   "name": "python3"
  },
  "language_info": {
   "codemirror_mode": {
    "name": "ipython",
    "version": 3
   },
   "file_extension": ".py",
   "mimetype": "text/x-python",
   "name": "python",
   "nbconvert_exporter": "python",
   "pygments_lexer": "ipython3",
   "version": "3.10.8"
  },
  "orig_nbformat": 4
 },
 "nbformat": 4,
 "nbformat_minor": 2
}
