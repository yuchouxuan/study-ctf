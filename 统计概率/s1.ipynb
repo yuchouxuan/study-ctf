{
 "cells": [
  {
   "cell_type": "code",
   "execution_count": 7,
   "metadata": {},
   "outputs": [],
   "source": [
    "import sklearn ,pandas as pds \n",
    "import numpy as np\n",
    "import matplotlib.pyplot as plt\n",
    "import torch\n",
    "import torch.nn as nn\n",
    "import torch.optim as optim\n",
    "import torch.nn.functional as F\n",
    "from sklearn.metrics import accuracy_score\n",
    "\n",
    "'''加载鸢尾花数据集'''\n",
    "data = sklearn.datasets.load_iris()\n",
    "X= np.array(data['data'])\n",
    "Y = [y for y in  data['target']]\n",
    "tn = ['setosa', 'versicolor', 'virginica']\n",
    "'''归一化'''\n",
    "X = (X-X.min(0))/(X.max(0)-X.min(0)) "
   ]
  },
  {
   "cell_type": "markdown",
   "metadata": {},
   "source": [
    "# 网络定义"
   ]
  },
  {
   "cell_type": "markdown",
   "metadata": {},
   "source": [
    "## 模糊层"
   ]
  },
  {
   "cell_type": "code",
   "execution_count": 8,
   "metadata": {},
   "outputs": [],
   "source": [
    "class FurzzyLear(nn.Module):\n",
    "    \n",
    "    def Furzzy(self,in_v):\n",
    "        # print()\n",
    "        xrange = torch.linspace(0,1,self.Fuz_size) \n",
    "        def getNormal( u,sigma,x=xrange ):\n",
    "            '''高斯分布（正态分布）'''\n",
    "            r = (-(xrange-u)**2/2/sigma**2)\n",
    "            return torch.pow(torch.Tensor([torch.e]),r)/(np.sqrt(2*torch.pi)*sigma)\n",
    "                \n",
    "        arr=[]\n",
    "        if len(in_v.shape) == 1:\n",
    "            for i in in_v :\n",
    "                arr.extend(getNormal(i,self.sigma))\n",
    "            return torch.FloatTensor(arr)\n",
    "        else:\n",
    "            for j in in_v:\n",
    "                line = []\n",
    "                for i in j :\n",
    "                    line.extend(getNormal(i,self.sigma))\n",
    "                arr.append(line)\n",
    "            return torch.FloatTensor(arr)\n",
    "\n",
    "    def __init__(self,input_size , Fuz_size,Furzzyfunc=None):\n",
    "        super(FurzzyLear, self).__init__()\n",
    "        self.sigma=0.1\n",
    "        self.Fuz_size =Fuz_size\n",
    "        if Furzzyfunc is None:\n",
    "            self.FuncFurzzy=self.Furzzy \n",
    "        else:\n",
    "            self.FuncFurzzy=Furzzyfunc\n",
    "\n",
    "    def forward(self,x):\n",
    "        return self.FuncFurzzy(x)\n"
   ]
  },
  {
   "cell_type": "markdown",
   "metadata": {},
   "source": [
    "## 主神经网络"
   ]
  },
  {
   "cell_type": "code",
   "execution_count": 9,
   "metadata": {},
   "outputs": [],
   "source": [
    "class Net(nn.Module):\n",
    "    def __init__(self,input_size ,output_size,Fuz_size=32,Furzzyfunc=None  ):\n",
    "        super(Net, self).__init__()\n",
    "        \n",
    "        '''模糊层'''\n",
    "        # 特征向量->无梯度张量。\n",
    "        self.fl = FurzzyLear(input_size,Fuz_size)\n",
    "\n",
    "        #全连接层，用于短路掉模糊层， \n",
    "        #实验不使用模糊矩阵算法时的推理效果\n",
    "        self.BypassFurzzyLear = nn.Sequential(\n",
    "            nn.Linear(input_size, input_size*Fuz_size),\n",
    "            nn.ReLU(),\n",
    "        )\n",
    "      \n",
    "        ''' \n",
    "        全连接推理层,\n",
    "        '''\n",
    "        self.FCN = nn.Sequential(\n",
    "            nn.Linear(input_size*Fuz_size, input_size*Fuz_size,),\n",
    "            nn.ReLU(),\n",
    "            nn.Linear(input_size*Fuz_size, input_size*Fuz_size,),\n",
    "            nn.ReLU(),\n",
    "            # nn.Linear(input_size*Fuz_size, input_size*Fuz_size,),\n",
    "            # nn.ReLU(),\n",
    "        )\n",
    "        \n",
    "        #清晰化层\n",
    "        self.uFuzL= nn.Linear(input_size*Fuz_size, output_size)\n",
    "\n",
    "        #输出层\n",
    "        self.lout = nn.Softmax(dim=0)\n",
    "        \n",
    "    def forward(self, x):\n",
    "        \n",
    "        '模糊层'\n",
    "        x = self.fl(x) \n",
    "        # x = self.BypassFurzzyLear(x)\n",
    "\n",
    "        '全连接推理'\n",
    "        x=self.FCN(x)\n",
    "        '退模糊层-输出层'\n",
    "        x =F.sigmoid( self.uFuzL(x))\n",
    "        '''\n",
    "            softmax层输出，交叉熵不需要这一层\n",
    "            最后用torch.argmax 提取概率最大的分类值即可。\n",
    "        '''\n",
    "        # x =  self.lout(x)\n",
    "        return x"
   ]
  },
  {
   "cell_type": "markdown",
   "metadata": {},
   "source": [
    "# 训练"
   ]
  },
  {
   "cell_type": "code",
   "execution_count": 11,
   "metadata": {},
   "outputs": [],
   "source": [
    "from sklearn.metrics import confusion_matrix,ConfusionMatrixDisplay\n",
    "from poutyne import Model\n",
    "import torch\n",
    "import torch.nn as nn\n",
    "import numpy as np\n",
    "\n",
    "def train(sigma=0.01,fuz_zise=32,epochs=10,test_size=0.01,device='cpu'):\n",
    "\n",
    "    \n",
    "    '''\n",
    "    训练时重置数据集和神经网络，防止混淆、重训练\n",
    "    '''\n",
    "    net  = Net(4,3,Fuz_size=fuz_zise) # 默认模糊层是正态分布，sigma=0.1 \n",
    "    net.fl.sigma=sigma\n",
    "    xtrain,xtest,ytrain,ytest =sklearn.model_selection.train_test_split(X,Y,test_size=test_size,random_state=100)\n",
    "    ytrain = torch.LongTensor(ytrain)\n",
    "    ytest = torch.LongTensor(ytest)\n",
    "    xtrain = torch.FloatTensor(xtrain)\n",
    "    xtest = torch.FloatTensor(xtest)\n",
    "\n",
    "    model = Model(net, 'adam', 'cross_entropy',\n",
    "                batch_metrics=['accuracy'], epoch_metrics=['f1'],device=device)\n",
    "    trainlog = model.fit(\n",
    "        xtrain, ytrain,\n",
    "        validation_data=(xtrain, ytrain),\n",
    "        epochs=epochs,\n",
    "        batch_size=5 \n",
    "        )\n",
    "\n",
    "    l,vl,acc,vacc =[], [],[], []\n",
    "    for i in trainlog:\n",
    "        l.append(i['loss'])\n",
    "        vl.append(i['val_loss'])\n",
    "        acc.append(i['acc'])\n",
    "        vacc.append(i['val_acc'])\n",
    "\n",
    "    plt.figure(figsize=(10,5))\n",
    "    grid = plt.GridSpec(2, 2, wspace=0.5, hspace=0.5)\n",
    "    plt.subplot(grid[0,0])\n",
    "    plt.title('T-loss')\n",
    "    plt.plot(l )\n",
    "    plt.subplot(grid[1,0])\n",
    "    plt.plot(vl)\n",
    "    plt.title('V-loss')\n",
    "    p= net(xtest) \n",
    "    p = [int(torch.argmax(i))for i in p]\n",
    "    aix = plt.subplot(grid[:,1],)\n",
    "    aix.set_title(f'sigma={net.fl.sigma}')\n",
    "    disp = ConfusionMatrixDisplay(confusion_matrix(ytest,p) ,display_labels=tn)\n",
    "    disp.plot(cmap=plt.cm.Blues,ax=aix)\n",
    "    plt.show()\n"
   ]
  },
  {
   "cell_type": "code",
   "execution_count": 21,
   "metadata": {},
   "outputs": [
    {
     "name": "stdout",
     "output_type": "stream",
     "text": [
      "\u001b[35mEpoch: \u001b[36m1/5 \u001b[35mStep: \u001b[36m 1/24 \u001b[35m  4.17% |\u001b[35m▊                   \u001b[35m|\u001b[35mETA: \u001b[32m0.18s \u001b[35mloss:\u001b[94m 1.095824\u001b[35m acc:\u001b[94m 40.000000"
     ]
    },
    {
     "name": "stdout",
     "output_type": "stream",
     "text": [
      "\u001b[35mEpoch: \u001b[36m1/5 \u001b[35mTrain steps: \u001b[36m24 \u001b[35mVal steps: \u001b[36m24 \u001b[32m0.33s \u001b[35mloss:\u001b[94m 0.892435\u001b[35m acc:\u001b[94m 78.333334\u001b[35m fscore_macro:\u001b[94m 0.781083\u001b[35m val_loss:\u001b[94m 0.679926\u001b[35m val_acc:\u001b[94m 96.666667\u001b[35m val_fscore_macro:\u001b[94m 0.966460\u001b[0m\n",
      "\u001b[35mEpoch: \u001b[36m2/5 \u001b[35mTrain steps: \u001b[36m24 \u001b[35mVal steps: \u001b[36m24 \u001b[32m0.40s \u001b[35mloss:\u001b[94m 0.622782\u001b[35m acc:\u001b[94m 95.833333\u001b[35m fscore_macro:\u001b[94m 0.957924\u001b[35m val_loss:\u001b[94m 0.589913\u001b[35m val_acc:\u001b[94m 95.833333\u001b[35m val_fscore_macro:\u001b[94m 0.958211\u001b[0m\n",
      "\u001b[35mEpoch: \u001b[36m3/5 \u001b[35mTrain steps: \u001b[36m24 \u001b[35mVal steps: \u001b[36m24 \u001b[32m0.38s \u001b[35mloss:\u001b[94m 0.587890\u001b[35m acc:\u001b[94m 95.833333\u001b[35m fscore_macro:\u001b[94m 0.958442\u001b[35m val_loss:\u001b[94m 0.579781\u001b[35m val_acc:\u001b[94m 97.500000\u001b[35m val_fscore_macro:\u001b[94m 0.975172\u001b[0m\n",
      "\u001b[35mEpoch: \u001b[36m4/5 \u001b[35mTrain steps: \u001b[36m24 \u001b[35mVal steps: \u001b[36m24 \u001b[32m0.34s \u001b[35mloss:\u001b[94m 0.579468\u001b[35m acc:\u001b[94m 96.666667\u001b[35m fscore_macro:\u001b[94m 0.966952\u001b[35m val_loss:\u001b[94m 0.575541\u001b[35m val_acc:\u001b[94m 97.500000\u001b[35m val_fscore_macro:\u001b[94m 0.975065\u001b[0m\n",
      "\u001b[35mEpoch: \u001b[36m5/5 \u001b[35mTrain steps: \u001b[36m24 \u001b[35mVal steps: \u001b[36m24 \u001b[32m0.33s \u001b[35mloss:\u001b[94m 0.584660\u001b[35m acc:\u001b[94m 96.666667\u001b[35m fscore_macro:\u001b[94m 0.966667\u001b[35m val_loss:\u001b[94m 0.575041\u001b[35m val_acc:\u001b[94m 97.500000\u001b[35m val_fscore_macro:\u001b[94m 0.975248\u001b[0m\n"
     ]
    },
    {
     "data": {
      "image/png": "[encoded data removed]",
      "text/plain": [
       "<Figure size 1000x500 with 4 Axes>"
      ]
     },
     "metadata": {},
     "output_type": "display_data"
    }
   ],
   "source": [
    "train(sigma=0.1,fuz_zise=32,epochs=5,test_size=0.2,device='cpu')"
   ]
  },
  {
   "cell_type": "code",
   "execution_count": 97,
   "metadata": {},
   "outputs": [
    {
     "name": "stdout",
     "output_type": "stream",
     "text": [
      "tensor([[1.8054],\n",
      "        [2.3617],\n",
      "        [2.9181],\n",
      "        [3.4745]], grad_fn=<MmBackward0>)\n"
     ]
    },
    {
     "data": {
      "text/plain": [
       "2.362"
      ]
     },
     "execution_count": 97,
     "metadata": {},
     "output_type": "execute_result"
    }
   ],
   "source": [
    "R = torch.FloatTensor([[1,2,3,4],[5,6,7,8],[9,10,11,12]])\n",
    "# w = nn.Linear(3,1,bias=False) \n",
    "\n",
    "R=R.transpose(1,0)\n",
    "# 这就是R*W  可以训出一个W来\n",
    "w(R)\n",
    "\n",
    "\n",
    "0.3890+5* 0.0225+9* 0.1449\n",
    "2*0.3890+6* 0.0225+10* 0.1449"
   ]
  }
 ],
 "metadata": {
  "kernelspec": {
   "display_name": "Python 3",
   "language": "python",
   "name": "python3"
  },
  "language_info": {
   "codemirror_mode": {
    "name": "ipython",
    "version": 3
   },
   "file_extension": ".py",
   "mimetype": "text/x-python",
   "name": "python",
   "nbconvert_exporter": "python",
   "pygments_lexer": "ipython3",
   "version": "3.12.1"
  }
 },
 "nbformat": 4,
 "nbformat_minor": 2
}
